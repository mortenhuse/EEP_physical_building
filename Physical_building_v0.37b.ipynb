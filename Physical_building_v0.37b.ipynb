{
 "cells": [
  {
   "cell_type": "markdown",
   "metadata": {
    "ExecuteTime": {
     "end_time": "2021-01-11T09:07:14.030162Z",
     "start_time": "2021-01-11T09:07:14.025945Z"
    }
   },
   "source": [
    "# Physical Building by EEP v0.37 - Generate structure for physical building in EEP \n",
    "[HOME](https://eepcloud.ngrok.io)"
   ]
  },
  {
   "cell_type": "markdown",
   "metadata": {},
   "source": [
    "This program lets the user create new physical buildings, add rooms to existing physical buildings and add metadata to existing physical buildings in EEP.\n",
    "1. Log in to EEP (Choose 'energima' for production and 'energima'dev' for testing purposes\n",
    "2. Choose create new, add rooms, edit rooms or update metadata\n",
    "3. Follow the GUI process for each task. The GUI dumps a print of the changes as a final check. If changes are correct, go a head and upload to EEP with the final button (for each task)\n",
    "4. After finishing the task (and uploading to EEP). A refresh of the page (press HOME) and enter the GUI again, is the safest way to see that all changes have been applied before starting your new task."
   ]
  },
  {
   "cell_type": "markdown",
   "metadata": {},
   "source": [
    "***"
   ]
  },
  {
   "cell_type": "code",
   "execution_count": 1,
   "metadata": {
    "ExecuteTime": {
     "end_time": "2021-10-13T19:19:58.098049Z",
     "start_time": "2021-10-13T19:19:56.697274Z"
    }
   },
   "outputs": [],
   "source": [
    "import pandas as pd\n",
    "import numpy as np\n",
    "import matplotlib.pyplot as plt\n",
    "import datetime, time, sys\n",
    "\n",
    "\n",
    "base_path = '/home/mortenhuse/EEP_projects/EEP_DataExtractor_pipeline'\n",
    "\n",
    "if base_path not in sys.path:\n",
    "    sys.path.append(base_path)\n",
    "#print(sys.path)\n",
    "from eep.client import GenTimeSeriesAPI, PhysicalBuildingAPI\n",
    "\n",
    "from cognite.client import CogniteClient\n",
    "from cognite.client.data_classes import AssetUpdate, LabelFilter\n",
    "from cognite.client.utils import ms_to_datetime\n",
    "\n",
    "import ipywidgets as widgets\n",
    "from ipywidgets import interact, interactive, fixed, interact_manual, Layout\n",
    "from IPython.display import display\n",
    "\n",
    "import warnings\n",
    "warnings.filterwarnings(\"ignore\")\n",
    "\n",
    "pd.set_option('display.max_rows', 1000)\n",
    "pd.set_option('display.max_columns', 500)\n",
    "pd.set_option('display.width', 1000)\n",
    "pd.set_option('display.max_colwidth', 1000)"
   ]
  },
  {
   "cell_type": "code",
   "execution_count": 2,
   "metadata": {
    "ExecuteTime": {
     "end_time": "2021-10-13T19:19:58.121830Z",
     "start_time": "2021-10-13T19:19:58.101443Z"
    }
   },
   "outputs": [],
   "source": [
    "def Convert_strings_to_list_of_floats(string): \n",
    "    li = list(string.split(\",\"))\n",
    "    conv_li = []\n",
    "    for item in li:\n",
    "        item = float(item)\n",
    "        conv_li.append(item)\n",
    "    return conv_li\n",
    "\n",
    "def Convert_string_to_tuple(string):\n",
    "    res = tuple(map(int, string.split(','))) \n",
    "    return res\n",
    "\n",
    "def df_columns_inst_to_list_of_tuples(df, col_name):\n",
    "    list_of_tuples = []\n",
    "    col_series = df[str(col_name)]\n",
    "    col_series = col_series.sort_values(ascending=True)\n",
    "    for index, val in col_series.iteritems():\n",
    "        list_of_tuples.append((val, index))\n",
    "    \n",
    "    return list_of_tuples\n",
    "\n",
    "def Convert_semicol_string_to_list_of_tuples(string):\n",
    "    new_list = []\n",
    "    #string = txt_period_list.value\n",
    "    list_string = string.split(';')\n",
    "    \n",
    "    for item in list_string:\n",
    "        \n",
    "        clean_item = item.replace('(','').replace(')','').replace('','')\n",
    "        tup_item = tuple(map(int, clean_item.split(',')))\n",
    "        new_list.append(tup_item)\n",
    "    \n",
    "    return new_list\n",
    "\n",
    "def Convert_col_string_to_list_of_ints(string):\n",
    "    new_list = []\n",
    "    #string = txt_period_list.value\n",
    "    list_string = string.split(',')\n",
    "    \n",
    "    for item in list_string:\n",
    "        \n",
    "        clean_item = int(item)\n",
    "        #tup_item = tuple(map(int, clean_item.split(',')))\n",
    "        new_list.append(clean_item)\n",
    "    \n",
    "    return new_list\n",
    "\n",
    "def get_phys_building(c, active_root_asset_extId, level_str='=2'):\n",
    "    #print(active_root_asset_extId)\n",
    "    \n",
    "    try:\n",
    "        building = c.assets.retrieve_subtree(external_id = active_root_asset_extId, depth=2).to_pandas()\n",
    "        found_subbuild = building['externalId'].str.contains(level_str)\n",
    "        index_match = found_subbuild[found_subbuild].index.values\n",
    "    except:\n",
    "        index_match = 0\n",
    "\n",
    "    if len(index_match) > 0:\n",
    "        building_prefix = building.iloc[index_match[0]].externalId\n",
    "        #print(building_prefix)\n",
    "        AH_phys_build = c.assets.list(root=False, external_id_prefix = building_prefix, limit=-1)\n",
    "        \n",
    "    else:\n",
    "        #print('No physbuild found under rootAsset')\n",
    "        AH_phys_build = pd.DataFrame()\n",
    "        \n",
    "    return AH_phys_build\n",
    "\n",
    "def find_item_on_level_in_phys_building(c, root_asset, building_level = ['floor']):\n",
    "    \n",
    "    \"\"\"\n",
    "    Filters out the different parts (\"room\", \"floor\",\"building\",\"sub_building\") of a building physical hierarcy\n",
    "    \n",
    "    Input:\n",
    "    root_asset externalId (str)\n",
    "    filter criterias ('room', 'floor', 'sub_building', 'building') list\n",
    "    \n",
    "    Output:\n",
    "    list of matched externalId\n",
    "    \n",
    "    \"\"\"\n",
    "        \n",
    "    my_label_filter = LabelFilter(contains_any=building_level)\n",
    "    asset_list = c.assets.list(root_external_ids=str(root_asset), labels=my_label_filter, limit=-1)\n",
    "    return asset_list\n",
    "\n",
    "def find_item_on_level_in_phys_building_AAA(c, AAA_asset, building_level = ['floor']):\n",
    "    \n",
    "    \"\"\"\n",
    "    Filters out the different parts (\"room\", \"floor\",\"building\",\"sub_building\") of a building physical hierarcy\n",
    "    \n",
    "    Input:\n",
    "    root_asset externalId (str)\n",
    "    filter criterias ('room', 'floor', 'sub_building', 'building') list\n",
    "    \n",
    "    Output:\n",
    "    list of matched externalId\n",
    "    \n",
    "    \"\"\"\n",
    "        \n",
    "    my_label_filter = LabelFilter(contains_any=building_level)\n",
    "    asset_list = c.assets.list(asset_subtree_external_ids=str(AAA_asset), labels=my_label_filter, limit=-1)\n",
    "    return asset_list\n",
    "\n",
    "def find_TFM_AAA(c, root_asset):\n",
    "    asset_list_AAA = c.assets.list(parent_external_ids=[str(root_asset)])\n",
    "    return asset_list_AAA\n",
    "\n"
   ]
  },
  {
   "cell_type": "code",
   "execution_count": 3,
   "metadata": {
    "ExecuteTime": {
     "end_time": "2021-10-13T19:19:58.132266Z",
     "start_time": "2021-10-13T19:19:58.124381Z"
    }
   },
   "outputs": [],
   "source": [
    "root_assets_list_df = pd.DataFrame()"
   ]
  },
  {
   "cell_type": "code",
   "execution_count": 4,
   "metadata": {
    "ExecuteTime": {
     "end_time": "2021-10-13T19:19:58.201905Z",
     "start_time": "2021-10-13T19:19:58.135387Z"
    }
   },
   "outputs": [
    {
     "data": {
      "application/vnd.jupyter.widget-view+json": {
       "model_id": "0f802cf8cb8d4cbebc53fabbcf57357d",
       "version_major": 2,
       "version_minor": 0
      },
      "text/plain": [
       "VBox(children=(HBox(children=(RadioButtons(options=('energima', 'energima-dev'), value='energima'), Button(des…"
      ]
     },
     "metadata": {},
     "output_type": "display_data"
    }
   ],
   "source": [
    "rbtn_cdf_login = widgets.RadioButtons(options=['energima', 'energima-dev'])\n",
    "btn_cdf_login = widgets.Button(description='Login')\n",
    "chkbx_cdf_login_show_status = widgets.Checkbox(description='Show status')\n",
    "\n",
    "output_cdf_login = widgets.Output()\n",
    "\n",
    "\n",
    "def cdf_login(p):\n",
    "    \n",
    "    global c, root_assets_list_df, building_list\n",
    "    \n",
    "    if rbtn_cdf_login.value == 'energima':\n",
    "        api_key = 'M2ExY2U1ZmItNGRkNC00ZjVlLTgwMzctZDdjN2JhZDUzMjdj'\n",
    "        c = CogniteClient(api_key=api_key, project=\"energima\", client_name=\"energima\")\n",
    "    else:\n",
    "        api_key_dev='ZmQ1NzIzNTktMmUzYi00MjA1LTg5OTYtMzc2NmNjNzZjZGRk'\n",
    "        c = CogniteClient(api_key=api_key_dev, project=\"energima-dev\", client_name=\"energima\")\n",
    "    \n",
    "    rbtn_cdf_login.disabled=True\n",
    "    btn_cdf_login.disabled = True\n",
    "    \n",
    "    #initial list of buildings\n",
    "    root_assets_list_df = c.assets.list(root=True, limit=-1).to_pandas()\n",
    "    building_list = df_columns_inst_to_list_of_tuples(root_assets_list_df, col_name='externalId')\n",
    "    inputdropdown_ah_building_index.options = building_list\n",
    "    update_building_drop_list.options = building_list\n",
    "    update_building_update_meta_drop_list.options = building_list\n",
    "    edit_building_drop_list.options = building_list\n",
    "    \n",
    "    \n",
    "    with output_cdf_login:\n",
    "        output_cdf_login.clear_output()\n",
    "        if chkbx_cdf_login_show_status.value == True:\n",
    "            display(print(c.login.status()))\n",
    "        else:\n",
    "            pass\n",
    "\n",
    "btn_cdf_login.on_click(cdf_login)\n",
    "        \n",
    "widgets.VBox([widgets.HBox([rbtn_cdf_login, btn_cdf_login, chkbx_cdf_login_show_status]), output_cdf_login])"
   ]
  },
  {
   "cell_type": "markdown",
   "metadata": {},
   "source": [
    "***"
   ]
  },
  {
   "cell_type": "markdown",
   "metadata": {
    "ExecuteTime": {
     "end_time": "2021-01-14T08:57:45.225006Z",
     "start_time": "2021-01-14T08:57:45.222718Z"
    }
   },
   "source": [
    "# Create new physical building"
   ]
  },
  {
   "cell_type": "code",
   "execution_count": 5,
   "metadata": {
    "ExecuteTime": {
     "end_time": "2021-10-13T19:19:58.308080Z",
     "start_time": "2021-10-13T19:19:58.204808Z"
    }
   },
   "outputs": [],
   "source": [
    "#gui\n",
    "\n",
    "building_list=[]\n",
    "\n",
    "lbl_building_selection = widgets.Label(value='Choose building:')\n",
    "\n",
    "inputdropdown_ah_building_index = widgets.Dropdown(\n",
    "    options=building_list,\n",
    "    #value=building_list[0],\n",
    "    description='Building:',\n",
    "    layout={'width': '400px'}\n",
    ")\n",
    "\n",
    "\n",
    "AAA_list = []\n",
    "\n",
    "input_rbtn_AAA = widgets.RadioButtons(\n",
    "    options=AAA_list,\n",
    "    layout={'width': '250pt'}, # If the items' names are long\n",
    "    style={'description_width': '150px'},\n",
    "    description='Choose sub_building:',\n",
    "    disabled=False)\n",
    "\n",
    "input_floors = widgets.BoundedIntText(\n",
    "    value=1,\n",
    "    min=0,\n",
    "    max=999,\n",
    "    description='Floors: ',\n",
    "    disabled=True)\n",
    "\n",
    "\n",
    "input_sub_floors = widgets.BoundedIntText(\n",
    "    value=0,\n",
    "    min=0,\n",
    "    max=99,\n",
    "    description='Sub Floors: ',\n",
    "    disabled=True)\n",
    "\n",
    "button_ah_building_index = widgets.Button(description=\"Choose Building\")\n",
    "output_ah_building_index = widgets.Output()\n",
    "\n",
    "btn_select_sub_building = widgets.Button(description='Choose sub-building')\n",
    "output_select_sub_building = widgets.Output()\n",
    "\n",
    "btn_create_floors = widgets.Button(description='Create floors', icon='align-justify', disabled=True)\n",
    "output_btn_create_floors = widgets.Output()\n",
    "\n",
    "btn_create_all_rooms = widgets.Button(description='Create room structure', icon='clone', layout={'width':'200px'})\n",
    "output_btn_create_all_rooms = widgets.Output()\n",
    "\n",
    "btn_create = widgets.Button(description = 'Create building structure', icon='building', layout={'width':'200px'})\n",
    "output_btn_create = widgets.Output()"
   ]
  },
  {
   "cell_type": "code",
   "execution_count": 6,
   "metadata": {
    "ExecuteTime": {
     "end_time": "2021-10-13T19:19:58.462367Z",
     "start_time": "2021-10-13T19:19:58.310665Z"
    }
   },
   "outputs": [
    {
     "data": {
      "application/vnd.jupyter.widget-view+json": {
       "model_id": "8968ef87012f41c9a2c142284dafcfc9",
       "version_major": 2,
       "version_minor": 0
      },
      "text/plain": [
       "VBox(children=(HBox(children=(Label(value='Choose building:'),)), HBox(children=(Dropdown(description='Buildin…"
      ]
     },
     "metadata": {},
     "output_type": "display_data"
    }
   ],
   "source": [
    "#prog logics\n",
    "\n",
    "\n",
    "def on_button_clicked_ah_building(b):\n",
    "\n",
    "    global active_root_asset_id, active_root_asset, active_root_asset_dataSetId\n",
    "    \n",
    "    phys_building = False\n",
    "    active_root_asset_id = inputdropdown_ah_building_index.value\n",
    "    active_root_asset = root_assets_list_df.loc[active_root_asset_id].externalId\n",
    "    active_root_asset_dataSetId = root_assets_list_df.loc[active_root_asset_id].dataSetId\n",
    "    \n",
    "    if active_root_asset != '':\n",
    "        #update rbtn with sub_building info from active_root\n",
    "        AAA_df = find_TFM_AAA(c=c, root_asset=active_root_asset).to_pandas()\n",
    "        AAA_list = list(AAA_df.name)\n",
    "        \n",
    "        try:\n",
    "            AAA_list.remove('Common')\n",
    "            AAA_list.remove('TMP')\n",
    "            \n",
    "        except:\n",
    "            pass\n",
    "            \n",
    "        input_rbtn_AAA.options = AAA_list\n",
    "        \n",
    "        \n",
    "        input_floors.disabled = False\n",
    "        input_sub_floors.disabled = False\n",
    "        btn_create_floors.disabled = True\n",
    "        \n",
    "        btn_select_sub_building.disabled = False\n",
    "        input_rbtn_AAA.disabled = False\n",
    "\n",
    "        #shows radiobtn to choose between available AAA(A) and to \n",
    "        output = widgets.VBox([input_rbtn_AAA, btn_select_sub_building,output_select_sub_building, widgets.HBox([input_floors, input_sub_floors,\n",
    "                                                                          btn_create_floors])])\n",
    "        \n",
    "    else:\n",
    "\n",
    "        output = display(print('No building selected, no structure to show.'))\n",
    "    \n",
    "    #---\n",
    "        \n",
    "    with output_ah_building_index:\n",
    "        output_ah_building_index.clear_output()\n",
    "        \n",
    "        output_btn_create_floors.clear_output()\n",
    "        output_btn_create_all_rooms.clear_output()\n",
    "        output_btn_create.clear_output()\n",
    "        output_select_sub_building.clear_output()\n",
    "        \n",
    "        print('Building: ' + str(active_root_asset))\n",
    "\n",
    "        display(output)\n",
    "\n",
    "        \n",
    "def select_sub_building_create(e):\n",
    "    \n",
    "    global my_target_building, my_target_subbuildings, my_target_floors, my_target_all_building_items\n",
    "                \n",
    "    #all these will be empty if no physical building exists\n",
    "    my_target_buildings = find_item_on_level_in_phys_building_AAA(c=c, AAA_asset=str(active_root_asset + '+' + input_rbtn_AAA.value), building_level = ['building'])\n",
    "    my_target_subbuildings = find_item_on_level_in_phys_building_AAA(c=c, AAA_asset=str(active_root_asset + '+' + input_rbtn_AAA.value), building_level = ['sub_building'])\n",
    "    my_target_floors = find_item_on_level_in_phys_building_AAA(c=c, AAA_asset=str(active_root_asset + '+' + input_rbtn_AAA.value), building_level = ['floor'])\n",
    "    my_target_rooms = find_item_on_level_in_phys_building_AAA(c=c, AAA_asset=str(active_root_asset + '+' + input_rbtn_AAA.value), building_level = ['room'])\n",
    "    my_target_all_building_items = find_item_on_level_in_phys_building_AAA(c=c, AAA_asset=str(active_root_asset + '+' + input_rbtn_AAA.value), building_level=['building','sub_building','floor','room'])\n",
    "\n",
    "\n",
    "    if len(my_target_all_building_items) > 0:\n",
    "\n",
    "        #my_target_all_building_items = my_target_all_building_items.to_pandas()\n",
    "        output = 'Physical building Found. Please go to section for \"ADD Rooms\" to edit the physical building structure.'\n",
    "\n",
    "        input_floors.disabled = False\n",
    "        input_sub_floors.disabled = False\n",
    "        btn_create_floors.disabled = True\n",
    "        \n",
    "        btn_select_sub_building.disabled = False\n",
    "        input_rbtn_AAA.disabled = False\n",
    "\n",
    "    else:\n",
    "\n",
    "        output = 'No physical building found under chosen rootAsset. Generating new building structure...'\n",
    "\n",
    "        input_floors.disabled = False\n",
    "        input_sub_floors.disabled = False\n",
    "        btn_create_floors.disabled = False\n",
    "        \n",
    "        btn_select_sub_building.disabled = True\n",
    "        input_rbtn_AAA.disabled = True\n",
    "    \n",
    "    with output_select_sub_building:\n",
    "        output_select_sub_building.clear_output()\n",
    "        display(print(output))\n",
    "        \n",
    "    \n",
    "btn_select_sub_building.on_click(select_sub_building_create)        \n",
    "\n",
    "#-----\n",
    "\n",
    "def create_IntText_widget(no, value=1, descr='Floors', run_no=False):\n",
    "    widget_list = []\n",
    "    if run_no==True:\n",
    "        x=1\n",
    "    else:\n",
    "        x=''\n",
    "    i = 0\n",
    "    for i in range(int(no)):\n",
    "        #print(item)\n",
    "        \n",
    "        input_sub_buildings_floor = widgets.BoundedIntText(\n",
    "            value=value,\n",
    "            min=0,\n",
    "            max=99,\n",
    "            description=str(descr) + ' ' + str(x),\n",
    "            disabled=False,\n",
    "            style={'description_width': '150px'},\n",
    "            layout={'width': '250px'}\n",
    "        )\n",
    "    \n",
    "        widget_list.append(input_sub_buildings_floor)\n",
    "        \n",
    "        if run_no==True:\n",
    "            x+=1\n",
    "        \n",
    "        i +=1\n",
    "        \n",
    "    return widget_list\n",
    "\n",
    "def generate_room_widgets_from_floors_sub_floors(input_floors_val, input_sub_floors_val):\n",
    "    \"\"\"\n",
    "    returns a tuple with 2x widget.VBox (floors , sub_floors). Each containing all labels_widgets and txt_widgets for all floors and underlying rooms\n",
    "    \"\"\"\n",
    "    \n",
    "    global floor_widget_list, sub_floor_widget_list, floors_all_widgets, sub_floors_all_widgets\n",
    "    \n",
    "    lbl_insert_number_of_rooms_in_floor = widgets.Label(value='Insert the number of rooms in each Floor (above celler)', layout={'width':'400px'})\n",
    "    lbl_insert_number_of_subrooms_in_floor = widgets.Label(value='Insert the number of rooms in each Sub Floor (celler)')\n",
    "    \n",
    "    floor_widget_list = create_IntText_widget(no=input_floors_val, value=1, descr='Rooms in Floor#', run_no=True)\n",
    "    sub_floor_widget_list = create_IntText_widget(no=input_sub_floors_val, value=1, descr= 'Rooms in Sub-Floor#', run_no=True)\n",
    "    \n",
    "    floors_all_widgets = widgets.VBox([x for x in floor_widget_list])\n",
    "    sub_floors_all_widgets = widgets.VBox([y for y in sub_floor_widget_list])\n",
    "    \n",
    "    floor_lbl_txt_widget_box = widgets.VBox([lbl_insert_number_of_rooms_in_floor,floors_all_widgets])\n",
    "    subfloor_lbl_txt_widget_box = widgets.VBox([lbl_insert_number_of_subrooms_in_floor, sub_floors_all_widgets])\n",
    "    \n",
    "    return floor_lbl_txt_widget_box, subfloor_lbl_txt_widget_box\n",
    "    \n",
    "\n",
    "#GUI func\n",
    "\n",
    "def generate_sub_building_widget(b):        \n",
    "    \n",
    "    global floor_box, subfloor_box\n",
    "\n",
    "    floor_box, subfloor_box = generate_room_widgets_from_floors_sub_floors(input_floors.value, input_sub_floors.value)\n",
    "    \n",
    "    with output_btn_create_floors:\n",
    "        output_btn_create_floors.clear_output()\n",
    "        display(widgets.VBox([widgets.HBox([floor_box, subfloor_box]), btn_create_all_rooms]))\n",
    "        \n",
    "\n",
    "        \n",
    "        \n",
    "        \n",
    "#functions\n",
    "\n",
    "def create_tab_with_rooms_pr_floor(floors_widget_list, sub=False):\n",
    "    titles = []\n",
    "    list_floor_widgets  = []\n",
    "    for floor in floors_widget_list:\n",
    "        list_room_widgets  = []\n",
    "        \n",
    "        if sub == False:\n",
    "            level_name = 'Floor'\n",
    "            flor_level_start_no = 1\n",
    "        else:\n",
    "            level_name = 'Sub-Floor'\n",
    "            flor_level_start_no = 1\n",
    "            \n",
    "        titles.append(((int(floors_widget_list.index(floor))), str(level_name) + ' ' + str(int(floors_widget_list.index(floor) + flor_level_start_no))))\n",
    "\n",
    "        for room in floor:\n",
    "            #print('Room: '  + str(floor.index(room)))\n",
    "            dipl_list=[]\n",
    "            for item in room:\n",
    "                #display(item)\n",
    "                dipl_list.append(item)\n",
    "            list_room_widgets.append(widgets.HBox(dipl_list))\n",
    "        list_floor_widgets.append(widgets.VBox(list_room_widgets))\n",
    "\n",
    "    building_tabs = widgets.Tab(children=list_floor_widgets)\n",
    "\n",
    "    for title in titles:\n",
    "        building_tabs.set_title(title[0],title[1])\n",
    "\n",
    "    return building_tabs\n",
    "\n",
    "#---\n",
    "\n",
    "\n",
    "def create_room_widgets(floor_widget_list, sub=False):\n",
    "    #subfloors_list = []\n",
    "    floors_widget_list = []\n",
    "\n",
    "    if sub == True:\n",
    "        zfill=2\n",
    "        floor_prefix = 'K'\n",
    "        floor_no_start=1\n",
    "    else:\n",
    "        zfill=3\n",
    "        floor_prefix = ''\n",
    "        floor_no_start=1\n",
    "    \n",
    "    floor_no=floor_no_start\n",
    "    \n",
    "    for floor_widget in floor_widget_list:\n",
    "        #floor_no=x #floor_widget_list.index(floor_widget)\n",
    "        #print(item.description)\n",
    "        #print(item.value)\n",
    "        #print(x)\n",
    "        \n",
    "        room_no=0\n",
    "        rooms_widget_list=[]\n",
    "        for room_no in range(floor_widget.value):\n",
    "            #room_no=i\n",
    "\n",
    "            extId = str(active_root_asset) + '+' + str(input_rbtn_AAA.value) + '=200.' + str(floor_prefix) + str(floor_no).zfill(int(zfill)) + '-FR' + str(room_no).zfill(3)\n",
    "\n",
    "            label_extId_widget = widgets.Label(value=extId, layout={'width': '350px'})\n",
    "\n",
    "            input_name_widget = widgets.Text(\n",
    "                value='',\n",
    "                placeholder='F' + str(floor_no) + ' R' + str(room_no) + ' (name)',\n",
    "                description= 'Name:',\n",
    "                disabled=False)\n",
    "\n",
    "            input_descr_widget = widgets.Text(\n",
    "                value='',\n",
    "                placeholder='F' + str(floor_no) + ' R' + str(room_no) + ' (description)',\n",
    "                description= 'Descr.:',\n",
    "                disabled=False)\n",
    "\n",
    "            rooms_widget_list.append([label_extId_widget, input_name_widget, input_descr_widget])\n",
    "        floors_widget_list.append(rooms_widget_list)\n",
    "        floor_no +=1\n",
    "\n",
    "    #------\n",
    "    return floors_widget_list\n",
    "\n",
    "\n",
    "def generate_building_widgets_with_tabs_pr_floor(b):\n",
    "    \n",
    "    global active_widgets, active_sub_widgets, building_tabs, sub_building_tabs\n",
    "    \n",
    "    active_widgets = create_room_widgets(floor_widget_list)\n",
    "    building_tabs = create_tab_with_rooms_pr_floor(active_widgets)\n",
    "    \n",
    "    active_sub_widgets = create_room_widgets(sub_floor_widget_list, sub=True)\n",
    "    sub_building_tabs = create_tab_with_rooms_pr_floor(active_sub_widgets, sub=True)\n",
    "    \n",
    "    with output_btn_create_all_rooms:\n",
    "        output_btn_create_all_rooms.clear_output()\n",
    "        \n",
    "        display(widgets.VBox([building_tabs, sub_building_tabs, widgets.HBox([btn_create])]))\n",
    "        \n",
    "# btn_create_all_rooms.on_click(generate_building_widgets_with_tabs_pr_floor)\n",
    "# widgets.HBox([output_btn_create_all_rooms])\n",
    "\n",
    "def create_building_structure_dict(floors_widget_list):\n",
    "    room_dict_list = []\n",
    "    for floor in floors_widget_list:\n",
    "        for room in floor:\n",
    "            widg_value_list = []\n",
    "            for widg in room:\n",
    "                widg_value_list.append(widg.value)\n",
    "\n",
    "            extId = widg_value_list[0]\n",
    "            room_name = widg_value_list[1]\n",
    "            floor_no = extId[extId.find('.')+1 : extId.find('-FR')]\n",
    "            room_no = extId[-3:]\n",
    "            desription = widg_value_list[2]\n",
    "\n",
    "            room_dict = {'extId': extId,\n",
    "            'AAA': input_rbtn_AAA.value,\n",
    "            'floor_no': floor_no,\n",
    "            'room_no': room_no,\n",
    "            'room_name': widg_value_list[1],\n",
    "             'description': desription #,'type':type_item\n",
    "            }\n",
    "            room_dict_list.append(room_dict)\n",
    "    return room_dict_list\n",
    "\n",
    "\n",
    "def generate_total_building_structure_dict(b):\n",
    "\n",
    "    global building_structure_dict, sub_building_structure_dict, EEP_building_client_create\n",
    "    \n",
    "    EEP_building_client_create = PhysicalBuildingAPI(cdf_project=str(rbtn_cdf_login.value), root_external_id=active_root_asset, dryrun=False)\n",
    "    \n",
    "    building_structure_dict = create_building_structure_dict(active_widgets)\n",
    "    sub_building_structure_dict = create_building_structure_dict(active_sub_widgets)\n",
    "    \n",
    "    for room in building_structure_dict:\n",
    "        EEP_building_client_create.add_room(AAA = room['AAA'], floor = room['floor_no'], name = room['room_name'], description = room['description'])        \n",
    "    \n",
    "    for sub_room in sub_building_structure_dict:\n",
    "        EEP_building_client_create.add_room(AAA = sub_room['AAA'], floor = sub_room['floor_no'], name = sub_room['room_name'], description = sub_room['description'])        \n",
    "    \n",
    "    btn_upload_building_structure_to_eep.disabled=False\n",
    "    \n",
    "    \n",
    "    with output_btn_create:\n",
    "        output_btn_create.clear_output()\n",
    "        EEP_building_client_create.dump_building_structure(raw=False)\n",
    "\n",
    "#-----\n",
    "            \n",
    "active_root_asset = ''\n",
    "\n",
    "btn_upload_building_structure_to_eep = widgets.Button(description='UPLOAD NEW BUILDING TO EEP', disabled=True, layout = {'width' : '200pt'})\n",
    "btn_upload_building_structure_to_eep.style.button_color = 'lightgreen'\n",
    "                              \n",
    "#building_list = df_columns_inst_to_list_of_tuples(root_assets_list_df, col_name='externalId')\n",
    "building_list = []\n",
    "inputdropdown_ah_building_index.options = building_list\n",
    "\n",
    "#gui-action\n",
    "button_ah_building_index.on_click(on_button_clicked_ah_building)\n",
    "\n",
    "#gui-layout\n",
    "header_box = widgets.HBox([lbl_building_selection])\n",
    "top_box = widgets.HBox([inputdropdown_ah_building_index, button_ah_building_index])\n",
    "bottom_box = widgets.HBox([output_ah_building_index])\n",
    "widgets.VBox([header_box, top_box, bottom_box])\n",
    "\n",
    "# --- END choosing building and checking for sub buildings in selected building"
   ]
  },
  {
   "cell_type": "code",
   "execution_count": 7,
   "metadata": {
    "ExecuteTime": {
     "end_time": "2021-10-13T19:19:58.481375Z",
     "start_time": "2021-10-13T19:19:58.465480Z"
    }
   },
   "outputs": [
    {
     "data": {
      "application/vnd.jupyter.widget-view+json": {
       "model_id": "ad0b3d1e831349e1a0009b40f825e4c5",
       "version_major": 2,
       "version_minor": 0
      },
      "text/plain": [
       "HBox(children=(Output(),))"
      ]
     },
     "metadata": {},
     "output_type": "display_data"
    }
   ],
   "source": [
    "btn_create_floors.on_click(generate_sub_building_widget)\n",
    "widgets.HBox([output_btn_create_floors])"
   ]
  },
  {
   "cell_type": "code",
   "execution_count": 8,
   "metadata": {
    "ExecuteTime": {
     "end_time": "2021-10-13T19:19:58.495448Z",
     "start_time": "2021-10-13T19:19:58.485108Z"
    }
   },
   "outputs": [
    {
     "data": {
      "application/vnd.jupyter.widget-view+json": {
       "model_id": "43b719a0729a4365a53b4df3c5b957ee",
       "version_major": 2,
       "version_minor": 0
      },
      "text/plain": [
       "HBox(children=(Output(),))"
      ]
     },
     "metadata": {},
     "output_type": "display_data"
    }
   ],
   "source": [
    "btn_create_all_rooms.on_click(generate_building_widgets_with_tabs_pr_floor)\n",
    "widgets.HBox([output_btn_create_all_rooms])"
   ]
  },
  {
   "cell_type": "code",
   "execution_count": 9,
   "metadata": {
    "ExecuteTime": {
     "end_time": "2021-10-13T19:19:58.509754Z",
     "start_time": "2021-10-13T19:19:58.499182Z"
    }
   },
   "outputs": [
    {
     "data": {
      "application/vnd.jupyter.widget-view+json": {
       "model_id": "0bdfd3778f2b47c1b9cee124cc99fd5a",
       "version_major": 2,
       "version_minor": 0
      },
      "text/plain": [
       "HBox(children=(Output(),))"
      ]
     },
     "metadata": {},
     "output_type": "display_data"
    }
   ],
   "source": [
    "btn_create.on_click(generate_total_building_structure_dict)\n",
    "widgets.HBox([output_btn_create])"
   ]
  },
  {
   "cell_type": "code",
   "execution_count": 10,
   "metadata": {
    "ExecuteTime": {
     "end_time": "2021-10-13T19:19:58.544411Z",
     "start_time": "2021-10-13T19:19:58.512652Z"
    }
   },
   "outputs": [
    {
     "data": {
      "application/vnd.jupyter.widget-view+json": {
       "model_id": "7db1337bc3124e218358286f2229f9f3",
       "version_major": 2,
       "version_minor": 0
      },
      "text/plain": [
       "VBox(children=(HBox(children=(Button(description='UPLOAD NEW BUILDING TO EEP', disabled=True, layout=Layout(wi…"
      ]
     },
     "metadata": {},
     "output_type": "display_data"
    }
   ],
   "source": [
    "output_upload_building_to_eep = widgets.Output()\n",
    "\n",
    "f0_max_count = 2\n",
    "\n",
    "f0 = widgets.IntProgress(min=0, max=f0_max_count) # instantiate the bar\n",
    "\n",
    "def upload_building_to_eep(m):\n",
    "    f0.value = 0\n",
    "    f0.value += 1\n",
    "    \n",
    "    EEP_building_client_create.commit()\n",
    "    f0.value += 1\n",
    "    \n",
    "    with output_upload_building_to_eep:\n",
    "        output_upload_building_to_eep.clear_output()\n",
    "        print('Uploaded to EEP!')\n",
    "        \n",
    "        EEP_building_client_create.dump_building_structure(raw=False)\n",
    "\n",
    "    \n",
    "btn_upload_building_structure_to_eep.on_click(upload_building_to_eep)\n",
    "\n",
    "widgets.VBox([widgets.HBox([btn_upload_building_structure_to_eep, f0]), output_upload_building_to_eep])"
   ]
  },
  {
   "cell_type": "code",
   "execution_count": null,
   "metadata": {},
   "outputs": [],
   "source": []
  },
  {
   "cell_type": "code",
   "execution_count": null,
   "metadata": {},
   "outputs": [],
   "source": []
  },
  {
   "cell_type": "markdown",
   "metadata": {},
   "source": [
    "***"
   ]
  },
  {
   "cell_type": "markdown",
   "metadata": {},
   "source": [
    "# Update physical building"
   ]
  },
  {
   "cell_type": "markdown",
   "metadata": {
    "ExecuteTime": {
     "end_time": "2021-01-14T20:15:38.464382Z",
     "start_time": "2021-01-14T20:15:38.456220Z"
    }
   },
   "source": [
    " "
   ]
  },
  {
   "cell_type": "markdown",
   "metadata": {},
   "source": [
    "## Add rooms"
   ]
  },
  {
   "cell_type": "code",
   "execution_count": 11,
   "metadata": {
    "ExecuteTime": {
     "end_time": "2021-10-13T19:19:58.593518Z",
     "start_time": "2021-10-13T19:19:58.549363Z"
    }
   },
   "outputs": [
    {
     "data": {
      "application/vnd.jupyter.widget-view+json": {
       "model_id": "a29e7da613814c26bf9df49048281d5d",
       "version_major": 2,
       "version_minor": 0
      },
      "text/plain": [
       "HBox(children=(Dropdown(description='Building:', layout=Layout(width='400px'), options=(), value=None), Button…"
      ]
     },
     "metadata": {},
     "output_type": "display_data"
    }
   ],
   "source": [
    "#root_assets_list_df = c.assets.list(root=True, limit=-1).to_pandas()\n",
    "# building_ser = root_assets_list_df.externalId\n",
    "# building_list= building_ser.tolist()\n",
    "# building_list.sort()\n",
    "building_list = []\n",
    "\n",
    "update_building_drop_list = widgets.Dropdown(\n",
    "    options=building_list,\n",
    "    #value=building_list[0],\n",
    "    description='Building:',\n",
    "    layout={'width': '400px'}\n",
    ")\n",
    "\n",
    "btn_choose_building_update = widgets.Button(description=\"Choose Building\", icon='city', layout={'width': '200px'})\n",
    "output_choose_building_update = widgets.Output()\n",
    "\n",
    "widgets.HBox([update_building_drop_list, btn_choose_building_update])"
   ]
  },
  {
   "cell_type": "code",
   "execution_count": 12,
   "metadata": {
    "ExecuteTime": {
     "end_time": "2021-10-13T19:19:58.598189Z",
     "start_time": "2021-10-13T19:19:58.595891Z"
    }
   },
   "outputs": [],
   "source": [
    "#active_update_root_asset"
   ]
  },
  {
   "cell_type": "code",
   "execution_count": 13,
   "metadata": {
    "ExecuteTime": {
     "end_time": "2021-10-13T19:19:58.629576Z",
     "start_time": "2021-10-13T19:19:58.599940Z"
    }
   },
   "outputs": [
    {
     "data": {
      "application/vnd.jupyter.widget-view+json": {
       "model_id": "a9857f25af9f4abaa06a5c84d24d7b0e",
       "version_major": 2,
       "version_minor": 0
      },
      "text/plain": [
       "HBox(children=(Output(),))"
      ]
     },
     "metadata": {},
     "output_type": "display_data"
    }
   ],
   "source": [
    "def choose_building_and_create_sub_building_rbtn(a):\n",
    "    \n",
    "    global active_update_root_asset, floor_names_list, input_rbtn_update_AAA, update_rooms_widgets_list, rooms_widget_list\n",
    "    \n",
    "    active_update_root_asset = root_assets_list_df.loc[update_building_drop_list.value].externalId\n",
    "    \n",
    "    \n",
    "    AAA_asset_update_df = c.assets.list(parent_external_ids=[str(active_update_root_asset)]).to_pandas()\n",
    "    \n",
    "    floor_names_list = find_number_of_floors_in_active_building(active_update_root_asset)\n",
    "    \n",
    "    if len(floor_names_list) > 0:\n",
    "    \n",
    "        if len(AAA_asset_update_df) > 0:\n",
    "\n",
    "            AAA_update_list = list(AAA_asset_update_df.name)\n",
    "\n",
    "            try:\n",
    "                AAA_update_list.remove('Common')\n",
    "            except:\n",
    "                pass\n",
    "\n",
    "            input_rbtn_update_AAA = widgets.RadioButtons(\n",
    "                options=AAA_update_list,\n",
    "                layout={'width': '250pt'}, # If the items' names are long\n",
    "                style={'description_width': '150px'},\n",
    "                description='Choose sub_building:',\n",
    "                disabled=False)\n",
    "\n",
    "            #input_rbtn_update_AAA.options = AAA_update_list\n",
    "            input_rbtn_update_AAA.disabled = False\n",
    "            btn_choose_sub_building_update.disabled = False\n",
    "            update_rooms_widgets_list = []\n",
    "            rooms_widget_list = []\n",
    "            \n",
    "\n",
    "            output = widgets.HBox([input_rbtn_update_AAA, btn_choose_sub_building_update])\n",
    "        else:\n",
    "\n",
    "            output = str('No AAA found')\n",
    "            \n",
    "    else:\n",
    "        output = str('NO physical building found to update. Please create physical building.')\n",
    "\n",
    "    with output_choose_building_update:\n",
    "        output_choose_building_update.clear_output()\n",
    "        output_choose_sub_building_update.clear_output()\n",
    "        add_rooms_update_content_output.clear_output()\n",
    "        building_update_structure_content_output.clear_output()\n",
    "        output_upload_add_rooms_to_eep.clear_output()\n",
    "        \n",
    "        \n",
    "        #output = str(active_update_root_asset)\n",
    "        display(output)\n",
    "\n",
    "btn_choose_sub_building_update = widgets.Button(description=\"Choose Sub-Building\", layout={'width': '200px'})\n",
    "output_choose_sub_building_update = widgets.Output()\n",
    "\n",
    "btn_choose_building_update.on_click(choose_building_and_create_sub_building_rbtn)\n",
    "#widgets.HBox([output_choose_building_update, btn_choose_sub_building_update])\n",
    "widgets.HBox([output_choose_building_update])"
   ]
  },
  {
   "cell_type": "code",
   "execution_count": 14,
   "metadata": {
    "ExecuteTime": {
     "end_time": "2021-10-13T19:19:58.688641Z",
     "start_time": "2021-10-13T19:19:58.631778Z"
    }
   },
   "outputs": [
    {
     "data": {
      "application/vnd.jupyter.widget-view+json": {
       "model_id": "1bade151de44479eb3cc74e28d174b92",
       "version_major": 2,
       "version_minor": 0
      },
      "text/plain": [
       "HBox(children=(Output(),))"
      ]
     },
     "metadata": {},
     "output_type": "display_data"
    }
   ],
   "source": [
    "btn_add_room_update = widgets.Button(description=\"Add room\", icon='plus')\n",
    "btn_subtract_room_update = widgets.Button(description=\"Remove room\", icon='minus')\n",
    "btn_add_floor_name_update = widgets.Button(description=\"Add floor\")\n",
    "lbl_spacer = widgets.Label(value=\"\", layout={'width': '200pt'})\n",
    "\n",
    "lbl_new_floor_in_list = widgets.Label(value=\"If floor number not in list:\")\n",
    "\n",
    "inttext_floor_number = widgets.BoundedIntText(\n",
    "    value=1,\n",
    "    min=0,\n",
    "    max=999,\n",
    "    step=1,\n",
    "    description='New Floor: ',\n",
    "    disabled=False\n",
    ")\n",
    "\n",
    "rbtn_floor_sub_floor = widgets.RadioButtons(\n",
    "    options=['Floor', 'Sub_Floor'],\n",
    "#    value='pineapple', # Defaults to 'pineapple'\n",
    "#    layout={'width': 'max-content'}, # If the items' names are long\n",
    "    description='',\n",
    "    disabled=False\n",
    ")\n",
    "\n",
    "\n",
    "update_rooms_widgets_list = []\n",
    "\n",
    "def choose_sub_building_and_create_add_remove_buttons(b):\n",
    "    \n",
    "    #global inttext_floor_number\n",
    "    \n",
    "    input_rbtn_update_AAA.disabled = True\n",
    "    btn_choose_sub_building_update.disabled = True\n",
    "    update_rooms_widgets_list = []\n",
    "    \n",
    "    \n",
    "    output = widgets.HBox([btn_add_room_update, btn_subtract_room_update, lbl_spacer, widgets.VBox([lbl_new_floor_in_list, inttext_floor_number,rbtn_floor_sub_floor,btn_add_floor_name_update])])\n",
    "    \n",
    "    with output_choose_sub_building_update:\n",
    "        output_choose_sub_building_update.clear_output()\n",
    "        display(output)\n",
    "        \n",
    "btn_choose_sub_building_update.on_click(choose_sub_building_and_create_add_remove_buttons)\n",
    "\n",
    "widgets.HBox([output_choose_sub_building_update])"
   ]
  },
  {
   "cell_type": "code",
   "execution_count": 15,
   "metadata": {
    "ExecuteTime": {
     "end_time": "2021-10-13T19:19:58.696124Z",
     "start_time": "2021-10-13T19:19:58.690755Z"
    }
   },
   "outputs": [],
   "source": [
    "def add_floor_to_floor_list(d):\n",
    "    \n",
    "    floor_names_in_AAA_list = find_number_of_floors_in_active_building(active_update_root_asset + '+' + str(input_rbtn_update_AAA.value))\n",
    "    \n",
    "    new_floor_no = inttext_floor_number.value\n",
    "    \n",
    "    if rbtn_floor_sub_floor.value == 'Floor':\n",
    "        new_floor_no_str = str(new_floor_no).zfill(3)\n",
    "    else:\n",
    "        new_floor_no_str = str('K') + str(new_floor_no).zfill(2)\n",
    "    \n",
    "    with output_choose_sub_building_update:\n",
    "        if new_floor_no_str not in floor_names_in_AAA_list:\n",
    "            floor_names_in_AAA_list.append(new_floor_no_str)\n",
    "            floor_names_in_AAA_list.sort()\n",
    "            #input_floor_select_widget.option = floor_names_in_AAA_list\n",
    "            \n",
    "            #update existing widgets\n",
    "            for item in update_rooms_widgets_list:\n",
    "                item[2].options = floor_names_in_AAA_list\n",
    "            \n",
    "        else:\n",
    "            print(str(new_floor_no) + ' already in list of floors.')\n",
    "            \n",
    "        #print(str(new_floor_no_str) + '  ' + str(floor_names_in_AAA_list))\n",
    "\n",
    "btn_add_floor_name_update.on_click(add_floor_to_floor_list)"
   ]
  },
  {
   "cell_type": "code",
   "execution_count": 16,
   "metadata": {
    "ExecuteTime": {
     "end_time": "2021-10-13T19:19:58.727121Z",
     "start_time": "2021-10-13T19:19:58.698228Z"
    }
   },
   "outputs": [
    {
     "data": {
      "application/vnd.jupyter.widget-view+json": {
       "model_id": "9c7d9f7501be4d5fbd736381d7871269",
       "version_major": 2,
       "version_minor": 0
      },
      "text/plain": [
       "HBox(children=(Output(),))"
      ]
     },
     "metadata": {},
     "output_type": "display_data"
    }
   ],
   "source": [
    "add_rooms_update_content_output = widgets.Output()\n",
    "\n",
    "btn_create_updated_building_structure_dict = widgets.Button(description='Create updated building structure', layout={'width' : '400pt'})\n",
    "\n",
    "def add_room_to_update_rooms_widgets_list(c):\n",
    "    \n",
    "    global rooms_widget_list, update_rooms_widgets_list, input_floor_select_widget\n",
    "    \n",
    "    floor_names_in_AAA_list = find_number_of_floors_in_active_building(active_update_root_asset + '+' + str(input_rbtn_update_AAA.value))\n",
    "    \n",
    "    input_name_widget = widgets.Text(\n",
    "        value='',\n",
    "        placeholder='(room name)',\n",
    "        description= 'Room name:',\n",
    "        disabled=False)\n",
    "\n",
    "    input_descr_widget = widgets.Text(\n",
    "        value='',\n",
    "        placeholder='(description)',\n",
    "        description= 'Description:',\n",
    "        disabled=False)\n",
    "    \n",
    "    input_floor_select_widget = widgets.Dropdown(\n",
    "        options=floor_names_in_AAA_list,\n",
    "        value=floor_names_in_AAA_list[0],\n",
    "        description='Floor #:',\n",
    "        disabled=False\n",
    "    )\n",
    "\n",
    "    rooms_widget_list = [input_name_widget, input_descr_widget, input_floor_select_widget]\n",
    "    #output = widgets.VBox([x for x in rooms_widget_list])\n",
    "    update_rooms_widgets_list.append(rooms_widget_list)\n",
    "    #input_floor_select_widget\n",
    "    #update_rooms_widgets_list\n",
    "    #rooms_widget_list.append([input_name_widget, input_descr_widget, input_floor_select_widget])\n",
    "    \n",
    "    with add_rooms_update_content_output:\n",
    "        add_rooms_update_content_output.clear_output()\n",
    "        for item in update_rooms_widgets_list:\n",
    "            display(widgets.HBox([x for x in item]))\n",
    "            \n",
    "        display(btn_create_updated_building_structure_dict)\n",
    "\n",
    "btn_add_room_update.on_click(add_room_to_update_rooms_widgets_list)\n",
    "widgets.HBox([add_rooms_update_content_output])"
   ]
  },
  {
   "cell_type": "code",
   "execution_count": 17,
   "metadata": {
    "ExecuteTime": {
     "end_time": "2021-10-13T19:19:58.734035Z",
     "start_time": "2021-10-13T19:19:58.729060Z"
    }
   },
   "outputs": [
    {
     "data": {
      "text/plain": [
       "[]"
      ]
     },
     "execution_count": 17,
     "metadata": {},
     "output_type": "execute_result"
    }
   ],
   "source": [
    "update_rooms_widgets_list\n",
    "#rooms_widget_list"
   ]
  },
  {
   "cell_type": "code",
   "execution_count": 18,
   "metadata": {
    "ExecuteTime": {
     "end_time": "2021-10-13T19:19:58.740805Z",
     "start_time": "2021-10-13T19:19:58.736233Z"
    }
   },
   "outputs": [],
   "source": [
    "def find_number_of_floors_in_active_building(active_update_root_asset):\n",
    "    my_label_filter = LabelFilter(contains_any=[\"floor\", \"sub_floor\"])\n",
    "    floors_asset_df = c.assets.list(asset_subtree_external_ids=active_update_root_asset, labels=my_label_filter, limit=-1).to_pandas()\n",
    "    \n",
    "    foor_number_list = []\n",
    "    \n",
    "    if len(floors_asset_df) > 0:\n",
    "    \n",
    "        floors_asset_list = floors_asset_df.name.tolist()\n",
    "\n",
    "        for foor_name in floors_asset_list:\n",
    "            active_floor_name = foor_name.split('.',1)\n",
    "            foor_number_list.append(active_floor_name[1])\n",
    "\n",
    "        foor_number_list.sort()\n",
    "    \n",
    "    \n",
    "    return foor_number_list"
   ]
  },
  {
   "cell_type": "code",
   "execution_count": 19,
   "metadata": {
    "ExecuteTime": {
     "end_time": "2021-10-13T19:19:58.748327Z",
     "start_time": "2021-10-13T19:19:58.742825Z"
    }
   },
   "outputs": [],
   "source": [
    "def subtract_room_to_update_rooms_widgets_list(c):\n",
    "    \n",
    "    #global rooms_widget_list\n",
    "    last_index = len(update_rooms_widgets_list) -1\n",
    "    #print(last_index)\n",
    "    if last_index >= 0:\n",
    "    \n",
    "        update_rooms_widgets_list.pop(last_index)\n",
    "        \n",
    "    else:\n",
    "        pass\n",
    "    \n",
    "    with add_rooms_update_content_output:\n",
    "        add_rooms_update_content_output.clear_output()\n",
    "        for item in update_rooms_widgets_list:\n",
    "            display(widgets.HBox([x for x in item]))\n",
    "        \n",
    "        display(btn_create_updated_building_structure_dict)\n",
    "        \n",
    "btn_subtract_room_update.on_click(subtract_room_to_update_rooms_widgets_list)"
   ]
  },
  {
   "cell_type": "code",
   "execution_count": 20,
   "metadata": {
    "ExecuteTime": {
     "end_time": "2021-10-13T19:19:58.755037Z",
     "start_time": "2021-10-13T19:19:58.750393Z"
    }
   },
   "outputs": [],
   "source": [
    "def create_room_update_widgets():\n",
    "    \n",
    "    #label_extId_widget = widgets.Label(value=extId, layout={'width': '350px'})\n",
    "\n",
    "    input_name_widget = widgets.Text(\n",
    "        value='',\n",
    "        placeholder='(room name)',\n",
    "        description= 'Room name:',\n",
    "        disabled=False)\n",
    "\n",
    "    input_descr_widget = widgets.Text(\n",
    "        value='',\n",
    "        placeholder='(description)',\n",
    "        description= 'Description:',\n",
    "        disabled=False)\n",
    "    \n",
    "    input_floor_select_widget = widgets.Dropdown(\n",
    "        options=['1', '2', '3'],\n",
    "        value='2',\n",
    "        description='Floor #:',\n",
    "        disabled=False\n",
    "    )\n",
    "\n",
    "    rooms_widget_list = [input_name_widget, input_descr_widget, input_floor_select_widget]\n",
    "\n",
    "    return rooms_widget_list"
   ]
  },
  {
   "cell_type": "code",
   "execution_count": null,
   "metadata": {},
   "outputs": [],
   "source": []
  },
  {
   "cell_type": "code",
   "execution_count": 21,
   "metadata": {
    "ExecuteTime": {
     "end_time": "2021-10-13T19:19:58.778934Z",
     "start_time": "2021-10-13T19:19:58.758642Z"
    }
   },
   "outputs": [
    {
     "data": {
      "application/vnd.jupyter.widget-view+json": {
       "model_id": "3c3c91c7712342fc8cdf93b834081907",
       "version_major": 2,
       "version_minor": 0
      },
      "text/plain": [
       "HBox(children=(Output(),))"
      ]
     },
     "metadata": {},
     "output_type": "display_data"
    }
   ],
   "source": [
    "add_room_dict_list = []\n",
    "\n",
    "def create_updated_building_structure_dict(f):\n",
    "    \n",
    "    global add_room_dict_list, EEP_building_client_add, update_rooms_widgets_list\n",
    "    \n",
    "    add_room_dict_list = []\n",
    "    \n",
    "    for add_room in update_rooms_widgets_list:\n",
    "        add_widg_value_list = []\n",
    "\n",
    "        for add_widg in add_room:\n",
    "            \n",
    "            add_widg_value_list.append(add_widg.value)\n",
    "\n",
    "\n",
    "        add_room_dict = {'AAA': input_rbtn_update_AAA.value,\n",
    "            'floor_no': add_widg_value_list[2],\n",
    "            'room_name': add_widg_value_list[0],\n",
    "            'description': add_widg_value_list[1] #,'type':type_item\n",
    "        }\n",
    "        add_room_dict_list.append(add_room_dict)\n",
    "    \n",
    "    #print debug\n",
    "    print(add_room_dict_list)\n",
    "    \n",
    "    #creates instance of eep-api\n",
    "    EEP_building_client_add = PhysicalBuildingAPI(cdf_project=str(rbtn_cdf_login.value), root_external_id=active_update_root_asset, dryrun=False)\n",
    "    \n",
    "    for item in add_room_dict_list:    \n",
    "        EEP_building_client_add.add_room(AAA = item['AAA'],\n",
    "                                         name = item['room_name'],\n",
    "                                         floor = item['floor_no'],\n",
    "                                         description = item['description'])\n",
    "    \n",
    "    btn_upload_add_rooms_to_eep.disabled = False\n",
    "    \n",
    "    with building_update_structure_content_output:\n",
    "        building_update_structure_content_output.clear_output()\n",
    "        EEP_building_client_add.dump_building_structure()\n",
    "        #display(add_room_dict_list)\n",
    "    \n",
    "building_update_structure_content_output = widgets.Output()\n",
    "\n",
    "btn_create_updated_building_structure_dict.on_click(create_updated_building_structure_dict)\n",
    "widgets.HBox([building_update_structure_content_output])"
   ]
  },
  {
   "cell_type": "code",
   "execution_count": 22,
   "metadata": {
    "ExecuteTime": {
     "end_time": "2021-10-13T19:19:58.834074Z",
     "start_time": "2021-10-13T19:19:58.783095Z"
    }
   },
   "outputs": [
    {
     "data": {
      "application/vnd.jupyter.widget-view+json": {
       "model_id": "ac9b13a9ae874ef9b18df26e904b9cc2",
       "version_major": 2,
       "version_minor": 0
      },
      "text/plain": [
       "VBox(children=(HBox(children=(Button(description='UPLOAD ADDED ROOMS TO EEP', disabled=True, layout=Layout(wid…"
      ]
     },
     "metadata": {},
     "output_type": "display_data"
    }
   ],
   "source": [
    "btn_upload_add_rooms_to_eep = widgets.Button(description='UPLOAD ADDED ROOMS TO EEP', disabled=True, layout = {'width' : '200pt'})\n",
    "btn_upload_add_rooms_to_eep.style.button_color = 'lightgreen'\n",
    "output_upload_add_rooms_to_eep = widgets.Output()\n",
    "\n",
    "f1_max_count = 2\n",
    "\n",
    "f1 = widgets.IntProgress(min=0, max=f1_max_count) # instantiate the bar\n",
    "\n",
    "def upload_add_rooms_to_eep(t):\n",
    "    f1.value = 0\n",
    "    f1.value +=1\n",
    "    \n",
    "    EEP_building_client_add.commit()\n",
    "    f1.value +=1\n",
    "    \n",
    "    with output_upload_add_rooms_to_eep:\n",
    "        output_upload_add_rooms_to_eep.clear_output()\n",
    "        \n",
    "        EEP_building_client_add.dump_building_structure()\n",
    "\n",
    "        \n",
    "btn_upload_add_rooms_to_eep.on_click(upload_add_rooms_to_eep)\n",
    "\n",
    "widgets.VBox([widgets.HBox([btn_upload_add_rooms_to_eep, f1]), output_upload_add_rooms_to_eep])"
   ]
  },
  {
   "cell_type": "markdown",
   "metadata": {},
   "source": [
    "***"
   ]
  },
  {
   "cell_type": "markdown",
   "metadata": {},
   "source": [
    "## Edit rooms (names & descriptions)"
   ]
  },
  {
   "cell_type": "code",
   "execution_count": 23,
   "metadata": {
    "ExecuteTime": {
     "end_time": "2021-10-13T19:19:58.907249Z",
     "start_time": "2021-10-13T19:19:58.839544Z"
    }
   },
   "outputs": [
    {
     "data": {
      "application/vnd.jupyter.widget-view+json": {
       "model_id": "ede80c6231f24e44ac0e03708f14fb07",
       "version_major": 2,
       "version_minor": 0
      },
      "text/plain": [
       "VBox(children=(HBox(children=(Dropdown(description='Building:', layout=Layout(width='400px'), options=(), valu…"
      ]
     },
     "metadata": {},
     "output_type": "display_data"
    }
   ],
   "source": [
    "building_list = []\n",
    "\n",
    "edit_building_drop_list = widgets.Dropdown(\n",
    "    options=building_list,\n",
    "    #value=building_list[0],\n",
    "    description='Building:',\n",
    "    layout={'width': '400px'}\n",
    ")\n",
    "\n",
    "edit_show_dump = widgets.Checkbox(\n",
    "    value=False,\n",
    "    description='Show building structure dump',\n",
    "    disabled=False,\n",
    "    layout = {'width': '300px'}\n",
    ")\n",
    "\n",
    "btn_choose_building_edit = widgets.Button(description=\"Choose Building\", icon='city', layout={'width': '200px'})\n",
    "output_choose_building_edit = widgets.Output()\n",
    "\n",
    "widgets.VBox([widgets.HBox([edit_building_drop_list, btn_choose_building_edit]), output_choose_building_edit])\n"
   ]
  },
  {
   "cell_type": "code",
   "execution_count": 24,
   "metadata": {
    "ExecuteTime": {
     "end_time": "2021-10-13T19:19:58.940674Z",
     "start_time": "2021-10-13T19:19:58.912772Z"
    }
   },
   "outputs": [],
   "source": [
    "def choose_building_and_create_sub_building_rbtn_edit(a):\n",
    "    \n",
    "    global active_edit_root_asset, floor_names_list, input_rbtn_edit_AAA, edit_show_dump\n",
    "    \n",
    "    active_edit_root_asset = root_assets_list_df.loc[edit_building_drop_list.value].externalId\n",
    "    \n",
    "    \n",
    "    AAA_asset_edit_df = c.assets.list(parent_external_ids=[str(active_edit_root_asset)]).to_pandas()\n",
    "    \n",
    "    floor_names_list = find_number_of_floors_in_active_building(active_edit_root_asset)\n",
    "    \n",
    "    if len(floor_names_list) > 0:\n",
    "    \n",
    "        if len(AAA_asset_edit_df) > 0:\n",
    "\n",
    "            AAA_edit_list = list(AAA_asset_edit_df.name)\n",
    "\n",
    "            try:\n",
    "                AAA_edit_list.remove('Common')\n",
    "            except:\n",
    "                pass\n",
    "\n",
    "            input_rbtn_edit_AAA = widgets.RadioButtons(\n",
    "                options=AAA_edit_list,\n",
    "                layout={'width': '250pt'}, # If the items' names are long\n",
    "                style={'description_width': '150px'},\n",
    "                description='Choose sub_building:',\n",
    "                disabled=False)\n",
    "\n",
    "            \n",
    "            output = widgets.HBox([input_rbtn_edit_AAA, btn_choose_sub_building_edit, edit_show_dump])\n",
    "            \n",
    "            btn_choose_sub_building_edit.disabled=False\n",
    "            input_rbtn_edit_AAA.disabled=False\n",
    "            btn_update_building_structure_edit.disabled = True\n",
    "            btn_upload_edit_building_structure_to_eep.disabled = True\n",
    "            \n",
    "            \n",
    "        else:\n",
    "\n",
    "            output = str('No AAA found')\n",
    "            \n",
    "    else:\n",
    "        output = str('NO physical building found to edit. Please create physical building.')\n",
    "\n",
    "    with output_choose_building_edit:\n",
    "        output_choose_building_edit.clear_output()\n",
    "        output_choose_sub_building_edit.clear_output()\n",
    "        output_update_building_structure_edit.clear_output()\n",
    "        output_upload_edit_building_to_eep.clear_output()\n",
    "               \n",
    "        display(output)\n",
    "\n",
    "btn_choose_sub_building_edit = widgets.Button(description=\"Choose Sub-Building\", disabled=True, layout={'width': '200px'})\n",
    "output_choose_sub_building_edit = widgets.Output()\n",
    "\n",
    "btn_choose_building_edit.on_click(choose_building_and_create_sub_building_rbtn_edit)\n",
    "#widgets.HBox([output_choose_sub_building_edit])"
   ]
  },
  {
   "cell_type": "code",
   "execution_count": 25,
   "metadata": {
    "ExecuteTime": {
     "end_time": "2021-10-13T19:19:58.945883Z",
     "start_time": "2021-10-13T19:19:58.942868Z"
    },
    "scrolled": true
   },
   "outputs": [],
   "source": [
    "#sub_building_structure"
   ]
  },
  {
   "cell_type": "code",
   "execution_count": 26,
   "metadata": {
    "ExecuteTime": {
     "end_time": "2021-10-13T19:19:58.950783Z",
     "start_time": "2021-10-13T19:19:58.948313Z"
    },
    "scrolled": true
   },
   "outputs": [],
   "source": [
    "# for floor_no, rooms_dict in sub_building_structure.items():\n",
    "#     if floor_no != 'metadata':\n",
    "#         print('---')\n",
    "#         print('Etg: ' + str(floor_no))\n",
    "# #        print(type(rooms_dict))\n",
    "#         for k, v in rooms_dict.items():\n",
    "#             if k != 'metadata':\n",
    "#                 print(k, v)\n",
    "#                 print(type(v))\n",
    "#                 print(v.get('name'))"
   ]
  },
  {
   "cell_type": "code",
   "execution_count": 27,
   "metadata": {
    "ExecuteTime": {
     "end_time": "2021-10-13T19:19:58.995640Z",
     "start_time": "2021-10-13T19:19:58.952611Z"
    }
   },
   "outputs": [
    {
     "data": {
      "application/vnd.jupyter.widget-view+json": {
       "model_id": "1c293a19b1fe487297b7ce4bf7a2faf7",
       "version_major": 2,
       "version_minor": 0
      },
      "text/plain": [
       "VBox(children=(Output(), Button(description='Update building structure', disabled=True, layout=Layout(width='2…"
      ]
     },
     "metadata": {},
     "output_type": "display_data"
    }
   ],
   "source": [
    "\n",
    "btn_update_building_structure_edit = widgets.Button(description='Update building structure', disabled=True, layout = {'width':'250px'})\n",
    "output_update_building_structure_edit = widgets.Output()\n",
    "\n",
    "def btn_choose_sub_building_edit_click(h):\n",
    "    \n",
    "    global EEP_building_client_edit, edit_widg_list, sub_building_structure\n",
    "    \n",
    "    EEP_building_client_edit = PhysicalBuildingAPI(cdf_project=str(rbtn_cdf_login.value),\n",
    "                                                   root_external_id=active_edit_root_asset,\n",
    "                                                   dryrun=False)\n",
    "    \n",
    "    building_structure_edit_dict = EEP_building_client_edit.list()\n",
    "    sub_building_structure = building_structure_edit_dict.get(str(input_rbtn_edit_AAA.value))\n",
    "    \n",
    "    edit_widg_list = []\n",
    "\n",
    "    for floor_no, rooms_dict in sub_building_structure.items():\n",
    "        #print(floor_no)\n",
    "        if floor_no != 'metadata':\n",
    "        \n",
    "            edit_widg_room_list = []\n",
    "            for room_id, room_content in rooms_dict.items():\n",
    "\n",
    "                if room_id != 'metadata':\n",
    "                    print('room_content: ' + str(room_content))\n",
    "                    print('room_content type: ' + str(type(room_content)))\n",
    "                    active_edit_widg_room_list = [widgets.Label(value='Floor: '),\n",
    "                                                  widgets.Label(value=str(floor_no)),\n",
    "                                                  widgets.Label(value='Room_ID: '),\n",
    "                                                  widgets.Label(value=str(room_id)),\n",
    "                                       widgets.Text(value=room_content.get('name'), description='name:'),\n",
    "                                       widgets.Text(value=room_content.get('desc'), description='desc:')]\n",
    "\n",
    "                    edit_widg_room_list.append(active_edit_widg_room_list)\n",
    "\n",
    "            edit_widg_list.append(edit_widg_room_list)\n",
    "    \n",
    "    \n",
    "    btn_update_building_structure_edit.disabled = False\n",
    "    btn_choose_sub_building_edit.disabled=True\n",
    "    input_rbtn_edit_AAA.disabled=True\n",
    "    \n",
    "    with output_choose_sub_building_edit:\n",
    "        output_choose_sub_building_edit.clear_output()\n",
    "        \n",
    "        if edit_show_dump.value == True:\n",
    "            display(EEP_building_client_edit.dump_building_structure())\n",
    "        \n",
    "        for widg_floor in edit_widg_list:\n",
    "            for widg in widg_floor:\n",
    "                display(widgets.HBox(widg))\n",
    "        \n",
    "        \n",
    "    \n",
    "btn_choose_sub_building_edit.on_click(btn_choose_sub_building_edit_click)\n",
    "widgets.VBox([output_choose_sub_building_edit, btn_update_building_structure_edit])"
   ]
  },
  {
   "cell_type": "code",
   "execution_count": 28,
   "metadata": {
    "ExecuteTime": {
     "end_time": "2021-10-13T19:19:59.025647Z",
     "start_time": "2021-10-13T19:19:59.000253Z"
    }
   },
   "outputs": [
    {
     "data": {
      "application/vnd.jupyter.widget-view+json": {
       "model_id": "7f2aa03cca884025acffd4ead80bfe90",
       "version_major": 2,
       "version_minor": 0
      },
      "text/plain": [
       "VBox(children=(Output(),))"
      ]
     },
     "metadata": {},
     "output_type": "display_data"
    }
   ],
   "source": [
    "def edit_building_structure_dict(floors_widget_list):\n",
    "    room_dict_list = []\n",
    "    for floor in floors_widget_list:\n",
    "        for room in floor:\n",
    "            widg_value_list = []\n",
    "            for widg in room:\n",
    "                widg_value_list.append(widg.value)\n",
    "\n",
    "            room_name = widg_value_list[4]\n",
    "            floor_no = widg_value_list[1]\n",
    "            room_id = widg_value_list[3]\n",
    "            desription = widg_value_list[5]\n",
    "\n",
    "            room_dict = {'AAA': input_rbtn_edit_AAA.value,\n",
    "                        'floor_no': floor_no,\n",
    "                        'room_id': room_id,\n",
    "                        'room_name': room_name,\n",
    "                         'description': desription #,'type':type_item\n",
    "                    }\n",
    "            room_dict_list.append(room_dict)\n",
    "    return room_dict_list\n",
    "\n",
    "\n",
    "def update_building_structure_edit(l):\n",
    "    \n",
    "    new_building_structure_dict = edit_building_structure_dict(edit_widg_list)\n",
    "    \n",
    "    for room_item in new_building_structure_dict:\n",
    "\n",
    "        room_id = room_item.get('room_id')\n",
    "        AAA = room_item.get('AAA')\n",
    "        floor = room_item.get('floor_no')\n",
    "        name = room_item.get('room_name')\n",
    "        description = room_item.get('description')\n",
    "        \n",
    "        EEP_building_client_edit.update_room(room_id=room_id,\n",
    "                                             AAA=AAA,\n",
    "                                             floor=floor,\n",
    "                                             name=name,\n",
    "                                             description= description)\n",
    "        \n",
    "        btn_upload_edit_building_structure_to_eep.disabled = False\n",
    "        \n",
    "    with output_update_building_structure_edit:\n",
    "        output_update_building_structure_edit.clear_output()\n",
    "        \n",
    "        display(EEP_building_client_edit.dump_building_structure())\n",
    "    \n",
    "btn_update_building_structure_edit.on_click(update_building_structure_edit)\n",
    "widgets.VBox([output_update_building_structure_edit])"
   ]
  },
  {
   "cell_type": "code",
   "execution_count": null,
   "metadata": {},
   "outputs": [],
   "source": []
  },
  {
   "cell_type": "code",
   "execution_count": 29,
   "metadata": {
    "ExecuteTime": {
     "end_time": "2021-10-13T19:19:59.088191Z",
     "start_time": "2021-10-13T19:19:59.030008Z"
    }
   },
   "outputs": [
    {
     "data": {
      "application/vnd.jupyter.widget-view+json": {
       "model_id": "2fcc18ef375d4115873c5e9e71b96e81",
       "version_major": 2,
       "version_minor": 0
      },
      "text/plain": [
       "VBox(children=(HBox(children=(Button(description='UPLOAD EDITED ROOMS TO EEP', disabled=True, layout=Layout(wi…"
      ]
     },
     "metadata": {},
     "output_type": "display_data"
    }
   ],
   "source": [
    "btn_upload_edit_building_structure_to_eep = widgets.Button(description='UPLOAD EDITED ROOMS TO EEP', disabled=True, layout = {'width' : '200pt'})\n",
    "btn_upload_edit_building_structure_to_eep.style.button_color = 'lightgreen'\n",
    "output_upload_edit_building_to_eep = widgets.Output()\n",
    "\n",
    "f_edit_max_count = 2\n",
    "\n",
    "f_edit = widgets.IntProgress(min=0, max=f_edit_max_count) # instantiate the bar\n",
    "\n",
    "def upload_edit_building_to_eep(o):\n",
    "    f_edit.value = 0\n",
    "    f_edit.value += 1\n",
    "    \n",
    "    EEP_building_client_edit.commit()\n",
    "    f_edit.value += 1\n",
    "    \n",
    "    with output_upload_edit_building_to_eep:\n",
    "        output_upload_edit_building_to_eep.clear_output()\n",
    "        print('Uploaded to EEP!')\n",
    "        \n",
    "        EEP_building_client_edit.dump_building_structure(raw=False)\n",
    "\n",
    "    \n",
    "btn_upload_edit_building_structure_to_eep.on_click(upload_edit_building_to_eep)\n",
    "\n",
    "widgets.VBox([widgets.HBox([btn_upload_edit_building_structure_to_eep, f_edit]), output_upload_edit_building_to_eep])"
   ]
  },
  {
   "cell_type": "code",
   "execution_count": null,
   "metadata": {
    "ExecuteTime": {
     "end_time": "2021-02-21T12:42:40.504732Z",
     "start_time": "2021-02-21T12:42:40.501510Z"
    }
   },
   "outputs": [],
   "source": []
  },
  {
   "cell_type": "markdown",
   "metadata": {},
   "source": [
    "***"
   ]
  },
  {
   "cell_type": "markdown",
   "metadata": {
    "ExecuteTime": {
     "end_time": "2021-02-01T22:27:20.689892Z",
     "start_time": "2021-02-01T22:27:20.684858Z"
    }
   },
   "source": [
    "## Delete rooms in existing building"
   ]
  },
  {
   "cell_type": "code",
   "execution_count": 30,
   "metadata": {
    "ExecuteTime": {
     "end_time": "2021-10-13T19:19:59.094877Z",
     "start_time": "2021-10-13T19:19:59.090854Z"
    }
   },
   "outputs": [],
   "source": [
    "#building_structure.delete(room_id=\"009\", AAA=\"GF\", floor=\"001\")"
   ]
  },
  {
   "cell_type": "markdown",
   "metadata": {},
   "source": [
    "Functionality not yet released. Contact EEP-Backend for manual delete."
   ]
  },
  {
   "cell_type": "markdown",
   "metadata": {},
   "source": [
    "***"
   ]
  },
  {
   "cell_type": "markdown",
   "metadata": {},
   "source": [
    "## Update building with metadata"
   ]
  },
  {
   "cell_type": "code",
   "execution_count": 31,
   "metadata": {
    "ExecuteTime": {
     "end_time": "2021-10-13T19:19:59.112981Z",
     "start_time": "2021-10-13T19:19:59.098651Z"
    }
   },
   "outputs": [],
   "source": [
    "def get_room_type_list_from_raw():\n",
    "    room_types_df = c.raw.rows.retrieve(\"energima_sensormaps\", \"tfm\", \"room\").columns\n",
    "    room_types_list = []\n",
    "    for r, k in room_types_df.items():\n",
    "        if isinstance(k, dict):\n",
    "            #print(k.get(\"name\"))\n",
    "            room_types_list.append(k.get(\"name\"))\n",
    "    \n",
    "    room_types_list.sort()\n",
    "    \n",
    "    return room_types_list\n",
    "\n",
    "def get_all_rooms_from_eep_api():\n",
    "    building_structure_list = building_structure_client.list()\n",
    "    \n",
    "    \n",
    "    return\n",
    "    \n",
    "\n",
    "def create_building_widgets(building_cat_list, building_type_list):\n",
    "    \n",
    "    global building_type_widget_list\n",
    "    \n",
    "    building_type_widget_list = []\n",
    "    for item in building_cat_list:\n",
    "        building_type_widget_list.append(widgets.Select(\n",
    "            options=building_type_list[int(building_cat_list.index(item))],\n",
    "            disabled=False\n",
    "        ))\n",
    "\n",
    "    accordion = widgets.Accordion(children=building_type_widget_list)\n",
    "\n",
    "    for item in building_cat_list:\n",
    "        accordion.set_title(building_cat_list.index(item), str(item))\n",
    "    \n",
    "    return accordion\n",
    "\n",
    "\n",
    "def prep_building_type_and_cat_list_info():\n",
    "    building_type_list = []\n",
    "    building_cat_list = []\n",
    "    building_types_dict = c.raw.rows.retrieve(\"energima_sensormaps\", \"tfm\", \"building\").columns\n",
    "    for k, v in building_types_dict.items():\n",
    "        if isinstance(v, dict):\n",
    "            pass\n",
    "        else:\n",
    "            building_type_list.append(v)\n",
    "            building_cat_list.append(k)\n",
    "    return building_type_list, building_cat_list\n",
    "\n",
    "\n",
    "def get_room_list_from_eep_api(AAA_val):\n",
    "    building_structure_list = building_structure_client.list(AAA=AAA_val)\n",
    "    metadata_list = []\n",
    "    floor_list = []\n",
    "    room_list = []\n",
    "    \n",
    "    for sub_build_k, sub_build_v in building_structure_list.items():\n",
    "        for floor_k, floor_v in sub_build_v.items():\n",
    "            if floor_k != 'metadata':\n",
    "            \n",
    "                for room_k, room_v in floor_v.items():\n",
    "                    if room_k != 'metadata':\n",
    "                        room_total_info_str = str('AAA: ' + str(sub_build_k) + ' -> Floor no: ' + str(floor_k) + ' -> Room no: ' + str(room_k) + '  ' + 'Room content: ' + str(room_v))\n",
    "                        room_list.append(room_total_info_str)\n",
    "                \n",
    "    return room_list\n",
    "\n",
    "def get_values_from_selected_room_list(select_room_list_values):\n",
    "    \"\"\"\n",
    "    values output from widget -> select_room_list.value (tuple)\n",
    "    \"\"\"\n",
    "    \n",
    "    data_as_string_list = list(select_room_list_values)\n",
    "    res_list = []\n",
    "    for item in data_as_string_list:\n",
    "        active_data_item_list = []\n",
    "        active_data_item_list = item.split(' ')\n",
    "        if len(active_data_item_list) > 10:\n",
    "            res_list.append([active_data_item_list[1], active_data_item_list[5], active_data_item_list[9]])\n",
    "        else:\n",
    "            print('Error extracting data from: ' + str(item))\n",
    "        #remove if successful\n",
    "    return res_list"
   ]
  },
  {
   "cell_type": "code",
   "execution_count": 32,
   "metadata": {
    "ExecuteTime": {
     "end_time": "2021-10-13T19:19:59.172485Z",
     "start_time": "2021-10-13T19:19:59.115347Z"
    },
    "scrolled": false
   },
   "outputs": [
    {
     "data": {
      "application/vnd.jupyter.widget-view+json": {
       "model_id": "98ca33d9ed1d44808b32caac72322230",
       "version_major": 2,
       "version_minor": 0
      },
      "text/plain": [
       "HBox(children=(Dropdown(description='Building:', layout=Layout(width='400px'), options=(), value=None), Button…"
      ]
     },
     "metadata": {},
     "output_type": "display_data"
    }
   ],
   "source": [
    "\n",
    "building_update_meta_list = []\n",
    "\n",
    "update_building_update_meta_drop_list = widgets.Dropdown(\n",
    "    options=building_list,\n",
    "    #value=building_update_meta_list[0],\n",
    "    description='Building:',\n",
    "    layout={'width': '400px'}\n",
    ")\n",
    "\n",
    "\n",
    "chkbx_update_building_update_meta_show_building_structure = widgets.Checkbox(\n",
    "    value=True,\n",
    "    description='Show building structure',\n",
    "    disabled=False\n",
    ")\n",
    "\n",
    "btn_choose_building_update_meta = widgets.Button(description=\"Choose Building\", layout={'width': '300px'})\n",
    "\n",
    "widgets.HBox([update_building_update_meta_drop_list, btn_choose_building_update_meta, chkbx_update_building_update_meta_show_building_structure])"
   ]
  },
  {
   "cell_type": "code",
   "execution_count": 33,
   "metadata": {
    "ExecuteTime": {
     "end_time": "2021-10-13T19:19:59.249472Z",
     "start_time": "2021-10-13T19:19:59.176817Z"
    }
   },
   "outputs": [
    {
     "data": {
      "application/vnd.jupyter.widget-view+json": {
       "model_id": "af57fae9bfbf4573a44b7f9940724aa7",
       "version_major": 2,
       "version_minor": 0
      },
      "text/plain": [
       "VBox(children=(Output(), RadioButtons(description='Choose sub_building:', layout=Layout(width='250pt'), option…"
      ]
     },
     "metadata": {},
     "output_type": "display_data"
    }
   ],
   "source": [
    "output_choose_building_update_meta = widgets.Output()\n",
    "\n",
    "btn_choose_metadata_to_update = widgets.Button(description='Select', layout={'width':'250pt'}, disabled=True)\n",
    "\n",
    "rbtn_choose_metadata_to_update = widgets.RadioButtons(\n",
    "    options=['Building/floor category', 'Area', 'Room Type'],\n",
    "    value='Room Type',\n",
    "    description='Choose metadata type:',\n",
    "    disabled=True,\n",
    "    layout={'width':'350pt'},\n",
    "    style= {'description_width': '200px'}\n",
    ")\n",
    "\n",
    "AAA_meta_update_list = []\n",
    "\n",
    "input_rbtn_AAA_meta_update = widgets.RadioButtons(\n",
    "    options=AAA_meta_update_list,\n",
    "    layout={'width': '250pt'}, # If the items' names are long\n",
    "    style={'description_width': '150px'},\n",
    "    description='Choose sub_building:',\n",
    "    disabled=False)\n",
    "\n",
    "       \n",
    "def choose_building_update_meta(g):\n",
    "    \n",
    "    global active_update_meta_root_asset, building_structure_client\n",
    "    \n",
    "    active_update_meta_root_asset = root_assets_list_df.loc[update_building_update_meta_drop_list.value].externalId\n",
    "    #print(active_update_meta_root_asset)\n",
    "    building_structure_client = PhysicalBuildingAPI(cdf_project=\"energima\",\n",
    "                                                    root_external_id=active_update_meta_root_asset,\n",
    "                                                    dryrun=False)\n",
    "    \n",
    "    rbtn_choose_metadata_to_update.disabled = False\n",
    "    btn_choose_metadata_to_update.disabled = False\n",
    "    \n",
    "    #--\n",
    "    AAA_meta_update_df = find_TFM_AAA(c=c, root_asset=active_update_meta_root_asset).to_pandas()\n",
    "    AAA_meta_update_list = list(AAA_meta_update_df.name)\n",
    "    try:\n",
    "        AAA_meta_update_list.remove('Common')\n",
    "    except Exception as err:\n",
    "        print(err)\n",
    "        pass\n",
    "    \n",
    "    input_rbtn_AAA_meta_update.options = AAA_meta_update_list\n",
    "    \n",
    "    #enables button if already used and rerun\n",
    "    btn_choose_building_update_meta.disabled = False\n",
    "    rbtn_choose_metadata_to_update.disabled = False\n",
    "    input_rbtn_AAA_meta_update.disabled = False\n",
    "    \n",
    "    #--\n",
    "    \n",
    "    with output_choose_building_update_meta:\n",
    "        output_choose_building_update_meta.clear_output()\n",
    "        output_choose_type_update_meta.clear_output()\n",
    "        output_area_widgets.clear_output()\n",
    "        output_add_type_to_room_and_remove_item_from_list.clear_output()\n",
    "        output_upload_building_types_and_cat_to_eep.clear_output()\n",
    "        output_uplad_all_types_to_eep.clear_output()\n",
    "        \n",
    "    \n",
    "        if chkbx_update_building_update_meta_show_building_structure.value == True:\n",
    "\n",
    "            building_structure_conent = building_structure_client.dump_building_structure(raw=False)\n",
    "            \n",
    "        else:\n",
    "            display(str(active_update_meta_root_asset))\n",
    "\n",
    "btn_choose_building_update_meta.on_click(choose_building_update_meta)\n",
    "\n",
    "\n",
    "widgets.VBox([output_choose_building_update_meta, input_rbtn_AAA_meta_update, widgets.HBox([rbtn_choose_metadata_to_update, btn_choose_metadata_to_update])])"
   ]
  },
  {
   "cell_type": "code",
   "execution_count": null,
   "metadata": {
    "ExecuteTime": {
     "end_time": "2021-04-21T10:48:13.913723Z",
     "start_time": "2021-04-21T10:48:13.760172Z"
    }
   },
   "outputs": [],
   "source": []
  },
  {
   "cell_type": "code",
   "execution_count": 34,
   "metadata": {
    "ExecuteTime": {
     "end_time": "2021-10-13T19:19:59.367478Z",
     "start_time": "2021-10-13T19:19:59.254305Z"
    },
    "scrolled": false
   },
   "outputs": [
    {
     "data": {
      "application/vnd.jupyter.widget-view+json": {
       "model_id": "fc63065256ca4086a5162642f8a78ac7",
       "version_major": 2,
       "version_minor": 0
      },
      "text/plain": [
       "VBox(children=(Output(),))"
      ]
     },
     "metadata": {},
     "output_type": "display_data"
    }
   ],
   "source": [
    "def read_floor_metadata(building_structure_client, floors_list):\n",
    "    floors_metadata_list = []\n",
    "    \n",
    "    for floor in floors_list:\n",
    "        \n",
    "        floor_metadata = building_structure_client.list_metadata(AAA=input_rbtn_AAA_meta_update.value, floor=floor)\n",
    "        \n",
    "        if floor_metadata is not None:\n",
    "        \n",
    "            data = {\n",
    "                'floor_no' : str(floor),\n",
    "                'building_type' : floor_metadata.get('building_type', ''),\n",
    "                'building_category' : floor_metadata.get('building_category', '')\n",
    "            }\n",
    "            \n",
    "        else:\n",
    "            \n",
    "            data = {\n",
    "                'floor_no' : str(floor),\n",
    "                'building_type' : '',\n",
    "                'building_category' : ''\n",
    "            }\n",
    "            \n",
    "    \n",
    "        floors_metadata_list.append(data)\n",
    "    return floors_metadata_list\n",
    "\n",
    "\n",
    "def update_floor_metadata(floors_metadata_list, floor_no, building_type, building_category):\n",
    "    \n",
    "    building_type_str = building_type\n",
    "\n",
    "    building_category_str = building_category\n",
    "\n",
    "    \n",
    "    for item in floors_metadata_list:\n",
    "        \n",
    "        old_building_type_list = []\n",
    "        old_building_cat_list = []\n",
    "        \n",
    "        if item['floor_no'] == floor_no:\n",
    "            \n",
    "            if len(item['building_type']) > 0:\n",
    "                old_building_type_list = item['building_type'].split(\";\")\n",
    "            else:\n",
    "                old_building_type_list = []\n",
    "            \n",
    "            if len(item['building_category']) > 0:\n",
    "                old_building_cat_list = item['building_category'].split(\";\")\n",
    "            else:\n",
    "                old_building_cat_list = []\n",
    "            \n",
    "            if building_type_str not in old_building_type_list:  \n",
    "                old_building_type_list.append(building_type_str)\n",
    "                item['building_type'] = \";\".join(old_building_type_list)\n",
    "                \n",
    "            if building_category_str not in old_building_cat_list:\n",
    "                old_building_cat_list.append(building_category_str)\n",
    "                item['building_category'] = \";\".join(old_building_cat_list)\n",
    "                \n",
    "\n",
    "def clear_floor_metadata(floors_metadata_list, floor_no):\n",
    "    for item in floors_metadata_list:\n",
    "        if item['floor_no'] == floor_no:\n",
    "            item['building_type'] = ''\n",
    "            item['building_category'] = ''\n",
    "\n",
    "\n",
    "#----start gui\n",
    "\n",
    "chk_commit_upload_building_types_and_cat_to_eep = widgets.Checkbox(description='Dry run', value=False)\n",
    "output_choose_type_update_meta = widgets.Output()\n",
    "btn_add_type_to_room = widgets.Button(description='Add type to rooms', layout={'width':'800px', 'height': '50px'})\n",
    "lbl_spacer_update_metadata_type = widgets.Label(layout={'height':'30px'})\n",
    "lbl_spacer_floor_reset = widgets.Label(value='NB! A type must be chosen for each floor. Unselected floors will get type & category None')\n",
    "\n",
    "btn_add_types_to_floors = widgets.Button(description='Add')\n",
    "btn_clear_types_to_floors = widgets.Button(description='Clear types from selected floors', layout = {'width':'300px'})\n",
    "btn_clear_types_to_floors.style.button_color = 'yellow'\n",
    "\n",
    "def choose_type_update_meta(i):\n",
    "    global floor_metadata_dict_list, floors_type_metadata, floor_no_metaupdate_list, room_list, room_type_update_meta_list, AAA_meta_update_selected, select_roomtype_list, select_room_list, btn_add_type_to_room, data_list_for_room_type_update_type, data_list_for_room_type_update, floors_type_metadata, input_floors_metadata_multiselect, widget_building_type, building_type_list, building_cat_list, rbtn_choose_building_level_area\n",
    "    \n",
    "    AAA_meta_update_selected = input_rbtn_AAA_meta_update.value\n",
    "\n",
    "    if rbtn_choose_metadata_to_update.value == 'Building/floor category':\n",
    "        \n",
    "        #collecting building cathegories and types from raw and creates accordion widgets\n",
    "        building_type_list, building_cat_list = prep_building_type_and_cat_list_info()\n",
    "        widget_building_type = create_building_widgets(building_cat_list, building_type_list)\n",
    "        \n",
    "       \n",
    "        building_dict_temp = building_structure_client.list(AAA=AAA_meta_update_selected)\n",
    "        floor_no_metaupdate_list = []\n",
    "        for k, v in building_dict_temp.items():\n",
    "            for k1, v1 in v.items():\n",
    "                #print(str(k1))\n",
    "                if k1 != 'metadata':\n",
    "                    floor_no_metaupdate_list.append(k1)\n",
    "                \n",
    "        input_floors_metadata_multiselect = widgets.SelectMultiple(\n",
    "            options=floor_no_metaupdate_list,\n",
    "            description='Floors:',\n",
    "            disabled=False,\n",
    "            layout = {'width' : '400px', 'height' : '400px'}\n",
    "        )\n",
    "                \n",
    "        floor_metadata_dict_list = read_floor_metadata(building_structure_client=building_structure_client,\n",
    "                                                       floors_list=floor_no_metaupdate_list)\n",
    "        \n",
    "        floors_type_metadata = widgets.SelectMultiple(\n",
    "            options=floor_metadata_dict_list,\n",
    "            description='Floors metadata:',\n",
    "            disabled=True,\n",
    "            layout = {'width' : '400px', 'height' : '400px'}\n",
    "        )\n",
    "        \n",
    "        \n",
    "        button_box = widgets.HBox([btn_add_types_to_floors, btn_clear_types_to_floors])\n",
    "        \n",
    "        content_box = widgets.HBox([widget_building_type, widgets.VBox([lbl_spacer_floor_reset, input_floors_metadata_multiselect, button_box])])\n",
    "        \n",
    "        bottom_box = widgets.HBox([btn_upload_building_types_and_cat_to_eep, chk_commit_upload_building_types_and_cat_to_eep])\n",
    "        \n",
    "        output =  widgets.VBox([content_box, lbl_spacer_update_metadata_type, bottom_box])\n",
    "        \n",
    "        \n",
    "        \n",
    "        #disables button after selected\n",
    "        btn_choose_metadata_to_update.disabled = True\n",
    "        rbtn_choose_metadata_to_update.disabled = True\n",
    "        input_rbtn_AAA_meta_update.disabled = True\n",
    "        \n",
    "        \n",
    "        \n",
    "    #--------   \n",
    "    \n",
    "    elif rbtn_choose_metadata_to_update.value == 'Area':\n",
    "        #output = str('Area chosen. No functionality here yet!')\n",
    "        \n",
    "        \n",
    "        rbtn_choose_building_level_area = widgets.RadioButtons(\n",
    "            options=['Total building area (distributed evely)', 'Floor areas (distributed evely)', 'Rooms (entered individually)'],\n",
    "            value='Total building area (distributed evely)',\n",
    "            description='Choose method to set area:',\n",
    "            disabled=False,\n",
    "            layout={'width':'350pt'},\n",
    "            style={'description_width': '200px'}\n",
    "        )\n",
    "\n",
    "        \n",
    "        output =  widgets.HBox([rbtn_choose_building_level_area, btn_choose_building_level_area])\n",
    "        \n",
    "\n",
    "        #disables button after selected\n",
    "        btn_choose_metadata_to_update.disabled = True\n",
    "        rbtn_choose_metadata_to_update.disabled = True\n",
    "        input_rbtn_AAA_meta_update.disabled = True\n",
    "    \n",
    "    #---------\n",
    "    \n",
    "    \n",
    "    elif rbtn_choose_metadata_to_update.value == 'Room Type':\n",
    "        \n",
    "        #empty lists to start extraction from lists\n",
    "        data_list_for_room_type_update = []\n",
    "        data_list_for_room_type_update_type = []\n",
    "        \n",
    "        #retrieving data from raw and eep-api and creating selection widgets\n",
    "        room_type_update_meta_list = get_room_type_list_from_raw()\n",
    "        \n",
    "        try:\n",
    "            room_list = get_room_list_from_eep_api(input_rbtn_AAA_meta_update.value)\n",
    "            btn_add_type_to_room.disabled = False\n",
    "            \n",
    "        except:\n",
    "            room_list = []\n",
    "            btn_add_type_to_room.disabled = True\n",
    "            print('No rooms found! Try creating physical building.')\n",
    "\n",
    "        lbl_select_roomtype_list = widgets.Label(value='Room Types:')\n",
    "        select_roomtype_list = widgets.Select(\n",
    "            options=room_type_update_meta_list,\n",
    "            layout={'width': '250px', 'height' : '800px'}\n",
    "        )\n",
    "\n",
    "        lbl_spacer_room_type_to_room = widgets.Label(value='', layout={'width':'50px'})\n",
    "\n",
    "        lbl_select_rooms_list = widgets.Label(value='Rooms:')\n",
    "        select_room_list = widgets.SelectMultiple(\n",
    "            options=room_list,\n",
    "            layout={'width': '800px', 'height': '800px'},\n",
    "            disabled=False\n",
    "        )\n",
    "\n",
    "        output = widgets.HBox([widgets.VBox([lbl_select_roomtype_list, select_roomtype_list]),\n",
    "                               lbl_spacer_room_type_to_room , widgets.VBox([lbl_select_rooms_list,\n",
    "                                select_room_list, btn_add_type_to_room])])\n",
    "        \n",
    "        #disables button after selected\n",
    "        btn_choose_metadata_to_update.disabled = True\n",
    "        rbtn_choose_metadata_to_update.disabled = True\n",
    "        input_rbtn_AAA_meta_update.disabled = True\n",
    "    \n",
    "    else:\n",
    "        output = str('Nothing chosen')\n",
    "        pass\n",
    "    \n",
    "    with output_choose_type_update_meta:\n",
    "        output_choose_type_update_meta.clear_output()\n",
    "        display(output)\n",
    "        \n",
    "btn_choose_metadata_to_update.on_click(choose_type_update_meta)\n",
    "\n",
    "widgets.VBox([output_choose_type_update_meta])"
   ]
  },
  {
   "cell_type": "code",
   "execution_count": 35,
   "metadata": {
    "ExecuteTime": {
     "end_time": "2021-10-13T19:19:59.438227Z",
     "start_time": "2021-10-13T19:19:59.371688Z"
    },
    "scrolled": false
   },
   "outputs": [
    {
     "data": {
      "application/vnd.jupyter.widget-view+json": {
       "model_id": "b3ca549062894c2f9082398731fb82f6",
       "version_major": 2,
       "version_minor": 0
      },
      "text/plain": [
       "VBox(children=(Output(),))"
      ]
     },
     "metadata": {},
     "output_type": "display_data"
    }
   ],
   "source": [
    "output_area_widgets = widgets.Output()\n",
    "btn_set_area = widgets.Button(description='Upload areas to EEP',layout={'width':'350pt'})\n",
    "btn_set_area.style.button_color = 'lightgreen'\n",
    "\n",
    "btn_choose_building_level_area = widgets.Button(description='Choose selected method',\n",
    "                                                style= {'description_width': '200px'},\n",
    "                                                layout={'width':'350pt'})\n",
    "\n",
    "def create_area_widgets(l):\n",
    "    \n",
    "    global area_output\n",
    "    \n",
    "    if rbtn_choose_building_level_area.value == 'Total building area (distributed evely)':\n",
    "        \n",
    "        building_structure_dict = building_structure_client.list_metadata(AAA=AAA_meta_update_selected)\n",
    "        \n",
    "        area = building_structure_dict.get('area')\n",
    "        \n",
    "        total_area_widget = widgets.Text(\n",
    "            value= str(area),   #input for existing value\n",
    "            description='Total area for building:',\n",
    "            disabled=False,\n",
    "            layout={'width':'350pt'},\n",
    "            style={'description_width': '200px'}\n",
    "        )\n",
    "        \n",
    "        area_output = [[total_area_widget]]\n",
    "        \n",
    "    \n",
    "    elif rbtn_choose_building_level_area.value == 'Floor areas (distributed evely)':\n",
    "        \n",
    "        #find floors with rooms\n",
    "        building_structure_dict = building_structure_client.list(AAA=AAA_meta_update_selected)\n",
    "\n",
    "        floor_list = []\n",
    "        floor_no_list = []\n",
    "        floor_area_list = []\n",
    "        \n",
    "        for k,v in building_structure_dict[AAA_meta_update_selected].items():\n",
    "            if k != 'metadata':\n",
    "                floor_no_list.append(k)\n",
    "                room_list = []\n",
    "\n",
    "                for k1, v1 in v.items():\n",
    "                    if k1 != 'metadata':\n",
    "                        room_list.append(k1)\n",
    "                    if k1 == 'metadata':\n",
    "                        floor_area_list.append(v1.get('area'))\n",
    "\n",
    "                floor_list.append(room_list)\n",
    "                \n",
    "\n",
    "        #check if any floor has 0 rooms, then this floor is dropped\n",
    "        list_index = 0\n",
    "        drop_index_list = []\n",
    "        for floor in floor_list:\n",
    "            if len(floor) == 0:\n",
    "                drop_index_list.append(list_index)\n",
    "\n",
    "            list_index +=1\n",
    "\n",
    "        #removes floors from list of floor_list\n",
    "        new_floor_list = [ elem for elem in floor_list if len(elem) != 0]\n",
    "        \n",
    "        \n",
    "        drop_flor_no_list = []\n",
    "        for item in drop_index_list:\n",
    "            drop_flor_no_list.append(floor_no_list[item])\n",
    "            \n",
    "\n",
    "        floor_no_w_rooms_list = [e for e in floor_no_list if e not in drop_flor_no_list]\n",
    "        \n",
    "        floor_area_w_rooms_list = [e for e in floor_area_list if e not in drop_flor_no_list]\n",
    "        \n",
    "        print(floor_area_w_rooms_list)\n",
    "        \n",
    "        floor_area_widg_list = []\n",
    "        i = 0\n",
    "        for floor in floor_no_w_rooms_list:\n",
    "            \n",
    "            floor_area_widg_list.append(widgets.Text(\n",
    "                value=floor_area_w_rooms_list[i],  #input for existing value\n",
    "                placeholder='area',\n",
    "                description= 'Floor: ' + str(floor),\n",
    "                disabled=False,\n",
    "                layout={'width':'350pt'},\n",
    "                style={'description_width': '200px'}\n",
    "            ))\n",
    "            \n",
    "            i +=1\n",
    "        \n",
    "        area_output = [floor_area_widg_list]\n",
    "        \n",
    "        pass\n",
    "    \n",
    "    elif rbtn_choose_building_level_area.value == 'Rooms (entered individually)':\n",
    "        \n",
    "        \n",
    "        building_structure_dict = building_structure_client.list(AAA=AAA_meta_update_selected)\n",
    "\n",
    "        floor_list = []\n",
    "        floor_no_list = []\n",
    "        for k,v in building_structure_dict[AAA_meta_update_selected].items():\n",
    "            if k != 'metadata':\n",
    "                floor_no_list.append(k)\n",
    "                room_list = []\n",
    "\n",
    "                for k1, v1 in v.items():\n",
    "                    if k1 != 'metadata':\n",
    "                        room_data = {\n",
    "                            'id' : str(k1),\n",
    "                            'name' : v1.get('name'),\n",
    "                            'desc' : v1.get('desc'),\n",
    "                            'area' : v1.get('area')\n",
    "                        }\n",
    "                        \n",
    "                        room_list.append(room_data)\n",
    "\n",
    "                floor_list.append(room_list)\n",
    "                \n",
    "        #check if any floor has 0 rooms, then this floor is dropped\n",
    "        list_index = 0\n",
    "        drop_index_list = []\n",
    "        for floor in floor_list:\n",
    "            if len(floor) == 0:\n",
    "                drop_index_list.append(list_index)\n",
    "\n",
    "            list_index +=1\n",
    "\n",
    "        #removes floors from list of floor_list\n",
    "        new_floor_list = [ elem for elem in floor_list if len(elem) != 0]\n",
    "\n",
    "        drop_flor_no_list = []\n",
    "        for item in drop_index_list:\n",
    "            drop_flor_no_list.append(floor_no_list[item])\n",
    "\n",
    "        floor_no_w_rooms_list = [e for e in floor_no_list if e not in drop_flor_no_list]\n",
    "        \n",
    "        #--\n",
    "\n",
    "        room_floor_area_widg_list = []\n",
    "        \n",
    "        i = 0\n",
    "        for floor in new_floor_list:\n",
    "            \n",
    "            room_area_widg_list = []\n",
    "            \n",
    "            for room in floor:\n",
    "                \n",
    "                room_area_widg_list.append(widgets.Text(\n",
    "                    value= room.get('area'),  #input for existing value\n",
    "                    placeholder='m2',\n",
    "                    description= 'Floor: ' + '\"' + str(floor_no_w_rooms_list[i]) + '\"' + ' - Room' + '(' + str(room.get('id')) +')' +': ' + str(room.get('name')) + ' - ' + str(room.get('desc')),\n",
    "                    disabled=False,\n",
    "                    layout={'width':'500pt'},\n",
    "                    style={'description_width': '350px'}\n",
    "                ))\n",
    "            \n",
    "            i+=1\n",
    "            \n",
    "            room_floor_area_widg_list.append(room_area_widg_list)\n",
    "            \n",
    "        area_output = room_floor_area_widg_list\n",
    "    \n",
    "\n",
    "    with output_area_widgets:\n",
    "        output_area_widgets.clear_output()\n",
    "        \n",
    "        flat_list = [item for sublist in area_output for item in sublist]\n",
    "        \n",
    "        display(widgets.VBox(flat_list + [btn_set_area]))\n",
    "\n",
    "\n",
    "\n",
    "btn_choose_building_level_area.on_click(create_area_widgets)\n",
    "widgets.VBox([output_area_widgets])\n"
   ]
  },
  {
   "cell_type": "code",
   "execution_count": null,
   "metadata": {
    "ExecuteTime": {
     "end_time": "2021-04-27T08:16:18.229459Z",
     "start_time": "2021-04-27T08:16:18.225231Z"
    }
   },
   "outputs": [],
   "source": []
  },
  {
   "cell_type": "code",
   "execution_count": null,
   "metadata": {
    "ExecuteTime": {
     "end_time": "2021-04-27T08:16:03.136436Z",
     "start_time": "2021-04-27T08:16:03.133375Z"
    }
   },
   "outputs": [],
   "source": []
  },
  {
   "cell_type": "code",
   "execution_count": 36,
   "metadata": {
    "ExecuteTime": {
     "end_time": "2021-10-13T19:19:59.463257Z",
     "start_time": "2021-10-13T19:19:59.441187Z"
    }
   },
   "outputs": [],
   "source": [
    "def update_higher_level_area_metadata_from_rooms_and_commit(client, AAA_list = ['AAA']):\n",
    "    building_structure_client = client\n",
    "    \n",
    "    for AAA in AAA_list:\n",
    "        \n",
    "        building_structure_dict = building_structure_client.list(AAA=AAA)\n",
    "        \n",
    "        area_floor_list = []\n",
    "        \n",
    "        for k,v in building_structure_dict[AAA].items():\n",
    "            print('Floor ' + k)\n",
    "            area_room_list = []\n",
    "            if k != 'metadata':\n",
    "            \n",
    "                for k1, v1 in v.items():\n",
    "                    #room level\n",
    "                    #print(k1)\n",
    "                    if k1 != 'metadata':\n",
    "                        #print(k1)\n",
    "                        #print(v1)\n",
    "                        active_room_name = v1.get('name')\n",
    "                        active_room_area = v1.get('area')\n",
    "                        #print('Room_name: ' + str(active_room_name))\n",
    "                        #print('Active_room_area: ' + str(active_room_area))\n",
    "\n",
    "                        if active_room_area == '':\n",
    "                            active_room_area = 0\n",
    "\n",
    "                        area_room_list.append(active_room_area)\n",
    "            \n",
    "                #floor level\n",
    "\n",
    "                #print(area_room_list)\n",
    "                \n",
    "                area_floor_list.append(sum(map(float, area_room_list)))\n",
    "\n",
    "                floor_metadata_dict_old = building_structure_client.list_metadata(AAA=AAA, floor=k)\n",
    "                \n",
    "                if floor_metadata_dict_old:\n",
    "                    pass\n",
    "                else:\n",
    "                    floor_metadata_dict_old = {}\n",
    "\n",
    "                floor_metadata_dict = {\n",
    "                    'AAA' : AAA,\n",
    "                    'floor' : k,\n",
    "                    'floor_type' : floor_metadata_dict_old.get('type'),\n",
    "                    'category' : floor_metadata_dict_old.get('category'),\n",
    "                    'area' : str(round(sum(map(float, area_room_list)),0)),\n",
    "                    'energy_label' : floor_metadata_dict_old.get('energy_label'),\n",
    "                    'opening_hours' : floor_metadata_dict_old.get('opening_hours'),\n",
    "                    'metadata' : floor_metadata_dict_old.get('metadata',{})\n",
    "                }\n",
    "\n",
    "                #print(floor_metadata_dict)\n",
    "\n",
    "                building_structure_client.add_metadata_floor(AAA = floor_metadata_dict.get('AAA'),\n",
    "                                                             floor = floor_metadata_dict.get('floor'),\n",
    "                                                             floor_type = floor_metadata_dict.get('floor_type'),\n",
    "                                                             category = floor_metadata_dict.get('category'),\n",
    "                                                             area = floor_metadata_dict.get('area'),\n",
    "                                                             energy_label = floor_metadata_dict.get('energy_label'),\n",
    "                                                             opening_hours = floor_metadata_dict.get('opening_hours'),\n",
    "                                                             metadata = floor_metadata_dict.get('metadata'),\n",
    "                                                             replace = True\n",
    "                                                            )\n",
    "        \n",
    "        #sub_building level\n",
    "        \n",
    "        sub_building_metadata_dict_old = building_structure_client.list_metadata(AAA=AAA)\n",
    "              \n",
    "        if sub_building_metadata_dict_old:\n",
    "                        \n",
    "            #print(type(sub_building_metadata_dict_old))\n",
    "            \n",
    "            sub_building_metadata_dict = {\n",
    "                \n",
    "                'AAA' : AAA,\n",
    "                'category' : sub_building_metadata_dict_old.get('category'),\n",
    "                'building_type' : sub_building_metadata_dict_old.get('type'),\n",
    "                'area' : str(round(sum(area_floor_list),1)),\n",
    "                'energy_label' : sub_building_metadata_dict_old.get('energy_label'),\n",
    "                'opening_hours' : sub_building_metadata_dict_old.get('opening_hours'),\n",
    "                'metadata' : sub_building_metadata_dict_old.get('metadata',{})\n",
    "            }\n",
    "        \n",
    "        else:\n",
    "            \n",
    "            sub_building_metadata_dict = {\n",
    "                \n",
    "                'AAA' : AAA,\n",
    "                'category' : '',\n",
    "                'building_type' : '',\n",
    "                'area' : str(round(sum(area_floor_list),0)),\n",
    "                'energy_label' : '',\n",
    "                'opening_hours' : '',\n",
    "                'metadata' : {}\n",
    "            }\n",
    "            \n",
    "        #print(sub_building_metadata_dict)\n",
    "\n",
    "        building_structure_client.add_metadata_sub_building(AAA = AAA,\n",
    "                                                            building_type = sub_building_metadata_dict.get('building_type'),\n",
    "                                                            category = sub_building_metadata_dict.get('category'),\n",
    "                                                            area = sub_building_metadata_dict.get('area'),\n",
    "                                                            energy_label = sub_building_metadata_dict.get('energy_label'),\n",
    "                                                            opening_hours = sub_building_metadata_dict.get('opening_hours'),\n",
    "                                                            metadata = sub_building_metadata_dict.get('metadata'),\n",
    "                                                            replace = True)\n",
    "    \n",
    "    building_structure_client.commit()\n",
    "    \n",
    "    #print(building_structure_client.list_metadata())\n",
    "\n",
    "    #return \n",
    "    "
   ]
  },
  {
   "cell_type": "code",
   "execution_count": 37,
   "metadata": {
    "ExecuteTime": {
     "end_time": "2021-10-13T19:19:59.480624Z",
     "start_time": "2021-10-13T19:19:59.467645Z"
    }
   },
   "outputs": [],
   "source": [
    "def generate_building_areas_sub_building(total_area, AAA):\n",
    "    \n",
    "    #all higher level building structure areas are a sum function of all items on the room level\n",
    "    \n",
    "\n",
    "        # set area only from total area of building, distribute evenly over floors and all rooms.\n",
    "        \n",
    "        #get all floors\n",
    "        # devide total area on nmber of rooms\n",
    "        \n",
    "    print('total_area: ' + str(total_area))\n",
    "        \n",
    "    building_structure_dict = building_structure_client.list(AAA=AAA)\n",
    "    \n",
    "    floor_list = []\n",
    "    floor_no_list = []\n",
    "    for k,v in building_structure_dict[AAA].items():\n",
    "        if k != 'metadata':\n",
    "            floor_no_list.append(k)\n",
    "            room_list = []\n",
    "            \n",
    "            for k1, v1 in v.items():\n",
    "                if k1 != 'metadata':\n",
    "                    room_list.append(k1)\n",
    "\n",
    "            floor_list.append(room_list)\n",
    "   \n",
    "   \n",
    "    \n",
    "    print('Total floors: ' + str(len(floor_list)))\n",
    "\n",
    "    #check if any floor has 0 rooms, then this floor is dropped\n",
    "    list_index = 0\n",
    "    drop_index_list = []\n",
    "    for floor in floor_list:\n",
    "        if len(floor) == 0:\n",
    "            drop_index_list.append(list_index)\n",
    "        \n",
    "        list_index +=1\n",
    "    \n",
    "    #removes floors from list of floor_list\n",
    "    new_floor_list = [ elem for elem in floor_list if len(elem) != 0]\n",
    "    \n",
    "    drop_flor_no_list = []\n",
    "    for item in drop_index_list:\n",
    "        drop_flor_no_list.append(floor_no_list[item])\n",
    "    \n",
    "    #print(drop_flor_no_list)\n",
    "    \n",
    "    \n",
    "    new_floor_no_list = [e for e in floor_no_list if e not in drop_flor_no_list]\n",
    "    \n",
    "    print('Floors with rooms: ' + str(new_floor_no_list))\n",
    "    \n",
    "    print('Total floors with rooms: ' + str(len(new_floor_list)))\n",
    "    \n",
    "    floor_area_avg = float(total_area) / len(new_floor_list)\n",
    "    \n",
    "    print('Snitt areal pr etg: ' + str(floor_area_avg))\n",
    "    \n",
    "    \n",
    "    i = 0\n",
    "    for floor in new_floor_list:\n",
    "        tot_rooms_in_floor = len(floor)\n",
    "        \n",
    "        print('Floor: ' + str(new_floor_no_list[i]))\n",
    "        \n",
    "        print('tot_rooms_in_floor: ' + str(tot_rooms_in_floor))\n",
    "        \n",
    "        for room in floor:\n",
    "            #print(room)\n",
    "            #print(str(floor_area_avg/tot_rooms_in_floor))\n",
    "            \n",
    "            building_structure_client.update_room(\n",
    "                room_id = str(room),\n",
    "                AAA = str(AAA),\n",
    "                floor = str(new_floor_no_list[i]),\n",
    "                area = str(round(floor_area_avg/tot_rooms_in_floor,2))\n",
    "            )\n",
    "\n",
    "        \n",
    "        i +=1\n",
    "\n",
    "        \n",
    "       \n",
    "    \n",
    "    return floor_list, floor_no_list, new_floor_no_list"
   ]
  },
  {
   "cell_type": "code",
   "execution_count": 38,
   "metadata": {
    "ExecuteTime": {
     "end_time": "2021-10-13T19:19:59.495721Z",
     "start_time": "2021-10-13T19:19:59.483373Z"
    }
   },
   "outputs": [],
   "source": [
    "def generate_building_areas_floor(total_area_floors_list, AAA):\n",
    "    \n",
    "    #all higher level building structure areas are a sum function of all items on the room level\n",
    "    \n",
    "\n",
    "    # set area from list of total area pr floor, distribute evenly over floors and all rooms.\n",
    "\n",
    "    #get all floors and devide the floor_area over rooms\n",
    "    # devide total area from eac floor evenly on number of rooms\n",
    "        \n",
    "    print('total_area: ' + str(sum(total_area_floors_list)))\n",
    "        \n",
    "    building_structure_dict = building_structure_client.list(AAA=AAA)\n",
    "    \n",
    "    floor_list = []\n",
    "    floor_no_list = []\n",
    "    for k,v in building_structure_dict[AAA].items():\n",
    "        if k != 'metadata':\n",
    "            floor_no_list.append(k)\n",
    "            room_list = []\n",
    "            \n",
    "            for k1, v1 in v.items():\n",
    "                if k1 != 'metadata':\n",
    "                    room_list.append(k1)\n",
    "\n",
    "            floor_list.append(room_list)\n",
    "   \n",
    "       \n",
    "    print('Total floors: ' + str(len(floor_list)))\n",
    "\n",
    "    #check if any floor has 0 rooms, then this floor is dropped\n",
    "    list_index = 0\n",
    "    drop_index_list = []\n",
    "    for floor in floor_list:\n",
    "        if len(floor) == 0:\n",
    "            drop_index_list.append(list_index)\n",
    "        \n",
    "        list_index +=1\n",
    "    \n",
    "    #removes floors from list of floor_list\n",
    "    new_floor_list = [ elem for elem in floor_list if len(elem) != 0]\n",
    "    \n",
    "    drop_flor_no_list = []\n",
    "    for item in drop_index_list:\n",
    "        drop_flor_no_list.append(floor_no_list[item])\n",
    "    \n",
    "    #print(drop_flor_no_list)\n",
    "    \n",
    "    \n",
    "    new_floor_no_list = [e for e in floor_no_list if e not in drop_flor_no_list]\n",
    "    \n",
    "    print('Floors with rooms: ' + str(new_floor_no_list))\n",
    "    \n",
    "    print('Total floors with rooms: ' + str(len(new_floor_list)))\n",
    "    \n",
    "    print('------')\n",
    "    \n",
    "    #check if length of input total_area_floors_list matches the number of floors in selected subbuilding\n",
    "    \n",
    "    if len(total_area_floors_list) == len(new_floor_list):\n",
    "    \n",
    "        i = 0\n",
    "        for floor in new_floor_list:\n",
    "            tot_rooms_in_floor = len(floor)\n",
    "\n",
    "            print('Floor: ' + str(new_floor_no_list[i]))\n",
    "\n",
    "            print('tot_rooms_in_floor: ' + str(tot_rooms_in_floor))\n",
    "            print('avg room area in floor: ' + str(total_area_floors_list[i]/tot_rooms_in_floor))\n",
    "\n",
    "            for room in floor:\n",
    "                #print(room)\n",
    "                #print(str(floor_area_avg/tot_rooms_in_floor))\n",
    "\n",
    "                building_structure_client.update_room(\n",
    "                    room_id = str(room),\n",
    "                    AAA = str(AAA),\n",
    "                    floor = str(new_floor_no_list[i]),\n",
    "                    area = str(round(total_area_floors_list[i]/tot_rooms_in_floor,2))\n",
    "                )\n",
    "\n",
    "\n",
    "            i +=1\n",
    "    else:\n",
    "        print('ERROR! Missmatch between numder of input floor areas and the number of found floors with rooms.')\n",
    "        print('No area updated. Exiting...')\n",
    "        print('')\n",
    "\n",
    "       \n",
    "    \n",
    "    return floor_list, floor_no_list, new_floor_no_list"
   ]
  },
  {
   "cell_type": "code",
   "execution_count": 39,
   "metadata": {
    "ExecuteTime": {
     "end_time": "2021-10-13T19:19:59.515320Z",
     "start_time": "2021-10-13T19:19:59.508240Z"
    }
   },
   "outputs": [],
   "source": [
    "def generate_building_areas_rooms(total_area_rooms_list, AAA):\n",
    "    \n",
    "    for floor in area_output:\n",
    "        for room in floor:\n",
    "            \n",
    "            room_id = find_between(room.description, '(',')' )\n",
    "            floor_no = find_between(room.description, '\"','\"' )\n",
    "            area = room.value\n",
    "            \n",
    "            if area == '':\n",
    "                area = 0\n",
    "            \n",
    "            building_structure_client.update_room(\n",
    "                room_id = str(room_id),\n",
    "                AAA = str(AAA_meta_update_selected),\n",
    "                floor = str(floor_no),\n",
    "                area = str(area)\n",
    "            )\n",
    "    \n",
    "    "
   ]
  },
  {
   "cell_type": "code",
   "execution_count": 40,
   "metadata": {
    "ExecuteTime": {
     "end_time": "2021-10-13T19:19:59.533215Z",
     "start_time": "2021-10-13T19:19:59.518565Z"
    }
   },
   "outputs": [],
   "source": [
    "output_set_area = widgets.Output()\n",
    "\n",
    "def upload_building_areas_room_to_eepa(o):\n",
    "    \n",
    "    f2.value = 0\n",
    "    f2.max = 3\n",
    "   \n",
    "    #total given\n",
    "    if rbtn_choose_building_level_area.value == 'Total building area (distributed evely)':\n",
    "        \n",
    "        total_area = area_output[0][0].value\n",
    "        \n",
    "        f2.value += 1\n",
    "        \n",
    "        generate_building_areas_sub_building(total_area, AAA=str(AAA_meta_update_selected))\n",
    "        \n",
    "    \n",
    "    #each floor given\n",
    "    if rbtn_choose_building_level_area.value == 'Floor areas (distributed evely)':\n",
    "        total_area_floors_list = []\n",
    "        \n",
    "        for floor in area_output[0]:\n",
    "            total_area_floors_list.append(float(floor.value))            \n",
    "        \n",
    "        f2.value += 1\n",
    "        \n",
    "        generate_building_areas_floor(total_area_floors_list, AAA=str(AAA_meta_update_selected))\n",
    "    \n",
    "    \n",
    "    #all romms given\n",
    "    if rbtn_choose_building_level_area.value == 'Rooms (entered individually)':\n",
    "        \n",
    "        total_area_rooms_list = area_output\n",
    "        \n",
    "        f2.value += 1\n",
    "        \n",
    "        generate_building_areas_rooms(total_area_rooms_list, AAA=str(AAA_meta_update_selected))\n",
    "    \n",
    "    \n",
    "    \n",
    "    #buttom up approach updating\n",
    "    \n",
    "    f2.value += 1\n",
    "    \n",
    "    update_higher_level_area_metadata_from_rooms_and_commit(client = building_structure_client, AAA_list = [str(AAA_meta_update_selected)])\n",
    "    \n",
    "    f2.value += 1\n",
    "    \n",
    "    with output_set_area:\n",
    "        output_set_area.clear_output()\n",
    "        \n",
    "        display(print('Done! Area updated in EEP'))\n",
    "        \n",
    "btn_set_area.on_click(upload_building_areas_room_to_eepa)"
   ]
  },
  {
   "cell_type": "code",
   "execution_count": 41,
   "metadata": {
    "ExecuteTime": {
     "end_time": "2021-10-13T19:19:59.542379Z",
     "start_time": "2021-10-13T19:19:59.536481Z"
    }
   },
   "outputs": [],
   "source": [
    "def find_between( s, first, last ):\n",
    "    try:\n",
    "        start = s.index( first ) + len( first )\n",
    "        end = s.index( last, start )\n",
    "        return s[start:end]\n",
    "    except ValueError:\n",
    "        return \"\""
   ]
  },
  {
   "cell_type": "code",
   "execution_count": 42,
   "metadata": {
    "ExecuteTime": {
     "end_time": "2021-10-13T19:19:59.587377Z",
     "start_time": "2021-10-13T19:19:59.545962Z"
    }
   },
   "outputs": [
    {
     "data": {
      "application/vnd.jupyter.widget-view+json": {
       "model_id": "36fca354a4864cdd86ad3ef1a3faaf0e",
       "version_major": 2,
       "version_minor": 0
      },
      "text/plain": [
       "VBox(children=(Output(),))"
      ]
     },
     "metadata": {},
     "output_type": "display_data"
    }
   ],
   "source": [
    "output_add_type_to_room_and_remove_item_from_list = widgets.Output()\n",
    "output_add_type_to_room_and_remove_item_from_list_text = widgets.Textarea(disabled=True, layout = {'width': '800pt', 'height': '300pt'})\n",
    "\n",
    "btn_upload_types_to_eep = widgets.Button(description='Update building structure with room types', layout = {'width': '300pt'})\n",
    "btn_upload_types_to_eep.style.button_color = 'lightgreen'\n",
    "\n",
    "data_list_for_room_type_update = []\n",
    "data_list_for_room_type_update_type = []\n",
    "\n",
    "def add_type_to_room_and_remove_item_from_list(i):\n",
    "    \n",
    "    global data_list_for_room_type_update, data_list_for_room_type_update_type\n",
    "    \n",
    "    active_room_list = select_room_list.value\n",
    "    \n",
    "    if len(active_room_list) > 0:\n",
    "    \n",
    "        data_list = get_values_from_selected_room_list(select_room_list.value)\n",
    "        data_list_for_room_type_update.append(data_list)\n",
    "\n",
    "        data_list_for_room_type_update_type.append(str(select_roomtype_list.value))\n",
    "\n",
    "        output = data_list_for_room_type_update\n",
    "\n",
    "        output_add_type_to_room_and_remove_item_from_list_text.value = str(output)\n",
    "\n",
    "        #removing items from list of all rooms in widget, that have been assigned room type\n",
    "        for item in active_room_list:\n",
    "            try:\n",
    "                room_list.remove(item)\n",
    "            except:\n",
    "                print('Error removing item from list of rooms...')\n",
    "\n",
    "        #updating widget content\n",
    "        select_room_list.options = room_list\n",
    "    \n",
    "   \n",
    "    with output_add_type_to_room_and_remove_item_from_list:\n",
    "        output_add_type_to_room_and_remove_item_from_list.clear_output()\n",
    "        display(widgets.VBox([output_add_type_to_room_and_remove_item_from_list_text, btn_upload_types_to_eep]))\n",
    "        \n",
    "btn_add_type_to_room.on_click(add_type_to_room_and_remove_item_from_list)\n",
    "\n",
    "widgets.VBox([output_add_type_to_room_and_remove_item_from_list])"
   ]
  },
  {
   "cell_type": "code",
   "execution_count": 43,
   "metadata": {
    "ExecuteTime": {
     "end_time": "2021-10-13T19:19:59.618164Z",
     "start_time": "2021-10-13T19:19:59.590322Z"
    }
   },
   "outputs": [
    {
     "data": {
      "application/vnd.jupyter.widget-view+json": {
       "model_id": "09138642c40b487980a7c17afb720934",
       "version_major": 2,
       "version_minor": 0
      },
      "text/plain": [
       "VBox(children=(IntProgress(value=0, max=1), Output()))"
      ]
     },
     "metadata": {},
     "output_type": "display_data"
    }
   ],
   "source": [
    "output_uplad_all_types_to_eep = widgets.Output()\n",
    "\n",
    "f2_max_count = 1\n",
    "\n",
    "f2 = widgets.IntProgress(min=0, max=f2_max_count) # instantiate the bar\n",
    "\n",
    "def upload_all_types_to_eep(r):\n",
    "    \n",
    "    f2.value = 0\n",
    "   \n",
    "    f2.max = len(data_list_for_room_type_update_type) + 2\n",
    "    \n",
    "    for item in data_list_for_room_type_update_type:\n",
    "        for room in data_list_for_room_type_update[data_list_for_room_type_update_type.index(item)]:\n",
    "            \n",
    "            building_structure_client.update_room(room_id= room[2], AAA=room[0], floor=room[1], room_type=str(item))\n",
    "        \n",
    "        f2.value +=1\n",
    "    \n",
    "    with output_uplad_all_types_to_eep:\n",
    "        output_uplad_all_types_to_eep.clear_output()\n",
    "        \n",
    "        building_structure_client.dump_building_structure()\n",
    "        f2.value +=1\n",
    "   \n",
    "        building_structure_client.commit()\n",
    "        f2.value +=1\n",
    "\n",
    "btn_upload_types_to_eep.on_click(upload_all_types_to_eep)\n",
    "\n",
    "widgets.VBox([f2, output_uplad_all_types_to_eep])"
   ]
  },
  {
   "cell_type": "code",
   "execution_count": null,
   "metadata": {},
   "outputs": [],
   "source": []
  },
  {
   "cell_type": "code",
   "execution_count": 44,
   "metadata": {
    "ExecuteTime": {
     "end_time": "2021-10-13T19:19:59.625352Z",
     "start_time": "2021-10-13T19:19:59.620537Z"
    }
   },
   "outputs": [],
   "source": [
    "def add_types_to_floors(p):\n",
    "    \n",
    "    global building_type_list_selected, building_cat_list_selected\n",
    "    \n",
    "    for floor in input_floors_metadata_multiselect.value:\n",
    "#         building_type_str = \"\"\n",
    "#         building_cath_str = \"\"\n",
    "        \n",
    "        building_type_list_selected = building_type_widget_list[widget_building_type.selected_index].value\n",
    "        \n",
    "        building_cat_list_selected = building_cat_list[widget_building_type.selected_index]\n",
    "        \n",
    "        update_floor_metadata(floor_metadata_dict_list, floor_no=floor,\n",
    "                              building_type=building_type_list_selected,\n",
    "                              building_category=building_cat_list_selected)\n",
    "        \n",
    "        #floors_type_metadata.options = floor_metadata_dict_list\n",
    "    \n",
    "btn_add_types_to_floors.on_click(add_types_to_floors)\n"
   ]
  },
  {
   "cell_type": "code",
   "execution_count": 45,
   "metadata": {
    "ExecuteTime": {
     "end_time": "2021-10-13T19:19:59.633609Z",
     "start_time": "2021-10-13T19:19:59.629285Z"
    }
   },
   "outputs": [],
   "source": [
    "def clear_types_to_floors(q):\n",
    "    for floor in input_floors_metadata_multiselect.value:\n",
    "        clear_floor_metadata(floors_metadata_list=floor_metadata_dict_list, floor_no=floor)\n",
    "\n",
    "    floors_type_metadata.options = floor_metadata_dict_list\n",
    "    \n",
    "btn_clear_types_to_floors.on_click(clear_types_to_floors)"
   ]
  },
  {
   "cell_type": "code",
   "execution_count": 46,
   "metadata": {
    "ExecuteTime": {
     "end_time": "2021-10-13T19:19:59.638938Z",
     "start_time": "2021-10-13T19:19:59.636168Z"
    }
   },
   "outputs": [],
   "source": [
    "# floor_metadata = building_structure_client.list_metadata(AAA='FV50', floor='005')\n",
    "# floor_metadata\n",
    "#floor_metadata_dict_list"
   ]
  },
  {
   "cell_type": "code",
   "execution_count": 47,
   "metadata": {
    "ExecuteTime": {
     "end_time": "2021-10-13T19:19:59.688660Z",
     "start_time": "2021-10-13T19:19:59.642279Z"
    }
   },
   "outputs": [
    {
     "data": {
      "application/vnd.jupyter.widget-view+json": {
       "model_id": "8cb0eb49b37d40aca2603412a1809bc2",
       "version_major": 2,
       "version_minor": 0
      },
      "text/plain": [
       "VBox(children=(Output(),))"
      ]
     },
     "metadata": {},
     "output_type": "display_data"
    }
   ],
   "source": [
    "def upload_building_types_and_cat_to_eep_metadata(s):\n",
    "    \n",
    "    for floor_item in floor_metadata_dict_list:\n",
    "        \n",
    "        floor = floor_item.get('floor_no')\n",
    "        \n",
    "        #read metadata for selected flor/item\n",
    "        floor_metadata = building_structure_client.list_metadata(AAA=input_rbtn_AAA_meta_update.value,\n",
    "                                                                 floor=floor)\n",
    "        \n",
    "        print('Read old metadata from floor: ' + str(floor))\n",
    "        #print(floor_metadata)\n",
    "        \n",
    "        \n",
    "        if floor_metadata == None:\n",
    "            floor_metadata = {}\n",
    "        \n",
    "        \n",
    "        building_structure_client.add_metadata_floor(AAA = (input_rbtn_AAA_meta_update.value),\n",
    "                                                    floor = str(floor),\n",
    "                                                    floor_type = str(floor_item.get('building_type')),\n",
    "                                                    category = str(floor_item.get('building_category')),\n",
    "                                                    area = str(floor_metadata.get('area')),\n",
    "                                                    energy_label = str(floor_metadata.get('energy_label')),\n",
    "                                                    opening_hours = str(floor_metadata.get('opening_hours')),\n",
    "                                                    metadata = floor_metadata.get('metadata', {}),\n",
    "                                                    replace = True)\n",
    "    \n",
    "    #upload to eep\n",
    "    if chk_commit_upload_building_types_and_cat_to_eep.value == False:\n",
    "        \n",
    "        building_structure_client.commit()\n",
    "    \n",
    "    \n",
    "    with output_upload_building_types_and_cat_to_eep:\n",
    "        output_upload_building_types_and_cat_to_eep.clear_output()\n",
    "        \n",
    "        building_structure_client.dump_building_structure()\n",
    "        \n",
    "        if chk_commit_upload_building_types_and_cat_to_eep.value == False:\n",
    "            display(print('Upladed to EEP!'))\n",
    "        else:\n",
    "            display(print('Test print out!'))\n",
    "\n",
    "output_upload_building_types_and_cat_to_eep = widgets.Output()\n",
    "btn_upload_building_types_and_cat_to_eep = widgets.Button(description='UPLOAD Floor types and categories to EEP', layout = {'width':'350px'})\n",
    "btn_upload_building_types_and_cat_to_eep.style.button_color = 'lightgreen'\n",
    "btn_upload_building_types_and_cat_to_eep.on_click(upload_building_types_and_cat_to_eep_metadata)\n",
    "\n",
    "widgets.VBox([output_upload_building_types_and_cat_to_eep])"
   ]
  },
  {
   "cell_type": "markdown",
   "metadata": {},
   "source": [
    "***"
   ]
  },
  {
   "cell_type": "markdown",
   "metadata": {},
   "source": [
    "[HOME](https://eepcloud.ngrok.io)"
   ]
  },
  {
   "cell_type": "code",
   "execution_count": 48,
   "metadata": {
    "ExecuteTime": {
     "end_time": "2021-10-13T19:19:59.695000Z",
     "start_time": "2021-10-13T19:19:59.691544Z"
    }
   },
   "outputs": [],
   "source": [
    "# building_structure_dict = building_structure_client.list(AAA=AAA_meta_update_selected)\n",
    "# floor_list = []\n",
    "# floor_no_list = []\n",
    "# for k,v in building_structure_dict[AAA_meta_update_selected].items():\n",
    "#     if k != 'metadata':\n",
    "#         floor_no_list.append(k)\n",
    "        \n",
    "#         print(k)\n",
    "        \n",
    "#         room_list = []\n",
    "\n",
    "#         for k1, v1 in v.items():\n",
    "#             if k1 != 'metadata':\n",
    "#                 #print(k1)\n",
    "#                 print(v1.get('name'))\n",
    "#                 print(v1.get('desc'))\n",
    "#                 print(v1.get('area'))\n",
    "#                 room_list.append(k1)\n",
    "\n",
    "#         floor_list.append(room_list)"
   ]
  },
  {
   "cell_type": "code",
   "execution_count": 49,
   "metadata": {
    "ExecuteTime": {
     "end_time": "2021-10-13T19:19:59.701487Z",
     "start_time": "2021-10-13T19:19:59.699021Z"
    }
   },
   "outputs": [],
   "source": [
    "# floor_index_list = 0\n",
    "\n",
    "# for floor in area_output:\n",
    "#     print(floor_no_w_rooms_list[floor_index_list])\n",
    "#     for room in floor:\n",
    "#         print('Descr: ' + str(room.description))\n",
    "#         print('area: ' + str(room.value))\n",
    "    \n",
    "#     print('-')\n",
    "#     floor_index_list +=1\n",
    "    "
   ]
  },
  {
   "cell_type": "code",
   "execution_count": null,
   "metadata": {},
   "outputs": [],
   "source": []
  },
  {
   "cell_type": "code",
   "execution_count": null,
   "metadata": {},
   "outputs": [],
   "source": []
  },
  {
   "cell_type": "code",
   "execution_count": 50,
   "metadata": {
    "ExecuteTime": {
     "end_time": "2021-10-13T19:19:59.705443Z",
     "start_time": "2021-10-13T19:19:59.703213Z"
    }
   },
   "outputs": [],
   "source": [
    "#Test zone"
   ]
  },
  {
   "cell_type": "code",
   "execution_count": 51,
   "metadata": {
    "ExecuteTime": {
     "end_time": "2021-10-13T19:19:59.712482Z",
     "start_time": "2021-10-13T19:19:59.707202Z"
    },
    "scrolled": true
   },
   "outputs": [],
   "source": [
    "# building_structure_client = PhysicalBuildingAPI(cdf_project=\"energima\",\n",
    "#                                                 root_external_id='AH_1366_Fornebuveien_50',\n",
    "#                                                 dryrun=True)\n",
    "# building_structure_dict = building_structure_client.list(AAA='FV50')\n",
    "# building_structure_dict"
   ]
  },
  {
   "cell_type": "code",
   "execution_count": null,
   "metadata": {
    "ExecuteTime": {
     "end_time": "2021-04-21T10:48:54.224968Z",
     "start_time": "2021-04-21T10:48:54.195236Z"
    },
    "scrolled": true
   },
   "outputs": [],
   "source": []
  },
  {
   "cell_type": "code",
   "execution_count": null,
   "metadata": {},
   "outputs": [],
   "source": []
  },
  {
   "cell_type": "code",
   "execution_count": null,
   "metadata": {
    "ExecuteTime": {
     "end_time": "2021-04-23T12:41:28.439030Z",
     "start_time": "2021-04-23T12:41:28.426001Z"
    }
   },
   "outputs": [],
   "source": [
    "\n"
   ]
  },
  {
   "cell_type": "code",
   "execution_count": 52,
   "metadata": {
    "ExecuteTime": {
     "end_time": "2021-10-13T19:19:59.719455Z",
     "start_time": "2021-10-13T19:19:59.716716Z"
    }
   },
   "outputs": [],
   "source": [
    "#update_higher_level_area_metadata_from_rooms(client=building_structure_client, AAA_list = ['FV50'])"
   ]
  },
  {
   "cell_type": "code",
   "execution_count": null,
   "metadata": {
    "ExecuteTime": {
     "end_time": "2021-04-23T11:22:32.498399Z",
     "start_time": "2021-04-23T11:22:32.488271Z"
    }
   },
   "outputs": [],
   "source": [
    "\n",
    "    "
   ]
  },
  {
   "cell_type": "code",
   "execution_count": null,
   "metadata": {},
   "outputs": [],
   "source": []
  },
  {
   "cell_type": "code",
   "execution_count": null,
   "metadata": {
    "ExecuteTime": {
     "end_time": "2021-04-23T12:40:40.669607Z",
     "start_time": "2021-04-23T12:40:40.659271Z"
    }
   },
   "outputs": [],
   "source": [
    "\n",
    "    "
   ]
  },
  {
   "cell_type": "code",
   "execution_count": null,
   "metadata": {},
   "outputs": [],
   "source": []
  },
  {
   "cell_type": "code",
   "execution_count": null,
   "metadata": {},
   "outputs": [],
   "source": []
  },
  {
   "cell_type": "code",
   "execution_count": 53,
   "metadata": {
    "ExecuteTime": {
     "end_time": "2021-10-13T19:19:59.725448Z",
     "start_time": "2021-10-13T19:19:59.721930Z"
    },
    "scrolled": true
   },
   "outputs": [],
   "source": [
    "# building_structure_client = PhysicalBuildingAPI(cdf_project=\"energima\",\n",
    "#                                                 root_external_id='AH_0154_Dronningens_gate_40',\n",
    "#                                                 dryrun=False)\n",
    "# building_structure_dict = building_structure_client.list(AAA='AAA')\n",
    "# building_structure_dict"
   ]
  },
  {
   "cell_type": "code",
   "execution_count": 54,
   "metadata": {
    "ExecuteTime": {
     "end_time": "2021-10-13T19:19:59.737424Z",
     "start_time": "2021-10-13T19:19:59.728586Z"
    },
    "scrolled": true
   },
   "outputs": [],
   "source": [
    "#floor_list, floor_no_list, new_floor_no_list = generate_building_areas_sub_building(5000, 'AAA', dump_results=True)"
   ]
  },
  {
   "cell_type": "code",
   "execution_count": 55,
   "metadata": {
    "ExecuteTime": {
     "end_time": "2021-10-13T19:19:59.747480Z",
     "start_time": "2021-10-13T19:19:59.743033Z"
    }
   },
   "outputs": [],
   "source": [
    "#floor_list, floor_no_list, new_floor_no_list = generate_building_areas_floor([500,1000,2000,3000], AAA='AAA', dump_results = True)"
   ]
  },
  {
   "cell_type": "code",
   "execution_count": 56,
   "metadata": {
    "ExecuteTime": {
     "end_time": "2021-10-13T19:19:59.755883Z",
     "start_time": "2021-10-13T19:19:59.752572Z"
    },
    "scrolled": true
   },
   "outputs": [],
   "source": [
    "#update_higher_level_area_metadata_from_rooms(client = building_structure_client, AAA_list = ['AAA'])"
   ]
  },
  {
   "cell_type": "code",
   "execution_count": 57,
   "metadata": {
    "ExecuteTime": {
     "end_time": "2021-10-13T19:19:59.763138Z",
     "start_time": "2021-10-13T19:19:59.759504Z"
    },
    "scrolled": true
   },
   "outputs": [],
   "source": [
    "#building_structure_client.commit()"
   ]
  },
  {
   "cell_type": "code",
   "execution_count": 58,
   "metadata": {
    "ExecuteTime": {
     "end_time": "2021-10-13T19:19:59.771296Z",
     "start_time": "2021-10-13T19:19:59.767780Z"
    }
   },
   "outputs": [],
   "source": [
    "#building_structure_client.dump_building_structure()"
   ]
  },
  {
   "cell_type": "code",
   "execution_count": null,
   "metadata": {
    "ExecuteTime": {
     "end_time": "2021-04-23T11:25:53.525992Z",
     "start_time": "2021-04-23T11:25:51.687050Z"
    }
   },
   "outputs": [],
   "source": []
  },
  {
   "cell_type": "code",
   "execution_count": null,
   "metadata": {
    "ExecuteTime": {
     "end_time": "2021-04-23T07:09:18.286127Z",
     "start_time": "2021-04-23T07:09:18.260020Z"
    },
    "scrolled": true
   },
   "outputs": [],
   "source": []
  },
  {
   "cell_type": "code",
   "execution_count": 59,
   "metadata": {
    "ExecuteTime": {
     "end_time": "2021-10-13T19:19:59.778122Z",
     "start_time": "2021-10-13T19:19:59.774578Z"
    }
   },
   "outputs": [],
   "source": [
    "#     # find all floors in chosen sub-building\n",
    "#     floor_area_list = []\n",
    "#     for floor in floors_list:\n",
    "#     # find all rooms in chosen sub-building, then iterate over each room, find its metadata 'area', then sum up to get total area for selected floor in metadata 'area'\n",
    "    \n",
    "#         floor_area_list.append(floor_area)\n",
    "    \n",
    "#         # set sub_building area as metadata\n",
    "    \n",
    "#     sub_building_area = float(sum(floor_area_list))\n",
    "    \n",
    "#     building_structure_client.metadata(metadata = floor_metadata,\n",
    "#                                        AAA=input_rbtn_AAA_meta_update.value,\n",
    "#                                        floor=floor)\n",
    "    \n",
    "\n",
    "    \n",
    "#     add_metadata_building(AAA: str,\n",
    "#                           building_type: str = None,\n",
    "#                           category: str = None,\n",
    "#                           area: str = None,\n",
    "#                           energy_label: str = None,\n",
    "#                           opening_hours: str = None)    "
   ]
  },
  {
   "cell_type": "code",
   "execution_count": 60,
   "metadata": {
    "ExecuteTime": {
     "end_time": "2021-10-13T19:19:59.784611Z",
     "start_time": "2021-10-13T19:19:59.780923Z"
    }
   },
   "outputs": [],
   "source": [
    "# floor_index = 0\n",
    "# pop_list = []\n",
    "# for room_list in floor_list:\n",
    "#     if len(room_list) == 0:\n",
    "#         print('empty floor ' + str(floor_index))\n",
    "#         pop_list.append(floor_index)\n",
    "#     floor_index +=1\n",
    "\n",
    "# print(pop_list)\n",
    "\n",
    "# for item in pop_list:\n",
    "#     del floor_list.pop(item)\n",
    "    "
   ]
  },
  {
   "cell_type": "code",
   "execution_count": 61,
   "metadata": {
    "ExecuteTime": {
     "end_time": "2021-10-13T19:19:59.790722Z",
     "start_time": "2021-10-13T19:19:59.787054Z"
    }
   },
   "outputs": [],
   "source": [
    "# building_structure_dict = building_structure_client.list(AAA='FV50')\n",
    "\n",
    "# floor_list = []\n",
    "# for k,v in building_structure_dict['FV50'].items():\n",
    "#     if k != 'metadata':\n",
    "\n",
    "#         room_list = []\n",
    "#         for k1, v1 in v.items():\n",
    "#             if k1 != 'metadata':\n",
    "#                 room_list.append(k1)\n",
    "\n",
    "#     floor_list.append(room_list)"
   ]
  }
 ],
 "metadata": {
  "kernelspec": {
   "display_name": "Python 3",
   "language": "python",
   "name": "python3"
  },
  "language_info": {
   "codemirror_mode": {
    "name": "ipython",
    "version": 3
   },
   "file_extension": ".py",
   "mimetype": "text/x-python",
   "name": "python",
   "nbconvert_exporter": "python",
   "pygments_lexer": "ipython3",
   "version": "3.8.10"
  },
  "toc": {
   "base_numbering": 1,
   "nav_menu": {},
   "number_sections": true,
   "sideBar": true,
   "skip_h1_title": false,
   "title_cell": "Table of Contents",
   "title_sidebar": "Contents",
   "toc_cell": false,
   "toc_position": {
    "height": "calc(100% - 180px)",
    "left": "10px",
    "top": "150px",
    "width": "306.8px"
   },
   "toc_section_display": true,
   "toc_window_display": true
  },
  "varInspector": {
   "cols": {
    "lenName": 16,
    "lenType": 16,
    "lenVar": 40
   },
   "kernels_config": {
    "python": {
     "delete_cmd_postfix": "",
     "delete_cmd_prefix": "del ",
     "library": "var_list.py",
     "varRefreshCmd": "print(var_dic_list())"
    },
    "r": {
     "delete_cmd_postfix": ") ",
     "delete_cmd_prefix": "rm(",
     "library": "var_list.r",
     "varRefreshCmd": "cat(var_dic_list()) "
    }
   },
   "position": {
    "height": "1094px",
    "left": "1522px",
    "right": "20px",
    "top": "132px",
    "width": "299px"
   },
   "types_to_exclude": [
    "module",
    "function",
    "builtin_function_or_method",
    "instance",
    "_Feature"
   ],
   "window_display": true
  }
 },
 "nbformat": 4,
 "nbformat_minor": 4
}
