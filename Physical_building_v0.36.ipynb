{
 "cells": [
  {
   "cell_type": "markdown",
   "metadata": {
    "ExecuteTime": {
     "end_time": "2021-01-11T09:07:14.030162Z",
     "start_time": "2021-01-11T09:07:14.025945Z"
    }
   },
   "source": [
    "# Physical Building by EEP v0.36 - Generate structure for physical building in EEP \n",
    "[HOME](https://eepcloud.ngrok.io)"
   ]
  },
  {
   "cell_type": "markdown",
   "metadata": {},
   "source": [
    "This program lets the user create new physical buildings, add rooms to existing physical buildings and add metadata to existing physical buildings in EEP.\n",
    "1. Log in to EEP (Choose 'energima' for production and 'energima'dev' for testing purposes\n",
    "2. Choose create new, add rooms or add metadata\n",
    "3. Follow the GUI process for each task. The GUI dumps a print of the changes as a final check. If changes are correct, go a head and upload to EEP with the final button (for each task)\n",
    "4. After finishing the task (and uploading to EEP). A refresh of the page (press HOME) and enter the GUI again, is the safest way to see that all changes have been applied before starting your new task."
   ]
  },
  {
   "cell_type": "markdown",
   "metadata": {},
   "source": [
    "***"
   ]
  },
  {
   "cell_type": "code",
   "execution_count": 1,
   "metadata": {
    "ExecuteTime": {
     "end_time": "2021-02-03T13:49:39.757732Z",
     "start_time": "2021-02-03T13:49:38.632490Z"
    }
   },
   "outputs": [],
   "source": [
    "import pandas as pd\n",
    "import numpy as np\n",
    "import matplotlib.pyplot as plt\n",
    "import datetime, time, sys\n",
    "\n",
    "\n",
    "base_path = '/home/mortenhuse/EEP_projects/EEP_DataExtractor_pipeline'\n",
    "\n",
    "if base_path not in sys.path:\n",
    "    sys.path.append(base_path)\n",
    "#print(sys.path)\n",
    "from eep.client import GenTimeSeriesAPI, PhysicalBuildingAPI\n",
    "\n",
    "from cognite.client import CogniteClient\n",
    "from cognite.client.data_classes import AssetUpdate, LabelFilter\n",
    "from cognite.client.utils import ms_to_datetime\n",
    "\n",
    "import ipywidgets as widgets\n",
    "from ipywidgets import interact, interactive, fixed, interact_manual, Layout\n",
    "from IPython.display import display\n",
    "\n",
    "import warnings\n",
    "warnings.filterwarnings(\"ignore\")\n",
    "\n",
    "pd.set_option('display.max_rows', 1000)\n",
    "pd.set_option('display.max_columns', 500)\n",
    "pd.set_option('display.width', 1000)\n",
    "pd.set_option('display.max_colwidth', 1000)"
   ]
  },
  {
   "cell_type": "code",
   "execution_count": 2,
   "metadata": {
    "ExecuteTime": {
     "end_time": "2021-02-03T13:49:39.785392Z",
     "start_time": "2021-02-03T13:49:39.760695Z"
    }
   },
   "outputs": [],
   "source": [
    "def Convert_strings_to_list_of_floats(string): \n",
    "    li = list(string.split(\",\"))\n",
    "    conv_li = []\n",
    "    for item in li:\n",
    "        item = float(item)\n",
    "        conv_li.append(item)\n",
    "    return conv_li\n",
    "\n",
    "def Convert_string_to_tuple(string):\n",
    "    res = tuple(map(int, string.split(','))) \n",
    "    return res\n",
    "\n",
    "def df_columns_inst_to_list_of_tuples(df, col_name):\n",
    "    list_of_tuples = []\n",
    "    col_series = df[str(col_name)]\n",
    "    col_series = col_series.sort_values(ascending=True)\n",
    "    for index, val in col_series.iteritems():\n",
    "        list_of_tuples.append((val, index))\n",
    "    \n",
    "    return list_of_tuples\n",
    "\n",
    "def Convert_semicol_string_to_list_of_tuples(string):\n",
    "    new_list = []\n",
    "    #string = txt_period_list.value\n",
    "    list_string = string.split(';')\n",
    "    \n",
    "    for item in list_string:\n",
    "        \n",
    "        clean_item = item.replace('(','').replace(')','').replace('','')\n",
    "        tup_item = tuple(map(int, clean_item.split(',')))\n",
    "        new_list.append(tup_item)\n",
    "    \n",
    "    return new_list\n",
    "\n",
    "def Convert_col_string_to_list_of_ints(string):\n",
    "    new_list = []\n",
    "    #string = txt_period_list.value\n",
    "    list_string = string.split(',')\n",
    "    \n",
    "    for item in list_string:\n",
    "        \n",
    "        clean_item = int(item)\n",
    "        #tup_item = tuple(map(int, clean_item.split(',')))\n",
    "        new_list.append(clean_item)\n",
    "    \n",
    "    return new_list\n",
    "\n",
    "def get_phys_building(c, active_root_asset_extId, level_str='=2'):\n",
    "    #print(active_root_asset_extId)\n",
    "    \n",
    "    try:\n",
    "        building = c.assets.retrieve_subtree(external_id = active_root_asset_extId, depth=2).to_pandas()\n",
    "        found_subbuild = building['externalId'].str.contains(level_str)\n",
    "        index_match = found_subbuild[found_subbuild].index.values\n",
    "    except:\n",
    "        index_match = 0\n",
    "\n",
    "    if len(index_match) > 0:\n",
    "        building_prefix = building.iloc[index_match[0]].externalId\n",
    "        #print(building_prefix)\n",
    "        AH_phys_build = c.assets.list(root=False, external_id_prefix = building_prefix, limit=-1)\n",
    "        \n",
    "    else:\n",
    "        #print('No physbuild found under rootAsset')\n",
    "        AH_phys_build = pd.DataFrame()\n",
    "        \n",
    "    return AH_phys_build\n",
    "\n",
    "def find_item_on_level_in_phys_building(c, root_asset, building_level = ['floor']):\n",
    "    \n",
    "    \"\"\"\n",
    "    Filters out the different parts (\"room\", \"floor\",\"building\",\"sub_building\") of a building physical hierarcy\n",
    "    \n",
    "    Input:\n",
    "    root_asset externalId (str)\n",
    "    filter criterias ('room', 'floor', 'sub_building', 'building') list\n",
    "    \n",
    "    Output:\n",
    "    list of matched externalId\n",
    "    \n",
    "    \"\"\"\n",
    "        \n",
    "    my_label_filter = LabelFilter(contains_any=building_level)\n",
    "    asset_list = c.assets.list(root_external_ids=str(root_asset), labels=my_label_filter, limit=-1)\n",
    "    return asset_list\n",
    "\n",
    "def find_item_on_level_in_phys_building_AAA(c, AAA_asset, building_level = ['floor']):\n",
    "    \n",
    "    \"\"\"\n",
    "    Filters out the different parts (\"room\", \"floor\",\"building\",\"sub_building\") of a building physical hierarcy\n",
    "    \n",
    "    Input:\n",
    "    root_asset externalId (str)\n",
    "    filter criterias ('room', 'floor', 'sub_building', 'building') list\n",
    "    \n",
    "    Output:\n",
    "    list of matched externalId\n",
    "    \n",
    "    \"\"\"\n",
    "        \n",
    "    my_label_filter = LabelFilter(contains_any=building_level)\n",
    "    asset_list = c.assets.list(asset_subtree_external_ids=str(AAA_asset), labels=my_label_filter, limit=-1)\n",
    "    return asset_list\n",
    "\n",
    "def find_TFM_AAA(c, root_asset):\n",
    "    asset_list_AAA = c.assets.list(parent_external_ids=[str(root_asset)])\n",
    "    return asset_list_AAA\n",
    "\n"
   ]
  },
  {
   "cell_type": "code",
   "execution_count": 3,
   "metadata": {
    "ExecuteTime": {
     "end_time": "2021-02-03T13:49:39.792307Z",
     "start_time": "2021-02-03T13:49:39.788178Z"
    }
   },
   "outputs": [],
   "source": [
    "root_assets_list_df = pd.DataFrame()"
   ]
  },
  {
   "cell_type": "code",
   "execution_count": 4,
   "metadata": {
    "ExecuteTime": {
     "end_time": "2021-02-03T13:49:39.836958Z",
     "start_time": "2021-02-03T13:49:39.794337Z"
    }
   },
   "outputs": [
    {
     "data": {
      "application/vnd.jupyter.widget-view+json": {
       "model_id": "7e408261df19493fa0721308ee06f08c",
       "version_major": 2,
       "version_minor": 0
      },
      "text/plain": [
       "VBox(children=(HBox(children=(RadioButtons(options=('energima', 'energima-dev'), value='energima'), Button(des…"
      ]
     },
     "metadata": {},
     "output_type": "display_data"
    }
   ],
   "source": [
    "rbtn_cdf_login = widgets.RadioButtons(options=['energima', 'energima-dev'])\n",
    "btn_cdf_login = widgets.Button(description='Login')\n",
    "chkbx_cdf_login_show_status = widgets.Checkbox(description='Show status')\n",
    "\n",
    "output_cdf_login = widgets.Output()\n",
    "\n",
    "\n",
    "def cdf_login(p):\n",
    "    \n",
    "    global c, root_assets_list_df, building_list\n",
    "    \n",
    "    if rbtn_cdf_login.value == 'energima':\n",
    "        api_key = 'M2ExY2U1ZmItNGRkNC00ZjVlLTgwMzctZDdjN2JhZDUzMjdj'\n",
    "        c = CogniteClient(api_key=api_key, project=\"energima\", client_name=\"energima\")\n",
    "    else:\n",
    "        api_key_dev='ZmQ1NzIzNTktMmUzYi00MjA1LTg5OTYtMzc2NmNjNzZjZGRk'\n",
    "        c = CogniteClient(api_key=api_key_dev, project=\"energima-dev\", client_name=\"energima\")\n",
    "    \n",
    "    rbtn_cdf_login.disabled=True\n",
    "    btn_cdf_login.disabled = True\n",
    "    \n",
    "    #initial list of buildings\n",
    "    root_assets_list_df = c.assets.list(root=True, limit=-1).to_pandas()\n",
    "    building_list = df_columns_inst_to_list_of_tuples(root_assets_list_df, col_name='externalId')\n",
    "    inputdropdown_ah_building_index.options = building_list\n",
    "    update_building_drop_list.options = building_list\n",
    "    update_building_update_meta_drop_list.options = building_list\n",
    "    \n",
    "    with output_cdf_login:\n",
    "        output_cdf_login.clear_output()\n",
    "        if chkbx_cdf_login_show_status.value == True:\n",
    "            display(print(c.login.status()))\n",
    "        else:\n",
    "            pass\n",
    "\n",
    "btn_cdf_login.on_click(cdf_login)\n",
    "        \n",
    "widgets.VBox([widgets.HBox([rbtn_cdf_login, btn_cdf_login, chkbx_cdf_login_show_status]), output_cdf_login])"
   ]
  },
  {
   "cell_type": "markdown",
   "metadata": {},
   "source": [
    "***"
   ]
  },
  {
   "cell_type": "markdown",
   "metadata": {
    "ExecuteTime": {
     "end_time": "2021-01-14T08:57:45.225006Z",
     "start_time": "2021-01-14T08:57:45.222718Z"
    }
   },
   "source": [
    "# Create new physical building"
   ]
  },
  {
   "cell_type": "code",
   "execution_count": 5,
   "metadata": {
    "ExecuteTime": {
     "end_time": "2021-02-03T13:49:39.923447Z",
     "start_time": "2021-02-03T13:49:39.838780Z"
    }
   },
   "outputs": [],
   "source": [
    "#gui\n",
    "\n",
    "building_list=[]\n",
    "\n",
    "lbl_building_selection = widgets.Label(value='Choose building:')\n",
    "\n",
    "inputdropdown_ah_building_index = widgets.Dropdown(\n",
    "    options=building_list,\n",
    "    #value=building_list[0],\n",
    "    description='Building:',\n",
    "    layout={'width': '400px'}\n",
    ")\n",
    "\n",
    "\n",
    "AAA_list = []\n",
    "\n",
    "input_rbtn_AAA = widgets.RadioButtons(\n",
    "    options=AAA_list,\n",
    "    layout={'width': '250pt'}, # If the items' names are long\n",
    "    style={'description_width': '150px'},\n",
    "    description='Choose sub_building:',\n",
    "    disabled=False)\n",
    "\n",
    "input_floors = widgets.BoundedIntText(\n",
    "    value=1,\n",
    "    min=0,\n",
    "    max=999,\n",
    "    description='Floors: ',\n",
    "    disabled=True)\n",
    "\n",
    "\n",
    "input_sub_floors = widgets.BoundedIntText(\n",
    "    value=0,\n",
    "    min=0,\n",
    "    max=99,\n",
    "    description='Sub Floors: ',\n",
    "    disabled=True)\n",
    "\n",
    "button_ah_building_index = widgets.Button(description=\"Choose Building\")\n",
    "output_ah_building_index = widgets.Output()\n",
    "\n",
    "btn_select_sub_building = widgets.Button(description='Choose sub-building')\n",
    "output_select_sub_building = widgets.Output()\n",
    "\n",
    "btn_create_floors = widgets.Button(description='Create floors', icon='align-justify', disabled=True)\n",
    "output_btn_create_floors = widgets.Output()\n",
    "\n",
    "btn_create_all_rooms = widgets.Button(description='Create room structure', icon='clone', layout={'width':'200px'})\n",
    "output_btn_create_all_rooms = widgets.Output()\n",
    "\n",
    "btn_create = widgets.Button(description = 'Create building structure', icon='building', layout={'width':'200px'})\n",
    "output_btn_create = widgets.Output()"
   ]
  },
  {
   "cell_type": "code",
   "execution_count": 6,
   "metadata": {
    "ExecuteTime": {
     "end_time": "2021-02-03T13:49:40.005350Z",
     "start_time": "2021-02-03T13:49:39.925494Z"
    }
   },
   "outputs": [
    {
     "data": {
      "application/vnd.jupyter.widget-view+json": {
       "model_id": "5d2ba6eb8ba84d64b837ea10c0b0671d",
       "version_major": 2,
       "version_minor": 0
      },
      "text/plain": [
       "VBox(children=(HBox(children=(Label(value='Choose building:'),)), HBox(children=(Dropdown(description='Buildin…"
      ]
     },
     "metadata": {},
     "output_type": "display_data"
    }
   ],
   "source": [
    "#prog logics\n",
    "\n",
    "\n",
    "def on_button_clicked_ah_building(b):\n",
    "\n",
    "    global active_root_asset_id, active_root_asset, active_root_asset_dataSetId\n",
    "    \n",
    "    phys_building = False\n",
    "    active_root_asset_id = inputdropdown_ah_building_index.value\n",
    "    active_root_asset = root_assets_list_df.loc[active_root_asset_id].externalId\n",
    "    active_root_asset_dataSetId = root_assets_list_df.loc[active_root_asset_id].dataSetId\n",
    "    \n",
    "    if active_root_asset != '':\n",
    "        #update rbtn with sub_building info from active_root\n",
    "        AAA_df = find_TFM_AAA(c=c, root_asset=active_root_asset).to_pandas()\n",
    "        AAA_list = list(AAA_df.name)\n",
    "        \n",
    "        try:\n",
    "            AAA_list.remove('Common')\n",
    "            AAA_list.remove('TMP')\n",
    "            \n",
    "        except:\n",
    "            pass\n",
    "            \n",
    "        input_rbtn_AAA.options = AAA_list\n",
    "        \n",
    "        \n",
    "        input_floors.disabled = True\n",
    "        input_sub_floors.disabled = True\n",
    "        btn_create_floors.disabled = True\n",
    "        \n",
    "        btn_select_sub_building.disabled = False\n",
    "        input_rbtn_AAA.disabled = False\n",
    "\n",
    "        #shows radiobtn to choose between available AAA(A) and to \n",
    "        output = widgets.VBox([input_rbtn_AAA, btn_select_sub_building, widgets.HBox([input_floors, input_sub_floors,\n",
    "                                                                          btn_create_floors])])\n",
    "        \n",
    "    else:\n",
    "\n",
    "        output = display(print('No building selected, no structure to show.'))\n",
    "    \n",
    "    #---\n",
    "        \n",
    "    with output_ah_building_index:\n",
    "        output_ah_building_index.clear_output()\n",
    "        \n",
    "        output_btn_create_floors.clear_output()\n",
    "        output_btn_create_all_rooms.clear_output()\n",
    "        output_btn_create.clear_output()\n",
    "        \n",
    "        print('Building: ' + str(active_root_asset))\n",
    "\n",
    "        display(output)\n",
    "\n",
    "        \n",
    "def select_sub_building_create(e):\n",
    "    \n",
    "    global my_target_building, my_target_subbuildings, my_target_floors, my_target_all_building_items\n",
    "                \n",
    "    #all these will be empty if no physical building exists\n",
    "    my_target_buildings = find_item_on_level_in_phys_building_AAA(c=c, AAA_asset=str(active_root_asset + '+' + input_rbtn_AAA.value), building_level = ['building'])\n",
    "    my_target_subbuildings = find_item_on_level_in_phys_building_AAA(c=c, AAA_asset=str(active_root_asset + '+' + input_rbtn_AAA.value), building_level = ['sub_building'])\n",
    "    my_target_floors = find_item_on_level_in_phys_building_AAA(c=c, AAA_asset=str(active_root_asset + '+' + input_rbtn_AAA.value), building_level = ['floor'])\n",
    "    my_target_rooms = find_item_on_level_in_phys_building_AAA(c=c, AAA_asset=str(active_root_asset + '+' + input_rbtn_AAA.value), building_level = ['room'])\n",
    "    my_target_all_building_items = find_item_on_level_in_phys_building_AAA(c=c, AAA_asset=str(active_root_asset + '+' + input_rbtn_AAA.value), building_level=['building','sub_building','floor','room'])\n",
    "\n",
    "\n",
    "    if len(my_target_all_building_items) > 0:\n",
    "\n",
    "        #my_target_all_building_items = my_target_all_building_items.to_pandas()\n",
    "        output = print('Physical building Found. Please go to section for \"ADD Rooms\" to edit the physical building structure.')\n",
    "\n",
    "        input_floors.disabled = True\n",
    "        input_sub_floors.disabled = True\n",
    "        btn_create_floors.disabled = True\n",
    "        \n",
    "        btn_select_sub_building.disabled = False\n",
    "        input_rbtn_AAA.disabled = False\n",
    "\n",
    "    else:\n",
    "\n",
    "        output = print('No physical building found under chosen rootAsset. Generating new building structure...')\n",
    "\n",
    "        input_floors.disabled = False\n",
    "        input_sub_floors.disabled = False\n",
    "        btn_create_floors.disabled = False\n",
    "        \n",
    "        btn_select_sub_building.disabled = True\n",
    "        input_rbtn_AAA.disabled = True\n",
    "    \n",
    "    with output_select_sub_building:\n",
    "        output_select_sub_building.clear_output()\n",
    "        display(output)\n",
    "        \n",
    "    \n",
    "btn_select_sub_building.on_click(select_sub_building_create)        \n",
    "\n",
    "#-----\n",
    "\n",
    "def create_IntText_widget(no, value=1, descr='Floors', run_no=False):\n",
    "    widget_list = []\n",
    "    if run_no==True:\n",
    "        x=1\n",
    "    else:\n",
    "        x=''\n",
    "    i = 0\n",
    "    for i in range(int(no)):\n",
    "        #print(item)\n",
    "        \n",
    "        input_sub_buildings_floor = widgets.BoundedIntText(\n",
    "            value=value,\n",
    "            min=0,\n",
    "            max=99,\n",
    "            description=str(descr) + ' ' + str(x),\n",
    "            disabled=False,\n",
    "            style={'description_width': '150px'},\n",
    "            layout={'width': '250px'}\n",
    "        )\n",
    "    \n",
    "        widget_list.append(input_sub_buildings_floor)\n",
    "        \n",
    "        if run_no==True:\n",
    "            x+=1\n",
    "        \n",
    "        i +=1\n",
    "        \n",
    "    return widget_list\n",
    "\n",
    "def generate_room_widgets_from_floors_sub_floors(input_floors_val, input_sub_floors_val):\n",
    "    \"\"\"\n",
    "    returns a tuple with 2x widget.VBox (floors , sub_floors). Each containing all labels_widgets and txt_widgets for all floors and underlying rooms\n",
    "    \"\"\"\n",
    "    \n",
    "    global floor_widget_list, sub_floor_widget_list, floors_all_widgets, sub_floors_all_widgets\n",
    "    \n",
    "    lbl_insert_number_of_rooms_in_floor = widgets.Label(value='Insert the number of rooms in each Floor (above celler)', layout={'width':'400px'})\n",
    "    lbl_insert_number_of_subrooms_in_floor = widgets.Label(value='Insert the number of rooms in each Sub Floor (celler)')\n",
    "    \n",
    "    floor_widget_list = create_IntText_widget(no=input_floors_val, value=1, descr='Rooms in Floor#', run_no=True)\n",
    "    sub_floor_widget_list = create_IntText_widget(no=input_sub_floors_val, value=1, descr= 'Rooms in Sub-Floor#', run_no=True)\n",
    "    \n",
    "    floors_all_widgets = widgets.VBox([x for x in floor_widget_list])\n",
    "    sub_floors_all_widgets = widgets.VBox([y for y in sub_floor_widget_list])\n",
    "    \n",
    "    floor_lbl_txt_widget_box = widgets.VBox([lbl_insert_number_of_rooms_in_floor,floors_all_widgets])\n",
    "    subfloor_lbl_txt_widget_box = widgets.VBox([lbl_insert_number_of_subrooms_in_floor, sub_floors_all_widgets])\n",
    "    \n",
    "    return floor_lbl_txt_widget_box, subfloor_lbl_txt_widget_box\n",
    "    \n",
    "\n",
    "#GUI func\n",
    "\n",
    "def generate_sub_building_widget(b):        \n",
    "    \n",
    "    global floor_box, subfloor_box\n",
    "\n",
    "    floor_box, subfloor_box = generate_room_widgets_from_floors_sub_floors(input_floors.value, input_sub_floors.value)\n",
    "    \n",
    "    with output_btn_create_floors:\n",
    "        output_btn_create_floors.clear_output()\n",
    "        display(widgets.VBox([widgets.HBox([floor_box, subfloor_box]), btn_create_all_rooms]))\n",
    "        \n",
    "\n",
    "        \n",
    "        \n",
    "        \n",
    "#functions\n",
    "\n",
    "def create_tab_with_rooms_pr_floor(floors_widget_list, sub=False):\n",
    "    titles = []\n",
    "    list_floor_widgets  = []\n",
    "    for floor in floors_widget_list:\n",
    "        list_room_widgets  = []\n",
    "        \n",
    "        if sub == False:\n",
    "            level_name = 'Floor'\n",
    "            flor_level_start_no = 1\n",
    "        else:\n",
    "            level_name = 'Sub-Floor'\n",
    "            flor_level_start_no = 1\n",
    "            \n",
    "        titles.append(((int(floors_widget_list.index(floor))), str(level_name) + ' ' + str(int(floors_widget_list.index(floor) + flor_level_start_no))))\n",
    "\n",
    "        for room in floor:\n",
    "            #print('Room: '  + str(floor.index(room)))\n",
    "            dipl_list=[]\n",
    "            for item in room:\n",
    "                #display(item)\n",
    "                dipl_list.append(item)\n",
    "            list_room_widgets.append(widgets.HBox(dipl_list))\n",
    "        list_floor_widgets.append(widgets.VBox(list_room_widgets))\n",
    "\n",
    "    building_tabs = widgets.Tab(children=list_floor_widgets)\n",
    "\n",
    "    for title in titles:\n",
    "        building_tabs.set_title(title[0],title[1])\n",
    "\n",
    "    return building_tabs\n",
    "\n",
    "#---\n",
    "\n",
    "\n",
    "def create_room_widgets(floor_widget_list, sub=False):\n",
    "    #subfloors_list = []\n",
    "    floors_widget_list = []\n",
    "\n",
    "    if sub == True:\n",
    "        zfill=2\n",
    "        floor_prefix = 'K'\n",
    "        floor_no_start=1\n",
    "    else:\n",
    "        zfill=3\n",
    "        floor_prefix = ''\n",
    "        floor_no_start=1\n",
    "    \n",
    "    floor_no=floor_no_start\n",
    "    \n",
    "    for floor_widget in floor_widget_list:\n",
    "        #floor_no=x #floor_widget_list.index(floor_widget)\n",
    "        #print(item.description)\n",
    "        #print(item.value)\n",
    "        #print(x)\n",
    "        \n",
    "        room_no=0\n",
    "        rooms_widget_list=[]\n",
    "        for room_no in range(floor_widget.value):\n",
    "            #room_no=i\n",
    "\n",
    "            extId = str(active_root_asset) + '+' + str(input_rbtn_AAA.value) + '=200.' + str(floor_prefix) + str(floor_no).zfill(int(zfill)) + '-FR' + str(room_no).zfill(3)\n",
    "\n",
    "            label_extId_widget = widgets.Label(value=extId, layout={'width': '350px'})\n",
    "\n",
    "            input_name_widget = widgets.Text(\n",
    "                value='',\n",
    "                placeholder='F' + str(floor_no) + ' R' + str(room_no) + ' (name)',\n",
    "                description= 'Name:',\n",
    "                disabled=False)\n",
    "\n",
    "            input_descr_widget = widgets.Text(\n",
    "                value='',\n",
    "                placeholder='F' + str(floor_no) + ' R' + str(room_no) + ' (description)',\n",
    "                description= 'Descr.:',\n",
    "                disabled=False)\n",
    "\n",
    "            rooms_widget_list.append([label_extId_widget, input_name_widget, input_descr_widget])\n",
    "        floors_widget_list.append(rooms_widget_list)\n",
    "        floor_no +=1\n",
    "\n",
    "    #------\n",
    "    return floors_widget_list\n",
    "\n",
    "\n",
    "def generate_building_widgets_with_tabs_pr_floor(b):\n",
    "    \n",
    "    global active_widgets, active_sub_widgets, building_tabs, sub_building_tabs\n",
    "    \n",
    "    active_widgets = create_room_widgets(floor_widget_list)\n",
    "    building_tabs = create_tab_with_rooms_pr_floor(active_widgets)\n",
    "    \n",
    "    active_sub_widgets = create_room_widgets(sub_floor_widget_list, sub=True)\n",
    "    sub_building_tabs = create_tab_with_rooms_pr_floor(active_sub_widgets, sub=True)\n",
    "    \n",
    "    with output_btn_create_all_rooms:\n",
    "        output_btn_create_all_rooms.clear_output()\n",
    "        \n",
    "        display(widgets.VBox([building_tabs, sub_building_tabs, widgets.HBox([btn_create])]))\n",
    "        \n",
    "# btn_create_all_rooms.on_click(generate_building_widgets_with_tabs_pr_floor)\n",
    "# widgets.HBox([output_btn_create_all_rooms])\n",
    "\n",
    "def create_building_structure_dict(floors_widget_list):\n",
    "    room_dict_list = []\n",
    "    for floor in floors_widget_list:\n",
    "        for room in floor:\n",
    "            widg_value_list = []\n",
    "            for widg in room:\n",
    "                widg_value_list.append(widg.value)\n",
    "\n",
    "            extId = widg_value_list[0]\n",
    "            room_name = widg_value_list[1]\n",
    "            floor_no = extId[extId.find('.')+1 : extId.find('-FR')]\n",
    "            room_no = extId[-3:]\n",
    "            desription = widg_value_list[2]\n",
    "\n",
    "            room_dict = {'extId': extId,\n",
    "            'AAA': input_rbtn_AAA.value,\n",
    "            'floor_no': floor_no,\n",
    "            'room_no': room_no,\n",
    "            'room_name': widg_value_list[1],\n",
    "             'description': desription #,'type':type_item\n",
    "            }\n",
    "            room_dict_list.append(room_dict)\n",
    "    return room_dict_list\n",
    "\n",
    "\n",
    "def generate_total_building_structure_dict(b):\n",
    "\n",
    "    global building_structure_dict, sub_building_structure_dict, EEP_building_client_create\n",
    "    \n",
    "    EEP_building_client_create = PhysicalBuildingAPI(cdf_project=str(rbtn_cdf_login.value), root_external_id=active_root_asset, dryrun=False)\n",
    "    \n",
    "    building_structure_dict = create_building_structure_dict(active_widgets)\n",
    "    sub_building_structure_dict = create_building_structure_dict(active_sub_widgets)\n",
    "    \n",
    "    for room in building_structure_dict:\n",
    "        EEP_building_client_create.add_room(AAA = room['AAA'], floor = room['floor_no'], name = room['room_name'], description = room['description'])        \n",
    "    \n",
    "    for sub_room in sub_building_structure_dict:\n",
    "        EEP_building_client_create.add_room(AAA = sub_room['AAA'], floor = sub_room['floor_no'], name = sub_room['room_name'], description = sub_room['description'])        \n",
    "    \n",
    "    btn_upload_building_structure_to_eep.disabled=False\n",
    "    \n",
    "    \n",
    "    with output_btn_create:\n",
    "        output_btn_create.clear_output()\n",
    "        EEP_building_client_create.dump_building_structure(raw=False)\n",
    "\n",
    "#-----\n",
    "            \n",
    "active_root_asset = ''\n",
    "\n",
    "btn_upload_building_structure_to_eep = widgets.Button(description='UPLOAD TO EEP', disabled=True)\n",
    "btn_upload_building_structure_to_eep.style.button_color = 'lightgreen'\n",
    "                              \n",
    "#building_list = df_columns_inst_to_list_of_tuples(root_assets_list_df, col_name='externalId')\n",
    "building_list = []\n",
    "inputdropdown_ah_building_index.options = building_list\n",
    "\n",
    "#gui-action\n",
    "button_ah_building_index.on_click(on_button_clicked_ah_building)\n",
    "\n",
    "#gui-layout\n",
    "header_box = widgets.HBox([lbl_building_selection])\n",
    "top_box = widgets.HBox([inputdropdown_ah_building_index, button_ah_building_index])\n",
    "bottom_box = widgets.HBox([output_ah_building_index])\n",
    "widgets.VBox([header_box, top_box, bottom_box])\n",
    "\n",
    "# --- END choosing building and checking for sub buildings in selected building"
   ]
  },
  {
   "cell_type": "code",
   "execution_count": 7,
   "metadata": {
    "ExecuteTime": {
     "end_time": "2021-02-03T13:49:40.016749Z",
     "start_time": "2021-02-03T13:49:40.007544Z"
    }
   },
   "outputs": [
    {
     "data": {
      "application/vnd.jupyter.widget-view+json": {
       "model_id": "cdae77f54ce741148be88e71393d56bd",
       "version_major": 2,
       "version_minor": 0
      },
      "text/plain": [
       "HBox(children=(Output(),))"
      ]
     },
     "metadata": {},
     "output_type": "display_data"
    }
   ],
   "source": [
    "btn_create_floors.on_click(generate_sub_building_widget)\n",
    "widgets.HBox([output_btn_create_floors])"
   ]
  },
  {
   "cell_type": "code",
   "execution_count": 8,
   "metadata": {
    "ExecuteTime": {
     "end_time": "2021-02-03T13:49:40.028714Z",
     "start_time": "2021-02-03T13:49:40.019869Z"
    }
   },
   "outputs": [
    {
     "data": {
      "application/vnd.jupyter.widget-view+json": {
       "model_id": "316a10a26d544ad894b5b90da36d8cd4",
       "version_major": 2,
       "version_minor": 0
      },
      "text/plain": [
       "HBox(children=(Output(),))"
      ]
     },
     "metadata": {},
     "output_type": "display_data"
    }
   ],
   "source": [
    "btn_create_all_rooms.on_click(generate_building_widgets_with_tabs_pr_floor)\n",
    "widgets.HBox([output_btn_create_all_rooms])"
   ]
  },
  {
   "cell_type": "code",
   "execution_count": 9,
   "metadata": {
    "ExecuteTime": {
     "end_time": "2021-02-03T13:49:40.041331Z",
     "start_time": "2021-02-03T13:49:40.032127Z"
    }
   },
   "outputs": [
    {
     "data": {
      "application/vnd.jupyter.widget-view+json": {
       "model_id": "1b0a61c48a9b4b11a348d89ee7ec2169",
       "version_major": 2,
       "version_minor": 0
      },
      "text/plain": [
       "HBox(children=(Output(),))"
      ]
     },
     "metadata": {},
     "output_type": "display_data"
    }
   ],
   "source": [
    "btn_create.on_click(generate_total_building_structure_dict)\n",
    "widgets.HBox([output_btn_create])"
   ]
  },
  {
   "cell_type": "code",
   "execution_count": 10,
   "metadata": {
    "ExecuteTime": {
     "end_time": "2021-02-03T13:49:40.072165Z",
     "start_time": "2021-02-03T13:49:40.043684Z"
    }
   },
   "outputs": [
    {
     "data": {
      "application/vnd.jupyter.widget-view+json": {
       "model_id": "b8ca9d752c6a452fbf8b44825433b1d8",
       "version_major": 2,
       "version_minor": 0
      },
      "text/plain": [
       "VBox(children=(HBox(children=(Button(description='UPLOAD TO EEP', disabled=True, style=ButtonStyle(button_colo…"
      ]
     },
     "metadata": {},
     "output_type": "display_data"
    }
   ],
   "source": [
    "output_upload_building_to_eep = widgets.Output()\n",
    "\n",
    "f0_max_count = 2\n",
    "\n",
    "f0 = widgets.IntProgress(min=0, max=f0_max_count) # instantiate the bar\n",
    "\n",
    "def upload_building_to_eep(m):\n",
    "    f0.value = 0\n",
    "    f0.value += 1\n",
    "    \n",
    "    EEP_building_client_create.commit()\n",
    "    f0.value += 1\n",
    "    \n",
    "    with output_upload_building_to_eep:\n",
    "        output_upload_building_to_eep.clear_output()\n",
    "        print('Uploaded to EEP!')\n",
    "        \n",
    "        EEP_building_client_create.dump_building_structure(raw=False)\n",
    "\n",
    "    \n",
    "btn_upload_building_structure_to_eep.on_click(upload_building_to_eep)\n",
    "\n",
    "widgets.VBox([widgets.HBox([btn_upload_building_structure_to_eep, f0]), output_upload_building_to_eep])"
   ]
  },
  {
   "cell_type": "markdown",
   "metadata": {},
   "source": [
    "***"
   ]
  },
  {
   "cell_type": "markdown",
   "metadata": {},
   "source": [
    "# Update physical building"
   ]
  },
  {
   "cell_type": "markdown",
   "metadata": {
    "ExecuteTime": {
     "end_time": "2021-01-14T20:15:38.464382Z",
     "start_time": "2021-01-14T20:15:38.456220Z"
    }
   },
   "source": [
    " "
   ]
  },
  {
   "cell_type": "markdown",
   "metadata": {},
   "source": [
    "## Add rooms"
   ]
  },
  {
   "cell_type": "code",
   "execution_count": 11,
   "metadata": {
    "ExecuteTime": {
     "end_time": "2021-02-03T13:49:40.097809Z",
     "start_time": "2021-02-03T13:49:40.073863Z"
    }
   },
   "outputs": [
    {
     "data": {
      "application/vnd.jupyter.widget-view+json": {
       "model_id": "3ecbb871a857492bb69383ddff0c8d8e",
       "version_major": 2,
       "version_minor": 0
      },
      "text/plain": [
       "HBox(children=(Dropdown(description='Building:', layout=Layout(width='400px'), options=(), value=None), Button…"
      ]
     },
     "metadata": {},
     "output_type": "display_data"
    }
   ],
   "source": [
    "#root_assets_list_df = c.assets.list(root=True, limit=-1).to_pandas()\n",
    "# building_ser = root_assets_list_df.externalId\n",
    "# building_list= building_ser.tolist()\n",
    "# building_list.sort()\n",
    "building_list = []\n",
    "\n",
    "update_building_drop_list = widgets.Dropdown(\n",
    "    options=building_list,\n",
    "    #value=building_list[0],\n",
    "    description='Building:',\n",
    "    layout={'width': '400px'}\n",
    ")\n",
    "\n",
    "btn_choose_building_update = widgets.Button(description=\"Choose Building\", icon='city', layout={'width': '200px'})\n",
    "output_choose_building_update = widgets.Output()\n",
    "\n",
    "widgets.HBox([update_building_drop_list, btn_choose_building_update])"
   ]
  },
  {
   "cell_type": "code",
   "execution_count": 12,
   "metadata": {
    "ExecuteTime": {
     "end_time": "2021-02-03T13:49:40.102777Z",
     "start_time": "2021-02-03T13:49:40.100056Z"
    }
   },
   "outputs": [],
   "source": [
    "#active_update_root_asset"
   ]
  },
  {
   "cell_type": "code",
   "execution_count": 13,
   "metadata": {
    "ExecuteTime": {
     "end_time": "2021-02-03T13:49:40.144887Z",
     "start_time": "2021-02-03T13:49:40.105242Z"
    }
   },
   "outputs": [
    {
     "data": {
      "application/vnd.jupyter.widget-view+json": {
       "model_id": "ca0d62407efe484aa4ef87dfe19908d0",
       "version_major": 2,
       "version_minor": 0
      },
      "text/plain": [
       "HBox(children=(Output(),))"
      ]
     },
     "metadata": {},
     "output_type": "display_data"
    }
   ],
   "source": [
    "def choose_building_and_create_sub_building_rbtn(a):\n",
    "    \n",
    "    global active_update_root_asset, floor_names_list, input_rbtn_update_AAA\n",
    "    \n",
    "    active_update_root_asset = root_assets_list_df.loc[update_building_drop_list.value].externalId\n",
    "    \n",
    "    \n",
    "    AAA_asset_update_df = c.assets.list(parent_external_ids=[str(active_update_root_asset)]).to_pandas()\n",
    "    \n",
    "    floor_names_list = find_number_of_floors_in_active_building(active_update_root_asset)\n",
    "    \n",
    "    if len(floor_names_list) > 0:\n",
    "    \n",
    "        if len(AAA_asset_update_df) > 0:\n",
    "\n",
    "            AAA_update_list = list(AAA_asset_update_df.name)\n",
    "\n",
    "            try:\n",
    "                AAA_update_list.remove('Common')\n",
    "            except:\n",
    "                pass\n",
    "\n",
    "            input_rbtn_update_AAA = widgets.RadioButtons(\n",
    "                options=AAA_update_list,\n",
    "                layout={'width': '250pt'}, # If the items' names are long\n",
    "                style={'description_width': '150px'},\n",
    "                description='Choose sub_building:',\n",
    "                disabled=False)\n",
    "\n",
    "            #input_rbtn_update_AAA.options = AAA_update_list\n",
    "\n",
    "            output = widgets.HBox([input_rbtn_update_AAA, btn_choose_sub_building_update])\n",
    "        else:\n",
    "\n",
    "            output = str('No AAA found')\n",
    "            \n",
    "    else:\n",
    "        output = str('NO physical building found to update. Please create physical building.')\n",
    "\n",
    "    with output_choose_building_update:\n",
    "        output_choose_building_update.clear_output()\n",
    "        output_choose_sub_building_update.clear_output()\n",
    "        add_rooms_update_content_output.clear_output()\n",
    "        building_update_structure_content_output.clear_output()\n",
    "        output_upload_add_rooms_to_eep.clear_output()\n",
    "        \n",
    "        \n",
    "        #output = str(active_update_root_asset)\n",
    "        display(output)\n",
    "\n",
    "btn_choose_sub_building_update = widgets.Button(description=\"Choose Sub-Building\", layout={'width': '200px'})\n",
    "output_choose_sub_building_update = widgets.Output()\n",
    "\n",
    "btn_choose_building_update.on_click(choose_building_and_create_sub_building_rbtn)\n",
    "#widgets.HBox([output_choose_building_update, btn_choose_sub_building_update])\n",
    "widgets.HBox([output_choose_building_update])"
   ]
  },
  {
   "cell_type": "code",
   "execution_count": 14,
   "metadata": {
    "ExecuteTime": {
     "end_time": "2021-02-03T13:49:40.242228Z",
     "start_time": "2021-02-03T13:49:40.146460Z"
    }
   },
   "outputs": [
    {
     "data": {
      "application/vnd.jupyter.widget-view+json": {
       "model_id": "34fc9c8e34c24801b3b3b092a7eec475",
       "version_major": 2,
       "version_minor": 0
      },
      "text/plain": [
       "HBox(children=(Output(),))"
      ]
     },
     "metadata": {},
     "output_type": "display_data"
    }
   ],
   "source": [
    "btn_add_room_update = widgets.Button(description=\"Add room\", icon='plus')\n",
    "btn_subtract_room_update = widgets.Button(description=\"Remove room\", icon='minus')\n",
    "btn_add_floor_name_update = widgets.Button(description=\"Add floor\")\n",
    "lbl_spacer = widgets.Label(value=\"\", layout={'width': '200pt'})\n",
    "\n",
    "lbl_new_floor_in_list = widgets.Label(value=\"If floor number not in list:\")\n",
    "\n",
    "inttext_floor_number = widgets.BoundedIntText(\n",
    "    value=1,\n",
    "    min=0,\n",
    "    max=999,\n",
    "    step=1,\n",
    "    description='New Floor: ',\n",
    "    disabled=False\n",
    ")\n",
    "\n",
    "rbtn_floor_sub_floor = widgets.RadioButtons(\n",
    "    options=['Floor', 'Sub_Floor'],\n",
    "#    value='pineapple', # Defaults to 'pineapple'\n",
    "#    layout={'width': 'max-content'}, # If the items' names are long\n",
    "    description='',\n",
    "    disabled=False\n",
    ")\n",
    "\n",
    "\n",
    "update_rooms_widgets_list = []\n",
    "\n",
    "def choose_sub_building_and_create_add_remove_buttons(b):\n",
    "    \n",
    "    #global inttext_floor_number\n",
    "    \n",
    "    output = widgets.HBox([btn_add_room_update, btn_subtract_room_update, lbl_spacer, widgets.VBox([lbl_new_floor_in_list, inttext_floor_number,rbtn_floor_sub_floor,btn_add_floor_name_update])])\n",
    "    \n",
    "    with output_choose_sub_building_update:\n",
    "        output_choose_sub_building_update.clear_output()\n",
    "        display(output)\n",
    "        \n",
    "btn_choose_sub_building_update.on_click(choose_sub_building_and_create_add_remove_buttons)\n",
    "\n",
    "widgets.HBox([output_choose_sub_building_update])"
   ]
  },
  {
   "cell_type": "code",
   "execution_count": 15,
   "metadata": {
    "ExecuteTime": {
     "end_time": "2021-02-03T13:49:40.249901Z",
     "start_time": "2021-02-03T13:49:40.244528Z"
    }
   },
   "outputs": [],
   "source": [
    "def add_floor_to_floor_list(d):\n",
    "    \n",
    "    new_floor_no = inttext_floor_number.value\n",
    "    \n",
    "    if rbtn_floor_sub_floor.value == 'Floor':\n",
    "        new_floor_no_str = str(new_floor_no).zfill(3)\n",
    "    else:\n",
    "        new_floor_no_str = str('K') + str(new_floor_no).zfill(2)\n",
    "    \n",
    "    with output_choose_sub_building_update:\n",
    "        if new_floor_no_str not in floor_names_list:\n",
    "            floor_names_list.append(new_floor_no_str)\n",
    "            floor_names_list.sort()\n",
    "            #input_floor_select_widget.option = floor_names_list\n",
    "            \n",
    "            #update existing widgets\n",
    "            for item in update_rooms_widgets_list:\n",
    "                item[2].options = floor_names_list\n",
    "            \n",
    "        else:\n",
    "            print(str(new_floor_no) + ' already in list of floors.')\n",
    "            \n",
    "        #print(str(new_floor_no_str) + '  ' + str(floor_names_list))\n",
    "\n",
    "btn_add_floor_name_update.on_click(add_floor_to_floor_list)"
   ]
  },
  {
   "cell_type": "code",
   "execution_count": 16,
   "metadata": {
    "ExecuteTime": {
     "end_time": "2021-02-03T13:49:40.275153Z",
     "start_time": "2021-02-03T13:49:40.251975Z"
    }
   },
   "outputs": [
    {
     "data": {
      "application/vnd.jupyter.widget-view+json": {
       "model_id": "600859e8e5c64ed6b643597dfc716b40",
       "version_major": 2,
       "version_minor": 0
      },
      "text/plain": [
       "HBox(children=(Output(),))"
      ]
     },
     "metadata": {},
     "output_type": "display_data"
    }
   ],
   "source": [
    "add_rooms_update_content_output = widgets.Output()\n",
    "\n",
    "btn_create_updated_building_structure_dict = widgets.Button(description='Create updated building structure', layout={'width' : '400pt'})\n",
    "\n",
    "def add_room_to_update_rooms_widgets_list(c):\n",
    "    \n",
    "    global rooms_widget_list, update_rooms_widgets_list, input_floor_select_widget\n",
    "    \n",
    "    input_name_widget = widgets.Text(\n",
    "        value='',\n",
    "        placeholder='(room name)',\n",
    "        description= 'Room name:',\n",
    "        disabled=False)\n",
    "\n",
    "    input_descr_widget = widgets.Text(\n",
    "        value='',\n",
    "        placeholder='(description)',\n",
    "        description= 'Description:',\n",
    "        disabled=False)\n",
    "    \n",
    "    input_floor_select_widget = widgets.Dropdown(\n",
    "        options=floor_names_list,\n",
    "        value=floor_names_list[0],\n",
    "        description='Floor #:',\n",
    "        disabled=False\n",
    "    )\n",
    "\n",
    "    rooms_widget_list = [input_name_widget, input_descr_widget, input_floor_select_widget]\n",
    "    #output = widgets.VBox([x for x in rooms_widget_list])\n",
    "    update_rooms_widgets_list.append(rooms_widget_list)\n",
    "    #input_floor_select_widget\n",
    "    #update_rooms_widgets_list\n",
    "    #rooms_widget_list.append([input_name_widget, input_descr_widget, input_floor_select_widget])\n",
    "    \n",
    "    with add_rooms_update_content_output:\n",
    "        add_rooms_update_content_output.clear_output()\n",
    "        for item in update_rooms_widgets_list:\n",
    "            display(widgets.HBox([x for x in item]))\n",
    "            \n",
    "        display(btn_create_updated_building_structure_dict)\n",
    "\n",
    "btn_add_room_update.on_click(add_room_to_update_rooms_widgets_list)\n",
    "widgets.HBox([add_rooms_update_content_output])"
   ]
  },
  {
   "cell_type": "code",
   "execution_count": 17,
   "metadata": {
    "ExecuteTime": {
     "end_time": "2021-02-03T13:49:40.283636Z",
     "start_time": "2021-02-03T13:49:40.277497Z"
    }
   },
   "outputs": [],
   "source": [
    "def find_number_of_floors_in_active_building(active_update_root_asset):\n",
    "    my_label_filter = LabelFilter(contains_all=[\"floor\"])\n",
    "    floors_asset_df = c.assets.list(asset_subtree_external_ids=active_update_root_asset, labels=my_label_filter, limit=-1).to_pandas()\n",
    "    \n",
    "    foor_number_list = []\n",
    "    \n",
    "    if len(floors_asset_df) > 0:\n",
    "    \n",
    "        floors_asset_list = floors_asset_df.name.tolist()\n",
    "\n",
    "        for foor_name in floors_asset_list:\n",
    "            active_floor_name = foor_name.split('.',1)\n",
    "            foor_number_list.append(active_floor_name[1])\n",
    "\n",
    "        foor_number_list.sort()\n",
    "    \n",
    "    \n",
    "    return foor_number_list"
   ]
  },
  {
   "cell_type": "code",
   "execution_count": 18,
   "metadata": {
    "ExecuteTime": {
     "end_time": "2021-02-03T13:49:40.291512Z",
     "start_time": "2021-02-03T13:49:40.286478Z"
    }
   },
   "outputs": [],
   "source": [
    "def subtract_room_to_update_rooms_widgets_list(c):\n",
    "    \n",
    "    #global rooms_widget_list\n",
    "    last_index = len(update_rooms_widgets_list) -1\n",
    "    #print(last_index)\n",
    "    if last_index >= 0:\n",
    "    \n",
    "        update_rooms_widgets_list.pop(last_index)\n",
    "        \n",
    "    else:\n",
    "        pass\n",
    "    \n",
    "    with add_rooms_update_content_output:\n",
    "        add_rooms_update_content_output.clear_output()\n",
    "        for item in update_rooms_widgets_list:\n",
    "            display(widgets.HBox([x for x in item]))\n",
    "        \n",
    "        display(btn_create_updated_building_structure_dict)\n",
    "        \n",
    "btn_subtract_room_update.on_click(subtract_room_to_update_rooms_widgets_list)"
   ]
  },
  {
   "cell_type": "code",
   "execution_count": 19,
   "metadata": {
    "ExecuteTime": {
     "end_time": "2021-02-03T13:49:40.299841Z",
     "start_time": "2021-02-03T13:49:40.293663Z"
    }
   },
   "outputs": [],
   "source": [
    "def create_room_update_widgets():\n",
    "    \n",
    "    #label_extId_widget = widgets.Label(value=extId, layout={'width': '350px'})\n",
    "\n",
    "    input_name_widget = widgets.Text(\n",
    "        value='',\n",
    "        placeholder='(room name)',\n",
    "        description= 'Room name:',\n",
    "        disabled=False)\n",
    "\n",
    "    input_descr_widget = widgets.Text(\n",
    "        value='',\n",
    "        placeholder='(description)',\n",
    "        description= 'Description:',\n",
    "        disabled=False)\n",
    "    \n",
    "    input_floor_select_widget = widgets.Dropdown(\n",
    "        options=['1', '2', '3'],\n",
    "        value='2',\n",
    "        description='Floor #:',\n",
    "        disabled=False\n",
    "    )\n",
    "\n",
    "    rooms_widget_list = [input_name_widget, input_descr_widget, input_floor_select_widget]\n",
    "\n",
    "    return rooms_widget_list"
   ]
  },
  {
   "cell_type": "code",
   "execution_count": null,
   "metadata": {},
   "outputs": [],
   "source": []
  },
  {
   "cell_type": "code",
   "execution_count": 20,
   "metadata": {
    "ExecuteTime": {
     "end_time": "2021-02-03T13:49:40.319967Z",
     "start_time": "2021-02-03T13:49:40.302008Z"
    }
   },
   "outputs": [
    {
     "data": {
      "application/vnd.jupyter.widget-view+json": {
       "model_id": "c9b4556a9d1643d981d37b54f5c13142",
       "version_major": 2,
       "version_minor": 0
      },
      "text/plain": [
       "HBox(children=(Output(),))"
      ]
     },
     "metadata": {},
     "output_type": "display_data"
    }
   ],
   "source": [
    "add_room_dict_list = []\n",
    "\n",
    "def create_updated_building_structure_dict(f):\n",
    "    \n",
    "    global add_room_dict_list, EEP_building_client_add, update_rooms_widgets_list\n",
    "    \n",
    "    add_room_dict_list = []\n",
    "    \n",
    "    for add_room in update_rooms_widgets_list:\n",
    "        add_widg_value_list = []\n",
    "\n",
    "        for add_widg in add_room:\n",
    "            \n",
    "            add_widg_value_list.append(add_widg.value)\n",
    "\n",
    "\n",
    "        add_room_dict = {'AAA': input_rbtn_update_AAA.value,\n",
    "            'floor_no': add_widg_value_list[2],\n",
    "            'room_name': add_widg_value_list[0],\n",
    "            'description': add_widg_value_list[1] #,'type':type_item\n",
    "        }\n",
    "        add_room_dict_list.append(add_room_dict)\n",
    "    \n",
    "    #print debug\n",
    "    print(add_room_dict_list)\n",
    "    \n",
    "    #creates instance of eep-api\n",
    "    EEP_building_client_add = PhysicalBuildingAPI(cdf_project=str(rbtn_cdf_login.value), root_external_id=active_update_root_asset, dryrun=False)\n",
    "    \n",
    "    for item in add_room_dict_list:    \n",
    "        EEP_building_client_add.add_room(AAA = item['AAA'], name = item['room_name'], floor = item['floor_no'], description = item['description'])\n",
    "    \n",
    "    btn_upload_add_rooms_to_eep.disabled = False\n",
    "    \n",
    "    with building_update_structure_content_output:\n",
    "        building_update_structure_content_output.clear_output()\n",
    "        EEP_building_client_add.dump_building_structure()\n",
    "        #display(add_room_dict_list)\n",
    "    \n",
    "building_update_structure_content_output = widgets.Output()\n",
    "\n",
    "btn_create_updated_building_structure_dict.on_click(create_updated_building_structure_dict)\n",
    "widgets.HBox([building_update_structure_content_output])"
   ]
  },
  {
   "cell_type": "code",
   "execution_count": 21,
   "metadata": {
    "ExecuteTime": {
     "end_time": "2021-02-03T13:49:40.354416Z",
     "start_time": "2021-02-03T13:49:40.321960Z"
    }
   },
   "outputs": [
    {
     "data": {
      "application/vnd.jupyter.widget-view+json": {
       "model_id": "5c849858f6a14e60bf8ca9820ac933d1",
       "version_major": 2,
       "version_minor": 0
      },
      "text/plain": [
       "VBox(children=(HBox(children=(Button(description='UPLOAD ADDED ROOMS TO EEP', disabled=True, layout=Layout(wid…"
      ]
     },
     "metadata": {},
     "output_type": "display_data"
    }
   ],
   "source": [
    "btn_upload_add_rooms_to_eep = widgets.Button(description='UPLOAD ADDED ROOMS TO EEP', disabled=True, layout = {'width' : '200pt'})\n",
    "btn_upload_add_rooms_to_eep.style.button_color = 'lightgreen'\n",
    "output_upload_add_rooms_to_eep = widgets.Output()\n",
    "\n",
    "f1_max_count = 2\n",
    "\n",
    "f1 = widgets.IntProgress(min=0, max=f1_max_count) # instantiate the bar\n",
    "\n",
    "def upload_add_rooms_to_eep(t):\n",
    "    f1.value = 0\n",
    "    f1.value +=1\n",
    "    \n",
    "    EEP_building_client_add.commit()\n",
    "    f1.value +=1\n",
    "    \n",
    "    with output_upload_add_rooms_to_eep:\n",
    "        output_upload_add_rooms_to_eep.clear_output()\n",
    "        \n",
    "        EEP_building_client_add.dump_building_structure()\n",
    "\n",
    "        \n",
    "btn_upload_add_rooms_to_eep.on_click(upload_add_rooms_to_eep)\n",
    "\n",
    "widgets.VBox([widgets.HBox([btn_upload_add_rooms_to_eep, f1]), output_upload_add_rooms_to_eep])"
   ]
  },
  {
   "cell_type": "markdown",
   "metadata": {},
   "source": [
    "***"
   ]
  },
  {
   "cell_type": "markdown",
   "metadata": {
    "ExecuteTime": {
     "end_time": "2021-02-01T22:27:20.689892Z",
     "start_time": "2021-02-01T22:27:20.684858Z"
    }
   },
   "source": [
    "## Delete rooms in existing building"
   ]
  },
  {
   "cell_type": "code",
   "execution_count": 22,
   "metadata": {
    "ExecuteTime": {
     "end_time": "2021-02-03T13:49:40.359550Z",
     "start_time": "2021-02-03T13:49:40.356142Z"
    }
   },
   "outputs": [],
   "source": [
    "#building_structure.delete(room_id=\"009\", AAA=\"GF\", floor=\"001\")"
   ]
  },
  {
   "cell_type": "markdown",
   "metadata": {},
   "source": [
    "Functionality not yet released. Contact EEP-Backend for manual delete."
   ]
  },
  {
   "cell_type": "markdown",
   "metadata": {},
   "source": [
    "***"
   ]
  },
  {
   "cell_type": "markdown",
   "metadata": {},
   "source": [
    "## Update building with metadata"
   ]
  },
  {
   "cell_type": "code",
   "execution_count": 39,
   "metadata": {
    "ExecuteTime": {
     "end_time": "2021-02-03T13:55:37.327414Z",
     "start_time": "2021-02-03T13:55:37.315994Z"
    }
   },
   "outputs": [],
   "source": [
    "def get_room_type_list_from_raw():\n",
    "    room_types_df = c.raw.rows.retrieve(\"energima_sensormaps\", \"tfm\", \"room\").columns\n",
    "    room_types_list = []\n",
    "    for r, k in room_types_df.items():\n",
    "        if isinstance(k, dict):\n",
    "            #print(k.get(\"name\"))\n",
    "            room_types_list.append(k.get(\"name\"))\n",
    "    \n",
    "    room_types_list.sort()\n",
    "    \n",
    "    return room_types_list\n",
    "\n",
    "def get_all_rooms_from_eep_api():\n",
    "    building_structure_list = building_structure_client.list()\n",
    "    \n",
    "    \n",
    "    return\n",
    "    \n",
    "\n",
    "def create_building_widgets(building_cat_list, building_type_list):\n",
    "    \n",
    "    global building_type_widget_list\n",
    "    \n",
    "    building_type_widget_list = []\n",
    "    for item in building_cat_list:\n",
    "        building_type_widget_list.append(widgets.Select(\n",
    "            options=building_type_list[int(building_cat_list.index(item))],\n",
    "            disabled=False\n",
    "        ))\n",
    "\n",
    "    accordion = widgets.Accordion(children=building_type_widget_list)\n",
    "\n",
    "    for item in building_cat_list:\n",
    "        accordion.set_title(building_cat_list.index(item), str(item))\n",
    "    \n",
    "    return accordion\n",
    "\n",
    "\n",
    "def prep_building_type_and_cat_list_info():\n",
    "    building_type_list = []\n",
    "    building_cat_list = []\n",
    "    building_types_dict = c.raw.rows.retrieve(\"energima_sensormaps\", \"tfm\", \"building\").columns\n",
    "    for k, v in building_types_dict.items():\n",
    "        if isinstance(v, dict):\n",
    "            pass\n",
    "        else:\n",
    "            building_type_list.append(v)\n",
    "            building_cat_list.append(k)\n",
    "    return building_type_list, building_cat_list\n",
    "\n",
    "\n",
    "def get_room_list_from_eep_api(AAA_val):\n",
    "    building_structure_list = building_structure_client.list(AAA=AAA_val)\n",
    "    metadata_list = []\n",
    "    floor_list = []\n",
    "    room_list = []\n",
    "    \n",
    "    for sub_build_k, sub_build_v in building_structure_list.items():\n",
    "        #print(sub_build_k)\n",
    "        #print(v)\n",
    "        for floor_k, floor_v in sub_build_v.items():\n",
    "            #print('Floor no: ' + str(floor_k))\n",
    "            for room_k, room_v in floor_v.items():\n",
    "                room_total_info_str = str('AAA: ' + str(sub_build_k) + ' -> Floor no: ' + str(floor_k) + ' -> Room no: ' + str(room_k) + '  ' + 'Room content: ' + str(room_v))\n",
    "                #print(room_total_info_str)\n",
    "                room_list.append(room_total_info_str)\n",
    "                \n",
    "    return room_list\n",
    "\n",
    "def get_values_from_selected_room_list(select_room_list_values):\n",
    "    \"\"\"\n",
    "    values output from widget -> select_room_list.value (tuple)\n",
    "    \"\"\"\n",
    "    \n",
    "    data_as_string_list = list(select_room_list_values)\n",
    "    res_list = []\n",
    "    for item in data_as_string_list:\n",
    "        active_data_item_list = []\n",
    "        active_data_item_list = item.split(' ')\n",
    "        if len(active_data_item_list) > 10:\n",
    "            res_list.append([active_data_item_list[1], active_data_item_list[5], active_data_item_list[9]])\n",
    "        else:\n",
    "            print('Error extracting data from: ' + str(item))\n",
    "        #remove if successful\n",
    "    return res_list"
   ]
  },
  {
   "cell_type": "code",
   "execution_count": 40,
   "metadata": {
    "ExecuteTime": {
     "end_time": "2021-02-03T13:55:40.661818Z",
     "start_time": "2021-02-03T13:55:40.628813Z"
    },
    "scrolled": false
   },
   "outputs": [
    {
     "data": {
      "application/vnd.jupyter.widget-view+json": {
       "model_id": "93f6f9af4d3c4a88bf28d2eae4a8e515",
       "version_major": 2,
       "version_minor": 0
      },
      "text/plain": [
       "HBox(children=(Dropdown(description='Building:', layout=Layout(width='400px'), options=(('AH_0154_Dronningens_…"
      ]
     },
     "metadata": {},
     "output_type": "display_data"
    }
   ],
   "source": [
    "\n",
    "building_update_meta_list = []\n",
    "\n",
    "update_building_update_meta_drop_list = widgets.Dropdown(\n",
    "    options=building_list,\n",
    "    #value=building_update_meta_list[0],\n",
    "    description='Building:',\n",
    "    layout={'width': '400px'}\n",
    ")\n",
    "\n",
    "\n",
    "chkbx_update_building_update_meta_show_building_structure = widgets.Checkbox(\n",
    "    value=True,\n",
    "    description='Show building structure',\n",
    "    disabled=False\n",
    ")\n",
    "\n",
    "btn_choose_building_update_meta = widgets.Button(description=\"Choose Building\", layout={'width': '300px'})\n",
    "\n",
    "widgets.HBox([update_building_update_meta_drop_list, btn_choose_building_update_meta, chkbx_update_building_update_meta_show_building_structure])"
   ]
  },
  {
   "cell_type": "code",
   "execution_count": 41,
   "metadata": {
    "ExecuteTime": {
     "end_time": "2021-02-03T13:55:43.936264Z",
     "start_time": "2021-02-03T13:55:43.882172Z"
    }
   },
   "outputs": [
    {
     "data": {
      "application/vnd.jupyter.widget-view+json": {
       "model_id": "607cc585d0894b2aafc32c237443a65e",
       "version_major": 2,
       "version_minor": 0
      },
      "text/plain": [
       "VBox(children=(Output(), RadioButtons(description='Choose sub_building:', layout=Layout(width='250pt'), option…"
      ]
     },
     "metadata": {},
     "output_type": "display_data"
    }
   ],
   "source": [
    "output_choose_building_update_meta = widgets.Output()\n",
    "\n",
    "btn_choose_metadata_to_update = widgets.Button(description='Choose metadata type to update', layout={'width':'250pt'}, disabled=True)\n",
    "\n",
    "rbtn_choose_metadata_to_update = widgets.RadioButtons(\n",
    "    options=['Building/floor cathegory', 'Area', 'Room Type'],\n",
    "    value='Room Type',\n",
    "    description='Choose metadata type to update:',\n",
    "    disabled=True,\n",
    "    layout={'width':'350pt'},\n",
    "    style= {'description_width': '200px'}\n",
    ")\n",
    "\n",
    "AAA_meta_update_list = []\n",
    "\n",
    "input_rbtn_AAA_meta_update = widgets.RadioButtons(\n",
    "    options=AAA_meta_update_list,\n",
    "    layout={'width': '250pt'}, # If the items' names are long\n",
    "    style={'description_width': '150px'},\n",
    "    description='Choose sub_building:',\n",
    "    disabled=False)\n",
    "\n",
    "       \n",
    "def choose_building_update_meta(g):\n",
    "    \n",
    "    global active_update_meta_root_asset, building_structure_client\n",
    "    \n",
    "    active_update_meta_root_asset = root_assets_list_df.loc[update_building_update_meta_drop_list.value].externalId\n",
    "    #print(active_update_meta_root_asset)\n",
    "    building_structure_client = PhysicalBuildingAPI(cdf_project=\"energima\", root_external_id=active_update_meta_root_asset, dryrun=False)\n",
    "    \n",
    "    rbtn_choose_metadata_to_update.disabled = False\n",
    "    btn_choose_metadata_to_update.disabled = False\n",
    "    \n",
    "    #--\n",
    "    AAA_meta_update_df = find_TFM_AAA(c=c, root_asset=active_update_meta_root_asset).to_pandas()\n",
    "    AAA_meta_update_list = list(AAA_meta_update_df.name)\n",
    "    try:\n",
    "        AAA_meta_update_list.remove('Common')\n",
    "    except Exception as err:\n",
    "        print(err)\n",
    "        pass\n",
    "    \n",
    "    input_rbtn_AAA_meta_update.options = AAA_meta_update_list\n",
    "    \n",
    "    #enables button if already used and rerun\n",
    "    btn_choose_building_update_meta.disabled = False\n",
    "    rbtn_choose_metadata_to_update.disabled = False\n",
    "    \n",
    "    #--\n",
    "    \n",
    "    with output_choose_building_update_meta:\n",
    "        output_choose_building_update_meta.clear_output()\n",
    "        pass\n",
    "    \n",
    "        if chkbx_update_building_update_meta_show_building_structure.value == True:\n",
    "\n",
    "            building_structure_conent = building_structure_client.dump_building_structure(raw=False)\n",
    "            \n",
    "        else:\n",
    "            display(str(active_update_meta_root_asset))\n",
    "\n",
    "btn_choose_building_update_meta.on_click(choose_building_update_meta)\n",
    "\n",
    "\n",
    "widgets.VBox([output_choose_building_update_meta, input_rbtn_AAA_meta_update, widgets.HBox([rbtn_choose_metadata_to_update, btn_choose_metadata_to_update])])"
   ]
  },
  {
   "cell_type": "code",
   "execution_count": null,
   "metadata": {
    "ExecuteTime": {
     "end_time": "2021-01-21T15:22:10.560900Z",
     "start_time": "2021-01-21T15:22:10.556827Z"
    }
   },
   "outputs": [],
   "source": []
  },
  {
   "cell_type": "code",
   "execution_count": 42,
   "metadata": {
    "ExecuteTime": {
     "end_time": "2021-02-03T13:55:47.994968Z",
     "start_time": "2021-02-03T13:55:47.782957Z"
    },
    "scrolled": false
   },
   "outputs": [
    {
     "data": {
      "application/vnd.jupyter.widget-view+json": {
       "model_id": "7a005bdacbd74b22b6e030876c011bc6",
       "version_major": 2,
       "version_minor": 0
      },
      "text/plain": [
       "VBox(children=(Output(),))"
      ]
     },
     "metadata": {},
     "output_type": "display_data"
    }
   ],
   "source": [
    "def read_floor_metadata(building_structure_client, floors_list):\n",
    "    floors_metadata_list = []\n",
    "    \n",
    "    for floor in floors_list:\n",
    "        \n",
    "        floor_metadata = building_structure_client.list_metadata(AAA=input_rbtn_AAA_meta_update.value, floor=floor)\n",
    "        \n",
    "        if floor_metadata is not None:\n",
    "        \n",
    "            data = {\n",
    "                'floor_no' : str(floor),\n",
    "                'building_type' : floor_metadata.get('building_type', ''),\n",
    "                'building_cathegory' : floor_metadata.get('building_cathegory', '')\n",
    "            }\n",
    "            \n",
    "        else:\n",
    "            \n",
    "            data = {\n",
    "                'floor_no' : str(floor),\n",
    "                'building_type' : '',\n",
    "                'building_cathegory' : ''\n",
    "            }\n",
    "            \n",
    "    \n",
    "        floors_metadata_list.append(data)\n",
    "    return floors_metadata_list\n",
    "\n",
    "\n",
    "def update_floor_metadata(floors_metadata_list, floor_no, building_type, building_cathegory):\n",
    "    \n",
    "    building_type_str = building_type\n",
    "\n",
    "    building_cathegory_str = building_cathegory\n",
    "\n",
    "    \n",
    "    for item in floors_metadata_list:\n",
    "        \n",
    "        old_building_type_list = []\n",
    "        old_building_cath_list = []\n",
    "        \n",
    "        if item['floor_no'] == floor_no:\n",
    "            \n",
    "            if len(item['building_type']) > 0:\n",
    "                old_building_type_list = item['building_type'].split(\";\")\n",
    "            else:\n",
    "                old_building_type_list = []\n",
    "            \n",
    "            if len(item['building_cathegory']) > 0:\n",
    "                old_building_cath_list = item['building_cathegory'].split(\";\")\n",
    "            else:\n",
    "                old_building_cath_list = []\n",
    "            \n",
    "            if building_type_str not in old_building_type_list:  \n",
    "                old_building_type_list.append(building_type_str)\n",
    "                item['building_type'] = \";\".join(old_building_type_list)\n",
    "                \n",
    "            if building_cathegory_str not in old_building_cath_list:\n",
    "                old_building_cath_list.append(building_cathegory_str)\n",
    "                item['building_cathegory'] = \";\".join(old_building_cath_list)\n",
    "\n",
    "def clear_floor_metadata(floors_metadata_list, floor_no):\n",
    "    for item in floors_metadata_list:\n",
    "        if item['floor_no'] == floor_no:\n",
    "            item['building_type'] = ''\n",
    "            item['building_cathegory'] = ''\n",
    "\n",
    "\n",
    "#----start gui\n",
    "\n",
    "chk_commit_upload_building_types_and_cath_to_eep = widgets.Checkbox(description='Dry run', value=True)\n",
    "output_choose_type_update_meta = widgets.Output()\n",
    "btn_add_type_to_room = widgets.Button(description='Add type to rooms', layout={'width':'800px', 'height': '50px'})\n",
    "lbl_spacer_update_metadata_type = widgets.Label(layout={'height':'30px'})\n",
    "\n",
    "def choose_type_update_meta(i):\n",
    "    global floor_metadata_dict_list, floors_type_metadata, floor_no_metaupdate_list, room_list, room_type_update_meta_list, AAA_meta_update_selected, select_roomtype_list, select_room_list, btn_add_type_to_room, data_list_for_room_type_update_type, data_list_for_room_type_update, floors_type_metadata, input_floors_metadata_multiselect, widget_building_type, building_type_list, building_cat_list\n",
    "    \n",
    "    AAA_meta_update_selected = input_rbtn_AAA_meta_update.value\n",
    "\n",
    "    if rbtn_choose_metadata_to_update.value == 'Building/floor cathegory':\n",
    "        \n",
    "        #collecting building cathegories and types from raw and creates accordion widgets\n",
    "        building_type_list, building_cat_list = prep_building_type_and_cat_list_info()\n",
    "        widget_building_type = create_building_widgets(building_cat_list, building_type_list)\n",
    "        \n",
    "       \n",
    "        building_dict_temp = building_structure_client.list(AAA=AAA_meta_update_selected)\n",
    "        floor_no_metaupdate_list = []\n",
    "        for k, v in building_dict_temp.items():\n",
    "            for k1, v1 in v.items():\n",
    "                #print(str(k1))\n",
    "                floor_no_metaupdate_list.append(k1)\n",
    "                \n",
    "        input_floors_metadata_multiselect = widgets.SelectMultiple(\n",
    "            options=floor_no_metaupdate_list,\n",
    "            description='Floors:',\n",
    "            disabled=False,\n",
    "            layout = {'width' : '400px', 'height' : '400px'}\n",
    "        )\n",
    "                \n",
    "        floor_metadata_dict_list = read_floor_metadata(building_structure_client=building_structure_client,\n",
    "                                                       floors_list=floor_no_metaupdate_list)\n",
    "        \n",
    "        floors_type_metadata = widgets.SelectMultiple(\n",
    "            options=floor_metadata_dict_list,\n",
    "            description='Floors metadata:',\n",
    "            disabled=True,\n",
    "            layout = {'width' : '400px', 'height' : '400px'}\n",
    "        )\n",
    "        \n",
    "        \n",
    "        button_box = widgets.HBox([btn_add_types_to_floors, btn_clear_types_to_floors])\n",
    "        \n",
    "        content_box = widgets.HBox([widget_building_type, widgets.VBox([input_floors_metadata_multiselect, button_box])])\n",
    "        \n",
    "        bottom_box = widgets.HBox([btn_upload_building_types_and_cath_to_eep, chk_commit_upload_building_types_and_cath_to_eep])\n",
    "        \n",
    "        output =  widgets.VBox([content_box, lbl_spacer_update_metadata_type, bottom_box])\n",
    "        \n",
    "        \n",
    "        \n",
    "        #disables button after selected\n",
    "        btn_choose_metadata_to_update.disabled = True\n",
    "        rbtn_choose_metadata_to_update.disabled = True\n",
    "        \n",
    "        \n",
    "    #--------   \n",
    "    \n",
    "    elif rbtn_choose_metadata_to_update.value == 'Area':\n",
    "        output = str('Area chosen. No functionality here yet!')\n",
    "        \n",
    "        \n",
    "        \n",
    "        \n",
    "        \n",
    "        \n",
    "        \n",
    "        pass\n",
    "    \n",
    "    #---------\n",
    "    \n",
    "    \n",
    "    elif rbtn_choose_metadata_to_update.value == 'Room Type':\n",
    "        \n",
    "        #empty lists to start extraction from lists\n",
    "        data_list_for_room_type_update = []\n",
    "        data_list_for_room_type_update_type = []\n",
    "        \n",
    "        #retrieving data from raw and eep-api and creating selection widgets\n",
    "        room_type_update_meta_list = get_room_type_list_from_raw()\n",
    "        \n",
    "        try:\n",
    "            room_list = get_room_list_from_eep_api(input_rbtn_AAA_meta_update.value)\n",
    "            btn_add_type_to_room.disabled = False\n",
    "            \n",
    "        except:\n",
    "            room_list = []\n",
    "            btn_add_type_to_room.disabled = True\n",
    "            print('No rooms found! Try creating physical building.')\n",
    "\n",
    "        lbl_select_roomtype_list = widgets.Label(value='Room Types:')\n",
    "        select_roomtype_list = widgets.Select(\n",
    "            options=room_type_update_meta_list,\n",
    "            layout={'width': '250px', 'height' : '800px'}\n",
    "        )\n",
    "\n",
    "        lbl_spacer_room_type_to_room = widgets.Label(value='', layout={'width':'50px'})\n",
    "\n",
    "        lbl_select_rooms_list = widgets.Label(value='Rooms:')\n",
    "        select_room_list = widgets.SelectMultiple(\n",
    "            options=room_list,\n",
    "            layout={'width': '800px', 'height': '800px'},\n",
    "            disabled=False\n",
    "        )\n",
    "\n",
    "        output = widgets.HBox([widgets.VBox([lbl_select_roomtype_list, select_roomtype_list]),\n",
    "                               lbl_spacer_room_type_to_room , widgets.VBox([lbl_select_rooms_list,\n",
    "                                select_room_list, btn_add_type_to_room])])\n",
    "        \n",
    "        #disables button after selected\n",
    "        btn_choose_metadata_to_update.disabled = True\n",
    "        rbtn_choose_metadata_to_update.disabled = True\n",
    "    \n",
    "    else:\n",
    "        output = str('Nothing chosen')\n",
    "        pass\n",
    "    \n",
    "    with output_choose_type_update_meta:\n",
    "        output_choose_type_update_meta.clear_output()\n",
    "        display(output)\n",
    "        \n",
    "btn_choose_metadata_to_update.on_click(choose_type_update_meta)\n",
    "\n",
    "btn_add_types_to_floors = widgets.Button(description='Add')\n",
    "btn_clear_types_to_floors = widgets.Button(description='Clear types from selected floors', layout = {'width':'300px'})\n",
    "btn_clear_types_to_floors.style.button_color = 'yellow'\n",
    "\n",
    "widgets.VBox([output_choose_type_update_meta])"
   ]
  },
  {
   "cell_type": "code",
   "execution_count": 43,
   "metadata": {
    "ExecuteTime": {
     "end_time": "2021-02-03T13:55:51.245883Z",
     "start_time": "2021-02-03T13:55:51.214121Z"
    }
   },
   "outputs": [
    {
     "data": {
      "application/vnd.jupyter.widget-view+json": {
       "model_id": "dee6886ed50d4b71af95b83ca32aa53c",
       "version_major": 2,
       "version_minor": 0
      },
      "text/plain": [
       "VBox(children=(Output(),))"
      ]
     },
     "metadata": {},
     "output_type": "display_data"
    }
   ],
   "source": [
    "output_add_type_to_room_and_remove_item_from_list = widgets.Output()\n",
    "output_add_type_to_room_and_remove_item_from_list_text = widgets.Textarea(disabled=True, layout = {'width': '800pt', 'height': '300pt'})\n",
    "\n",
    "btn_upload_types_to_eep = widgets.Button(description='Update building structure with room types', layout = {'width': '300pt'})\n",
    "btn_upload_types_to_eep.style.button_color = 'lightgreen'\n",
    "\n",
    "data_list_for_room_type_update = []\n",
    "data_list_for_room_type_update_type = []\n",
    "\n",
    "def add_type_to_room_and_remove_item_from_list(i):\n",
    "    \n",
    "    global data_list_for_room_type_update, data_list_for_room_type_update_type\n",
    "    \n",
    "    active_room_list = select_room_list.value\n",
    "    \n",
    "    if len(active_room_list) > 0:\n",
    "    \n",
    "        data_list = get_values_from_selected_room_list(select_room_list.value)\n",
    "        data_list_for_room_type_update.append(data_list)\n",
    "\n",
    "        data_list_for_room_type_update_type.append(str(select_roomtype_list.value))\n",
    "\n",
    "        output = data_list_for_room_type_update\n",
    "\n",
    "        output_add_type_to_room_and_remove_item_from_list_text.value = str(output)\n",
    "\n",
    "        #removing items from list of all rooms in widget, that have been assigned room type\n",
    "        for item in active_room_list:\n",
    "            try:\n",
    "                room_list.remove(item)\n",
    "            except:\n",
    "                print('Error removing item from list of rooms...')\n",
    "\n",
    "        #updating widget content\n",
    "        select_room_list.options = room_list\n",
    "    \n",
    "   \n",
    "    with output_add_type_to_room_and_remove_item_from_list:\n",
    "        output_add_type_to_room_and_remove_item_from_list.clear_output()\n",
    "        display(widgets.VBox([output_add_type_to_room_and_remove_item_from_list_text, btn_upload_types_to_eep]))\n",
    "        \n",
    "btn_add_type_to_room.on_click(add_type_to_room_and_remove_item_from_list)\n",
    "\n",
    "widgets.VBox([output_add_type_to_room_and_remove_item_from_list])"
   ]
  },
  {
   "cell_type": "code",
   "execution_count": 44,
   "metadata": {
    "ExecuteTime": {
     "end_time": "2021-02-03T13:55:54.456791Z",
     "start_time": "2021-02-03T13:55:54.424892Z"
    }
   },
   "outputs": [
    {
     "data": {
      "application/vnd.jupyter.widget-view+json": {
       "model_id": "efd2575edfac4f1494aed4a38cb8de40",
       "version_major": 2,
       "version_minor": 0
      },
      "text/plain": [
       "VBox(children=(IntProgress(value=0, max=1), Output()))"
      ]
     },
     "metadata": {},
     "output_type": "display_data"
    }
   ],
   "source": [
    "output_uplad_all_types_to_eep = widgets.Output()\n",
    "\n",
    "\n",
    "f2_max_count = 1\n",
    "\n",
    "f2 = widgets.IntProgress(min=0, max=f2_max_count) # instantiate the bar\n",
    "\n",
    "def upload_all_types_to_eep(r):\n",
    "    \n",
    "    f2.value = 0\n",
    "   \n",
    "    f2.max = len(data_list_for_room_type_update_type) + 2\n",
    "    \n",
    "    for item in data_list_for_room_type_update_type:\n",
    "        for room in data_list_for_room_type_update[data_list_for_room_type_update_type.index(item)]:\n",
    "            building_structure_client.update_room(room_id= room[2], AAA=room[0], floor=room[1], type=str(item))\n",
    "        \n",
    "        f2.value +=1\n",
    "    \n",
    "    with output_uplad_all_types_to_eep:\n",
    "        output_uplad_all_types_to_eep.clear_output()\n",
    "        \n",
    "        building_structure_client.dump_building_structure()\n",
    "        f2.value +=1\n",
    "   \n",
    "        building_structure_client.commit()\n",
    "        f2.value +=1\n",
    "\n",
    "btn_upload_types_to_eep.on_click(upload_all_types_to_eep)\n",
    "\n",
    "widgets.VBox([f2, output_uplad_all_types_to_eep])"
   ]
  },
  {
   "cell_type": "code",
   "execution_count": 45,
   "metadata": {
    "ExecuteTime": {
     "end_time": "2021-02-03T13:55:57.981619Z",
     "start_time": "2021-02-03T13:55:57.977783Z"
    }
   },
   "outputs": [],
   "source": [
    "def add_types_to_floors(p):\n",
    "    \n",
    "    global building_type_list_selected, building_cath_list_selected\n",
    "    \n",
    "    for floor in input_floors_metadata_multiselect.value:\n",
    "#         building_type_str = \"\"\n",
    "#         building_cath_str = \"\"\n",
    "        \n",
    "        building_type_list_selected = building_type_widget_list[widget_building_type.selected_index].value\n",
    "        \n",
    "        building_cath_list_selected = building_cat_list[widget_building_type.selected_index]\n",
    "        \n",
    "        update_floor_metadata(floor_metadata_dict_list, floor_no=floor,\n",
    "                              building_type=building_type_list_selected,\n",
    "                              building_cathegory=building_cath_list_selected)\n",
    "        \n",
    "        #floors_type_metadata.options = floor_metadata_dict_list\n",
    "    \n",
    "btn_add_types_to_floors.on_click(add_types_to_floors)\n"
   ]
  },
  {
   "cell_type": "code",
   "execution_count": 46,
   "metadata": {
    "ExecuteTime": {
     "end_time": "2021-02-03T13:56:01.803263Z",
     "start_time": "2021-02-03T13:56:01.798454Z"
    }
   },
   "outputs": [],
   "source": [
    "def clear_types_to_floors(q):\n",
    "    for floor in input_floors_metadata_multiselect.value:\n",
    "        clear_floor_metadata(floors_metadata_list=floor_metadata_dict_list, floor_no=floor)\n",
    "\n",
    "    floors_type_metadata.options = floor_metadata_dict_list\n",
    "    \n",
    "btn_clear_types_to_floors.on_click(clear_types_to_floors)"
   ]
  },
  {
   "cell_type": "code",
   "execution_count": 47,
   "metadata": {
    "ExecuteTime": {
     "end_time": "2021-02-03T13:56:05.324094Z",
     "start_time": "2021-02-03T13:56:05.266152Z"
    }
   },
   "outputs": [
    {
     "data": {
      "application/vnd.jupyter.widget-view+json": {
       "model_id": "32e8af0d0f2042b6bcb9c6207fe0565e",
       "version_major": 2,
       "version_minor": 0
      },
      "text/plain": [
       "VBox(children=(Output(),))"
      ]
     },
     "metadata": {},
     "output_type": "display_data"
    }
   ],
   "source": [
    "def upload_building_types_and_cath_to_eep_metadata(s):\n",
    "    \n",
    "    for floor_item in floor_metadata_dict_list:\n",
    "        \n",
    "        floor = floor_item.get('floor_no')\n",
    "        \n",
    "        #read metadata for selected flor/item\n",
    "        floor_metadata = building_structure_client.list_metadata(AAA=input_rbtn_AAA_meta_update.value, floor=floor)\n",
    "        \n",
    "        if floor_metadata == None:\n",
    "            floor_metadata = {}\n",
    "        \n",
    "        #update the metadata instance for this floor / item -> localy\n",
    "        floor_metadata.update(floor_item)\n",
    "        \n",
    "        #run -metadata()\n",
    "        \n",
    "        building_structure_client.metadata(metadata = floor_metadata, AAA=input_rbtn_AAA_meta_update.value, floor=floor)\n",
    "    \n",
    "    #upload to eep\n",
    "    if chk_commit_upload_building_types_and_cath_to_eep.value == False:\n",
    "        \n",
    "        building_structure_client.commit()\n",
    "    \n",
    "    \n",
    "    with output_upload_building_types_and_cath_to_eep:\n",
    "        output_upload_building_types_and_cath_to_eep.clear_output()\n",
    "        \n",
    "        building_structure_client.dump_building_structure()\n",
    "        \n",
    "        if chk_commit_upload_building_types_and_cath_to_eep.value == False:\n",
    "            display(print('Upladed to EEP!'))\n",
    "        else:\n",
    "            display(print('Test print out!'))\n",
    "\n",
    "output_upload_building_types_and_cath_to_eep = widgets.Output()\n",
    "btn_upload_building_types_and_cath_to_eep = widgets.Button(description='UPLOAD Floor types and cathegories to EEP', layout = {'width':'350px'})\n",
    "btn_upload_building_types_and_cath_to_eep.style.button_color = 'lightgreen'\n",
    "btn_upload_building_types_and_cath_to_eep.on_click(upload_building_types_and_cath_to_eep_metadata)\n",
    "\n",
    "widgets.VBox([output_upload_building_types_and_cath_to_eep])"
   ]
  },
  {
   "cell_type": "markdown",
   "metadata": {},
   "source": [
    "***"
   ]
  },
  {
   "cell_type": "markdown",
   "metadata": {},
   "source": [
    "[HOME](https://eepcloud.ngrok.io)"
   ]
  },
  {
   "cell_type": "code",
   "execution_count": null,
   "metadata": {},
   "outputs": [],
   "source": []
  }
 ],
 "metadata": {
  "kernelspec": {
   "display_name": "Python 3",
   "language": "python",
   "name": "python3"
  },
  "language_info": {
   "codemirror_mode": {
    "name": "ipython",
    "version": 3
   },
   "file_extension": ".py",
   "mimetype": "text/x-python",
   "name": "python",
   "nbconvert_exporter": "python",
   "pygments_lexer": "ipython3",
   "version": "3.8.5"
  },
  "toc": {
   "base_numbering": 1,
   "nav_menu": {},
   "number_sections": true,
   "sideBar": true,
   "skip_h1_title": false,
   "title_cell": "Table of Contents",
   "title_sidebar": "Contents",
   "toc_cell": false,
   "toc_position": {
    "height": "calc(100% - 180px)",
    "left": "10px",
    "top": "150px",
    "width": "227.8px"
   },
   "toc_section_display": true,
   "toc_window_display": true
  },
  "varInspector": {
   "cols": {
    "lenName": 16,
    "lenType": 16,
    "lenVar": 40
   },
   "kernels_config": {
    "python": {
     "delete_cmd_postfix": "",
     "delete_cmd_prefix": "del ",
     "library": "var_list.py",
     "varRefreshCmd": "print(var_dic_list())"
    },
    "r": {
     "delete_cmd_postfix": ") ",
     "delete_cmd_prefix": "rm(",
     "library": "var_list.r",
     "varRefreshCmd": "cat(var_dic_list()) "
    }
   },
   "position": {
    "height": "988.85px",
    "left": "1631px",
    "right": "20px",
    "top": "136px",
    "width": "256px"
   },
   "types_to_exclude": [
    "module",
    "function",
    "builtin_function_or_method",
    "instance",
    "_Feature"
   ],
   "window_display": true
  }
 },
 "nbformat": 4,
 "nbformat_minor": 4
}
